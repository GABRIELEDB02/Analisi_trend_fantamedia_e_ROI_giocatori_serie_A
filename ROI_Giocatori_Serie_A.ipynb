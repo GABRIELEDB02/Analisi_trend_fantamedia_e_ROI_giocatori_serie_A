{
 "cells": [
  {
   "cell_type": "markdown",
   "id": "5591a5f8",
   "metadata": {},
   "source": [
    "<font color='black'><font size=\"5\"> QUESTO NOTEBOOK SI PREFIGGE L'OBIETTIVO DI ANALIZZARE LE PRESTAZIONI DEI GIOCATORI DI SERIE A NELLA STAGIONE 2021-2022 E DI EFFETTUARRE UNA VALUTAZIONE RISPETTO AL PREZZO PAGATO IN SEDE DI ASTA AL FINE DI DETERMINARE I GIOCATORI CHE HANNO GENERATO IL MAGGIOR RITORNO SULL'INVESTIMENTO (ROI) CONTRIBUENDO IN MODO FONDAMENTALE AL SUCCESSO DELLA SQUADRA </font>\n",
    "***\n",
    "    \n",
    "I DATI SU CUI SI BASA L'ANALISI SONO OPEN (FORNITI DA FANTACALCIO.IT) E SONO STATI INTEGRATI CON I PREZZI DI ACQUISTO DEI CALCILATORI DELLA MIA LEGA PRIVATA FANTACALCIO\n",
    "   "
   ]
  },
  {
   "cell_type": "code",
   "execution_count": 1,
   "id": "7540cb88",
   "metadata": {
    "ExecuteTime": {
     "end_time": "2022-09-11T09:36:44.778226Z",
     "start_time": "2022-09-11T09:36:31.522541Z"
    }
   },
   "outputs": [],
   "source": [
    "# Import librerie necessarie\n",
    "import matplotlib.pyplot as plt\n",
    "import pandas as pd\n",
    "import numpy as np\n",
    "import seaborn as sns\n",
    "%matplotlib inline\n",
    "import pandas_log\n",
    "import dtale"
   ]
  },
  {
   "cell_type": "code",
   "execution_count": 2,
   "id": "f59c6980",
   "metadata": {
    "ExecuteTime": {
     "end_time": "2022-09-11T09:36:45.593160Z",
     "start_time": "2022-09-11T09:36:44.781214Z"
    }
   },
   "outputs": [],
   "source": [
    "# Import del dataset\n",
    "roi_serie_a = pd.read_excel('Analisi_value_for_money_giocatori_serie_A_21_22..xlsx')"
   ]
  },
  {
   "cell_type": "code",
   "execution_count": 3,
   "id": "55ad744b",
   "metadata": {
    "ExecuteTime": {
     "end_time": "2022-09-11T09:36:45.624915Z",
     "start_time": "2022-09-11T09:36:45.595157Z"
    }
   },
   "outputs": [
    {
     "data": {
      "text/html": [
       "<div>\n",
       "<style scoped>\n",
       "    .dataframe tbody tr th:only-of-type {\n",
       "        vertical-align: middle;\n",
       "    }\n",
       "\n",
       "    .dataframe tbody tr th {\n",
       "        vertical-align: top;\n",
       "    }\n",
       "\n",
       "    .dataframe thead th {\n",
       "        text-align: right;\n",
       "    }\n",
       "</style>\n",
       "<table border=\"1\" class=\"dataframe\">\n",
       "  <thead>\n",
       "    <tr style=\"text-align: right;\">\n",
       "      <th></th>\n",
       "      <th>Id</th>\n",
       "      <th>R</th>\n",
       "      <th>Nome</th>\n",
       "      <th>Squadra</th>\n",
       "      <th>Prezzo asta</th>\n",
       "      <th>Pv</th>\n",
       "      <th>Mf</th>\n",
       "    </tr>\n",
       "  </thead>\n",
       "  <tbody>\n",
       "    <tr>\n",
       "      <th>0</th>\n",
       "      <td>5735</td>\n",
       "      <td>C</td>\n",
       "      <td>Volpato</td>\n",
       "      <td>Roma</td>\n",
       "      <td>1</td>\n",
       "      <td>1</td>\n",
       "      <td>10.00</td>\n",
       "    </tr>\n",
       "    <tr>\n",
       "      <th>1</th>\n",
       "      <td>2841</td>\n",
       "      <td>A</td>\n",
       "      <td>Vlahovic</td>\n",
       "      <td>Juventus</td>\n",
       "      <td>86</td>\n",
       "      <td>36</td>\n",
       "      <td>8.29</td>\n",
       "    </tr>\n",
       "    <tr>\n",
       "      <th>2</th>\n",
       "      <td>309</td>\n",
       "      <td>A</td>\n",
       "      <td>Dybala</td>\n",
       "      <td>Juventus</td>\n",
       "      <td>81</td>\n",
       "      <td>28</td>\n",
       "      <td>7.41</td>\n",
       "    </tr>\n",
       "    <tr>\n",
       "      <th>3</th>\n",
       "      <td>407</td>\n",
       "      <td>A</td>\n",
       "      <td>Gabbiadini</td>\n",
       "      <td>Sampdoria</td>\n",
       "      <td>2</td>\n",
       "      <td>16</td>\n",
       "      <td>7.31</td>\n",
       "    </tr>\n",
       "    <tr>\n",
       "      <th>4</th>\n",
       "      <td>441</td>\n",
       "      <td>A</td>\n",
       "      <td>Belotti</td>\n",
       "      <td>Torino</td>\n",
       "      <td>50</td>\n",
       "      <td>22</td>\n",
       "      <td>7.30</td>\n",
       "    </tr>\n",
       "  </tbody>\n",
       "</table>\n",
       "</div>"
      ],
      "text/plain": [
       "     Id  R        Nome    Squadra  Prezzo asta  Pv     Mf\n",
       "0  5735  C     Volpato       Roma            1   1  10.00\n",
       "1  2841  A    Vlahovic   Juventus           86  36   8.29\n",
       "2   309  A      Dybala   Juventus           81  28   7.41\n",
       "3   407  A  Gabbiadini  Sampdoria            2  16   7.31\n",
       "4   441  A     Belotti     Torino           50  22   7.30"
      ]
     },
     "execution_count": 3,
     "metadata": {},
     "output_type": "execute_result"
    }
   ],
   "source": [
    "# Prima visualizzazione del dataset\n",
    "roi_serie_a.head(5)"
   ]
  },
  {
   "cell_type": "markdown",
   "id": "bccd66d7",
   "metadata": {},
   "source": [
    "Qui osserviamo che tutte le colonne, ad eccezione di \"Prezzo asta\", provengono dal dataset di Fantacalcio.it. Il prezzo pagato all'asta è invece recuperato dai dati della mia lega privata. Chiaramente sono stati presi in considerazione soltanto quei calciatori che sono stati acquistati in sede di asta."
   ]
  },
  {
   "cell_type": "code",
   "execution_count": 4,
   "id": "2eae33c4",
   "metadata": {
    "ExecuteTime": {
     "end_time": "2022-09-11T09:36:45.641138Z",
     "start_time": "2022-09-11T09:36:45.627876Z"
    }
   },
   "outputs": [],
   "source": [
    "# Calcoliamo un ritorno complessivo in termini di fantapunti generati per ciascun calciatore, moltiplicando il numero di presenze per la fantamedia\n",
    "roi_serie_a['Ritorno_tot_mf'] = roi_serie_a['Pv']*roi_serie_a['Mf']"
   ]
  },
  {
   "cell_type": "markdown",
   "id": "5fbc8416",
   "metadata": {},
   "source": [
    "Il calcolo precedente è utile per discriminare tra giocatori che, pur avendo una fantamedia elevata, hanno disputato soltanto poche partire in serie A (es. Volpato della Roma) e gli altri giocatori"
   ]
  },
  {
   "cell_type": "code",
   "execution_count": 5,
   "id": "34e3a1dc",
   "metadata": {
    "ExecuteTime": {
     "end_time": "2022-09-11T09:36:45.656559Z",
     "start_time": "2022-09-11T09:36:45.642962Z"
    }
   },
   "outputs": [],
   "source": [
    "# A questo punto possiamo dividere il ritorno complessivo per il prezzo pagato in sede di asta per determinare il ROI\n",
    "roi_serie_a['ROI'] = roi_serie_a['Ritorno_tot_mf']/roi_serie_a['Prezzo asta']"
   ]
  },
  {
   "cell_type": "code",
   "execution_count": 6,
   "id": "cb1d1747",
   "metadata": {
    "ExecuteTime": {
     "end_time": "2022-09-11T09:36:45.672516Z",
     "start_time": "2022-09-11T09:36:45.657555Z"
    }
   },
   "outputs": [
    {
     "data": {
      "text/html": [
       "<div>\n",
       "<style scoped>\n",
       "    .dataframe tbody tr th:only-of-type {\n",
       "        vertical-align: middle;\n",
       "    }\n",
       "\n",
       "    .dataframe tbody tr th {\n",
       "        vertical-align: top;\n",
       "    }\n",
       "\n",
       "    .dataframe thead th {\n",
       "        text-align: right;\n",
       "    }\n",
       "</style>\n",
       "<table border=\"1\" class=\"dataframe\">\n",
       "  <thead>\n",
       "    <tr style=\"text-align: right;\">\n",
       "      <th></th>\n",
       "      <th>Id</th>\n",
       "      <th>R</th>\n",
       "      <th>Nome</th>\n",
       "      <th>Squadra</th>\n",
       "      <th>Prezzo asta</th>\n",
       "      <th>Pv</th>\n",
       "      <th>Mf</th>\n",
       "      <th>Ritorno_tot_mf</th>\n",
       "      <th>ROI</th>\n",
       "    </tr>\n",
       "  </thead>\n",
       "  <tbody>\n",
       "    <tr>\n",
       "      <th>213</th>\n",
       "      <td>1958</td>\n",
       "      <td>A</td>\n",
       "      <td>Caprari</td>\n",
       "      <td>Verona</td>\n",
       "      <td>1</td>\n",
       "      <td>34</td>\n",
       "      <td>7.71</td>\n",
       "      <td>262.14</td>\n",
       "      <td>262.14</td>\n",
       "    </tr>\n",
       "    <tr>\n",
       "      <th>279</th>\n",
       "      <td>2038</td>\n",
       "      <td>A</td>\n",
       "      <td>Pinamonti</td>\n",
       "      <td>Empoli</td>\n",
       "      <td>1</td>\n",
       "      <td>36</td>\n",
       "      <td>7.12</td>\n",
       "      <td>256.32</td>\n",
       "      <td>256.32</td>\n",
       "    </tr>\n",
       "    <tr>\n",
       "      <th>315</th>\n",
       "      <td>4890</td>\n",
       "      <td>C</td>\n",
       "      <td>Tameze</td>\n",
       "      <td>Verona</td>\n",
       "      <td>1</td>\n",
       "      <td>36</td>\n",
       "      <td>6.61</td>\n",
       "      <td>237.96</td>\n",
       "      <td>237.96</td>\n",
       "    </tr>\n",
       "    <tr>\n",
       "      <th>234</th>\n",
       "      <td>2848</td>\n",
       "      <td>C</td>\n",
       "      <td>Frattesi</td>\n",
       "      <td>Sassuolo</td>\n",
       "      <td>1</td>\n",
       "      <td>36</td>\n",
       "      <td>6.44</td>\n",
       "      <td>231.84</td>\n",
       "      <td>231.84</td>\n",
       "    </tr>\n",
       "    <tr>\n",
       "      <th>265</th>\n",
       "      <td>2009</td>\n",
       "      <td>C</td>\n",
       "      <td>Lukic</td>\n",
       "      <td>Torino</td>\n",
       "      <td>1</td>\n",
       "      <td>35</td>\n",
       "      <td>6.60</td>\n",
       "      <td>231.00</td>\n",
       "      <td>231.00</td>\n",
       "    </tr>\n",
       "    <tr>\n",
       "      <th>325</th>\n",
       "      <td>5355</td>\n",
       "      <td>D</td>\n",
       "      <td>Udogie</td>\n",
       "      <td>Udinese</td>\n",
       "      <td>1</td>\n",
       "      <td>34</td>\n",
       "      <td>6.50</td>\n",
       "      <td>221.00</td>\n",
       "      <td>221.00</td>\n",
       "    </tr>\n",
       "    <tr>\n",
       "      <th>184</th>\n",
       "      <td>505</td>\n",
       "      <td>A</td>\n",
       "      <td>Bonazzoli</td>\n",
       "      <td>Salernitana</td>\n",
       "      <td>1</td>\n",
       "      <td>31</td>\n",
       "      <td>7.08</td>\n",
       "      <td>219.48</td>\n",
       "      <td>219.48</td>\n",
       "    </tr>\n",
       "    <tr>\n",
       "      <th>340</th>\n",
       "      <td>4376</td>\n",
       "      <td>C</td>\n",
       "      <td>Zurkowski</td>\n",
       "      <td>Empoli</td>\n",
       "      <td>1</td>\n",
       "      <td>33</td>\n",
       "      <td>6.62</td>\n",
       "      <td>218.46</td>\n",
       "      <td>218.46</td>\n",
       "    </tr>\n",
       "    <tr>\n",
       "      <th>293</th>\n",
       "      <td>4409</td>\n",
       "      <td>D</td>\n",
       "      <td>Rrahmani</td>\n",
       "      <td>Napoli</td>\n",
       "      <td>1</td>\n",
       "      <td>33</td>\n",
       "      <td>6.50</td>\n",
       "      <td>214.50</td>\n",
       "      <td>214.50</td>\n",
       "    </tr>\n",
       "    <tr>\n",
       "      <th>11</th>\n",
       "      <td>4412</td>\n",
       "      <td>D</td>\n",
       "      <td>Rodrigo Becao</td>\n",
       "      <td>Udinese</td>\n",
       "      <td>1</td>\n",
       "      <td>35</td>\n",
       "      <td>6.11</td>\n",
       "      <td>213.85</td>\n",
       "      <td>213.85</td>\n",
       "    </tr>\n",
       "  </tbody>\n",
       "</table>\n",
       "</div>"
      ],
      "text/plain": [
       "       Id  R           Nome      Squadra  Prezzo asta  Pv    Mf  \\\n",
       "213  1958  A        Caprari       Verona            1  34  7.71   \n",
       "279  2038  A      Pinamonti       Empoli            1  36  7.12   \n",
       "315  4890  C         Tameze       Verona            1  36  6.61   \n",
       "234  2848  C       Frattesi     Sassuolo            1  36  6.44   \n",
       "265  2009  C          Lukic       Torino            1  35  6.60   \n",
       "325  5355  D         Udogie      Udinese            1  34  6.50   \n",
       "184   505  A      Bonazzoli  Salernitana            1  31  7.08   \n",
       "340  4376  C      Zurkowski       Empoli            1  33  6.62   \n",
       "293  4409  D       Rrahmani       Napoli            1  33  6.50   \n",
       "11   4412  D  Rodrigo Becao      Udinese            1  35  6.11   \n",
       "\n",
       "     Ritorno_tot_mf     ROI  \n",
       "213          262.14  262.14  \n",
       "279          256.32  256.32  \n",
       "315          237.96  237.96  \n",
       "234          231.84  231.84  \n",
       "265          231.00  231.00  \n",
       "325          221.00  221.00  \n",
       "184          219.48  219.48  \n",
       "340          218.46  218.46  \n",
       "293          214.50  214.50  \n",
       "11           213.85  213.85  "
      ]
     },
     "execution_count": 6,
     "metadata": {},
     "output_type": "execute_result"
    }
   ],
   "source": [
    "# Vediamo subito i primi 10 giocatori per ROI nella passata stagione\n",
    "roi_serie_a.sort_values(by='ROI', ascending=False).head(10)"
   ]
  },
  {
   "cell_type": "markdown",
   "id": "a295a900",
   "metadata": {},
   "source": [
    "Vediamo subito come questi 10 giocatori abbiano rappresentato un buon investimento per le squadre. I fantallenatori hanno infatti dovuto spendere un solo credito per assicurarsi dei calciatori che hanno assicurato un ottimo rendimento, giocando oltre 30 partite stagionali.\n",
    "\n",
    "Osserviamo ora i top 10 per reparto"
   ]
  },
  {
   "cell_type": "code",
   "execution_count": 7,
   "id": "e9fe8bb3",
   "metadata": {
    "ExecuteTime": {
     "end_time": "2022-09-11T09:36:45.703464Z",
     "start_time": "2022-09-11T09:36:45.674512Z"
    }
   },
   "outputs": [
    {
     "data": {
      "text/html": [
       "<div>\n",
       "<style scoped>\n",
       "    .dataframe tbody tr th:only-of-type {\n",
       "        vertical-align: middle;\n",
       "    }\n",
       "\n",
       "    .dataframe tbody tr th {\n",
       "        vertical-align: top;\n",
       "    }\n",
       "\n",
       "    .dataframe thead th {\n",
       "        text-align: right;\n",
       "    }\n",
       "</style>\n",
       "<table border=\"1\" class=\"dataframe\">\n",
       "  <thead>\n",
       "    <tr style=\"text-align: right;\">\n",
       "      <th></th>\n",
       "      <th>Id</th>\n",
       "      <th>R</th>\n",
       "      <th>Nome</th>\n",
       "      <th>Squadra</th>\n",
       "      <th>Prezzo asta</th>\n",
       "      <th>Pv</th>\n",
       "      <th>Mf</th>\n",
       "      <th>Ritorno_tot_mf</th>\n",
       "      <th>ROI</th>\n",
       "    </tr>\n",
       "  </thead>\n",
       "  <tbody>\n",
       "    <tr>\n",
       "      <th>47</th>\n",
       "      <td>2815</td>\n",
       "      <td>P</td>\n",
       "      <td>Terracciano</td>\n",
       "      <td>Fiorentina</td>\n",
       "      <td>1</td>\n",
       "      <td>32</td>\n",
       "      <td>4.70</td>\n",
       "      <td>150.40</td>\n",
       "      <td>150.400000</td>\n",
       "    </tr>\n",
       "    <tr>\n",
       "      <th>202</th>\n",
       "      <td>2814</td>\n",
       "      <td>P</td>\n",
       "      <td>Provedel</td>\n",
       "      <td>Spezia</td>\n",
       "      <td>1</td>\n",
       "      <td>31</td>\n",
       "      <td>4.50</td>\n",
       "      <td>139.50</td>\n",
       "      <td>139.500000</td>\n",
       "    </tr>\n",
       "    <tr>\n",
       "      <th>29</th>\n",
       "      <td>159</td>\n",
       "      <td>P</td>\n",
       "      <td>Sepe</td>\n",
       "      <td>Salernitana</td>\n",
       "      <td>1</td>\n",
       "      <td>16</td>\n",
       "      <td>4.62</td>\n",
       "      <td>73.92</td>\n",
       "      <td>73.920000</td>\n",
       "    </tr>\n",
       "    <tr>\n",
       "      <th>164</th>\n",
       "      <td>4964</td>\n",
       "      <td>P</td>\n",
       "      <td>Vicario</td>\n",
       "      <td>Empoli</td>\n",
       "      <td>3</td>\n",
       "      <td>38</td>\n",
       "      <td>4.72</td>\n",
       "      <td>179.36</td>\n",
       "      <td>59.786667</td>\n",
       "    </tr>\n",
       "    <tr>\n",
       "      <th>89</th>\n",
       "      <td>133</td>\n",
       "      <td>P</td>\n",
       "      <td>Skorupski</td>\n",
       "      <td>Bologna</td>\n",
       "      <td>3</td>\n",
       "      <td>36</td>\n",
       "      <td>4.82</td>\n",
       "      <td>173.52</td>\n",
       "      <td>57.840000</td>\n",
       "    </tr>\n",
       "    <tr>\n",
       "      <th>131</th>\n",
       "      <td>2179</td>\n",
       "      <td>P</td>\n",
       "      <td>Sirigu</td>\n",
       "      <td>Genoa</td>\n",
       "      <td>3</td>\n",
       "      <td>37</td>\n",
       "      <td>4.65</td>\n",
       "      <td>172.05</td>\n",
       "      <td>57.350000</td>\n",
       "    </tr>\n",
       "    <tr>\n",
       "      <th>135</th>\n",
       "      <td>316</td>\n",
       "      <td>P</td>\n",
       "      <td>Berisha</td>\n",
       "      <td>Torino</td>\n",
       "      <td>1</td>\n",
       "      <td>10</td>\n",
       "      <td>5.55</td>\n",
       "      <td>55.50</td>\n",
       "      <td>55.500000</td>\n",
       "    </tr>\n",
       "    <tr>\n",
       "      <th>27</th>\n",
       "      <td>4957</td>\n",
       "      <td>P</td>\n",
       "      <td>Montipo'</td>\n",
       "      <td>Verona</td>\n",
       "      <td>3</td>\n",
       "      <td>34</td>\n",
       "      <td>4.78</td>\n",
       "      <td>162.52</td>\n",
       "      <td>54.173333</td>\n",
       "    </tr>\n",
       "    <tr>\n",
       "      <th>182</th>\n",
       "      <td>2134</td>\n",
       "      <td>P</td>\n",
       "      <td>Falcone</td>\n",
       "      <td>Sampdoria</td>\n",
       "      <td>1</td>\n",
       "      <td>10</td>\n",
       "      <td>5.00</td>\n",
       "      <td>50.00</td>\n",
       "      <td>50.000000</td>\n",
       "    </tr>\n",
       "    <tr>\n",
       "      <th>26</th>\n",
       "      <td>2170</td>\n",
       "      <td>P</td>\n",
       "      <td>Milinkovic-Savic V.</td>\n",
       "      <td>Torino</td>\n",
       "      <td>4</td>\n",
       "      <td>27</td>\n",
       "      <td>4.87</td>\n",
       "      <td>131.49</td>\n",
       "      <td>32.872500</td>\n",
       "    </tr>\n",
       "  </tbody>\n",
       "</table>\n",
       "</div>"
      ],
      "text/plain": [
       "       Id  R                 Nome      Squadra  Prezzo asta  Pv    Mf  \\\n",
       "47   2815  P          Terracciano   Fiorentina            1  32  4.70   \n",
       "202  2814  P             Provedel       Spezia            1  31  4.50   \n",
       "29    159  P                 Sepe  Salernitana            1  16  4.62   \n",
       "164  4964  P              Vicario       Empoli            3  38  4.72   \n",
       "89    133  P            Skorupski      Bologna            3  36  4.82   \n",
       "131  2179  P               Sirigu        Genoa            3  37  4.65   \n",
       "135   316  P              Berisha       Torino            1  10  5.55   \n",
       "27   4957  P             Montipo'       Verona            3  34  4.78   \n",
       "182  2134  P              Falcone    Sampdoria            1  10  5.00   \n",
       "26   2170  P  Milinkovic-Savic V.       Torino            4  27  4.87   \n",
       "\n",
       "     Ritorno_tot_mf         ROI  \n",
       "47           150.40  150.400000  \n",
       "202          139.50  139.500000  \n",
       "29            73.92   73.920000  \n",
       "164          179.36   59.786667  \n",
       "89           173.52   57.840000  \n",
       "131          172.05   57.350000  \n",
       "135           55.50   55.500000  \n",
       "27           162.52   54.173333  \n",
       "182           50.00   50.000000  \n",
       "26           131.49   32.872500  "
      ]
     },
     "execution_count": 7,
     "metadata": {},
     "output_type": "execute_result"
    }
   ],
   "source": [
    "# Migliori 10 portieri per ROI\n",
    "roi_serie_a[roi_serie_a['R']== 'P'].sort_values(by='ROI', ascending=False).head(10)"
   ]
  },
  {
   "cell_type": "code",
   "execution_count": 8,
   "id": "a7204435",
   "metadata": {
    "ExecuteTime": {
     "end_time": "2022-09-11T09:36:45.719390Z",
     "start_time": "2022-09-11T09:36:45.704454Z"
    }
   },
   "outputs": [
    {
     "data": {
      "text/html": [
       "<div>\n",
       "<style scoped>\n",
       "    .dataframe tbody tr th:only-of-type {\n",
       "        vertical-align: middle;\n",
       "    }\n",
       "\n",
       "    .dataframe tbody tr th {\n",
       "        vertical-align: top;\n",
       "    }\n",
       "\n",
       "    .dataframe thead th {\n",
       "        text-align: right;\n",
       "    }\n",
       "</style>\n",
       "<table border=\"1\" class=\"dataframe\">\n",
       "  <thead>\n",
       "    <tr style=\"text-align: right;\">\n",
       "      <th></th>\n",
       "      <th>Id</th>\n",
       "      <th>R</th>\n",
       "      <th>Nome</th>\n",
       "      <th>Squadra</th>\n",
       "      <th>Prezzo asta</th>\n",
       "      <th>Pv</th>\n",
       "      <th>Mf</th>\n",
       "      <th>Ritorno_tot_mf</th>\n",
       "      <th>ROI</th>\n",
       "    </tr>\n",
       "  </thead>\n",
       "  <tbody>\n",
       "    <tr>\n",
       "      <th>325</th>\n",
       "      <td>5355</td>\n",
       "      <td>D</td>\n",
       "      <td>Udogie</td>\n",
       "      <td>Udinese</td>\n",
       "      <td>1</td>\n",
       "      <td>34</td>\n",
       "      <td>6.50</td>\n",
       "      <td>221.00</td>\n",
       "      <td>221.00</td>\n",
       "    </tr>\n",
       "    <tr>\n",
       "      <th>293</th>\n",
       "      <td>4409</td>\n",
       "      <td>D</td>\n",
       "      <td>Rrahmani</td>\n",
       "      <td>Napoli</td>\n",
       "      <td>1</td>\n",
       "      <td>33</td>\n",
       "      <td>6.50</td>\n",
       "      <td>214.50</td>\n",
       "      <td>214.50</td>\n",
       "    </tr>\n",
       "    <tr>\n",
       "      <th>11</th>\n",
       "      <td>4412</td>\n",
       "      <td>D</td>\n",
       "      <td>Rodrigo Becao</td>\n",
       "      <td>Udinese</td>\n",
       "      <td>1</td>\n",
       "      <td>35</td>\n",
       "      <td>6.11</td>\n",
       "      <td>213.85</td>\n",
       "      <td>213.85</td>\n",
       "    </tr>\n",
       "    <tr>\n",
       "      <th>173</th>\n",
       "      <td>5498</td>\n",
       "      <td>D</td>\n",
       "      <td>Casale</td>\n",
       "      <td>Verona</td>\n",
       "      <td>1</td>\n",
       "      <td>34</td>\n",
       "      <td>5.90</td>\n",
       "      <td>200.60</td>\n",
       "      <td>200.60</td>\n",
       "    </tr>\n",
       "    <tr>\n",
       "      <th>42</th>\n",
       "      <td>4329</td>\n",
       "      <td>D</td>\n",
       "      <td>Nikolaou</td>\n",
       "      <td>Spezia</td>\n",
       "      <td>1</td>\n",
       "      <td>36</td>\n",
       "      <td>5.51</td>\n",
       "      <td>198.36</td>\n",
       "      <td>198.36</td>\n",
       "    </tr>\n",
       "    <tr>\n",
       "      <th>77</th>\n",
       "      <td>2104</td>\n",
       "      <td>D</td>\n",
       "      <td>Bereszynski</td>\n",
       "      <td>Sampdoria</td>\n",
       "      <td>1</td>\n",
       "      <td>35</td>\n",
       "      <td>5.66</td>\n",
       "      <td>198.10</td>\n",
       "      <td>198.10</td>\n",
       "    </tr>\n",
       "    <tr>\n",
       "      <th>178</th>\n",
       "      <td>1891</td>\n",
       "      <td>D</td>\n",
       "      <td>Ceccherini</td>\n",
       "      <td>Verona</td>\n",
       "      <td>1</td>\n",
       "      <td>34</td>\n",
       "      <td>5.81</td>\n",
       "      <td>197.54</td>\n",
       "      <td>197.54</td>\n",
       "    </tr>\n",
       "    <tr>\n",
       "      <th>72</th>\n",
       "      <td>5450</td>\n",
       "      <td>D</td>\n",
       "      <td>Stojanovic</td>\n",
       "      <td>Empoli</td>\n",
       "      <td>1</td>\n",
       "      <td>33</td>\n",
       "      <td>5.86</td>\n",
       "      <td>193.38</td>\n",
       "      <td>193.38</td>\n",
       "    </tr>\n",
       "    <tr>\n",
       "      <th>211</th>\n",
       "      <td>2169</td>\n",
       "      <td>D</td>\n",
       "      <td>Rodriguez R.</td>\n",
       "      <td>Torino</td>\n",
       "      <td>1</td>\n",
       "      <td>32</td>\n",
       "      <td>6.02</td>\n",
       "      <td>192.64</td>\n",
       "      <td>192.64</td>\n",
       "    </tr>\n",
       "    <tr>\n",
       "      <th>219</th>\n",
       "      <td>5481</td>\n",
       "      <td>D</td>\n",
       "      <td>Mazzocchi</td>\n",
       "      <td>Salernitana</td>\n",
       "      <td>1</td>\n",
       "      <td>32</td>\n",
       "      <td>5.84</td>\n",
       "      <td>186.88</td>\n",
       "      <td>186.88</td>\n",
       "    </tr>\n",
       "  </tbody>\n",
       "</table>\n",
       "</div>"
      ],
      "text/plain": [
       "       Id  R           Nome      Squadra  Prezzo asta  Pv    Mf  \\\n",
       "325  5355  D         Udogie      Udinese            1  34  6.50   \n",
       "293  4409  D       Rrahmani       Napoli            1  33  6.50   \n",
       "11   4412  D  Rodrigo Becao      Udinese            1  35  6.11   \n",
       "173  5498  D         Casale       Verona            1  34  5.90   \n",
       "42   4329  D       Nikolaou       Spezia            1  36  5.51   \n",
       "77   2104  D    Bereszynski    Sampdoria            1  35  5.66   \n",
       "178  1891  D     Ceccherini       Verona            1  34  5.81   \n",
       "72   5450  D     Stojanovic       Empoli            1  33  5.86   \n",
       "211  2169  D   Rodriguez R.       Torino            1  32  6.02   \n",
       "219  5481  D      Mazzocchi  Salernitana            1  32  5.84   \n",
       "\n",
       "     Ritorno_tot_mf     ROI  \n",
       "325          221.00  221.00  \n",
       "293          214.50  214.50  \n",
       "11           213.85  213.85  \n",
       "173          200.60  200.60  \n",
       "42           198.36  198.36  \n",
       "77           198.10  198.10  \n",
       "178          197.54  197.54  \n",
       "72           193.38  193.38  \n",
       "211          192.64  192.64  \n",
       "219          186.88  186.88  "
      ]
     },
     "execution_count": 8,
     "metadata": {},
     "output_type": "execute_result"
    }
   ],
   "source": [
    "# Migliori 10 difensori per ROI\n",
    "roi_serie_a[roi_serie_a['R']== 'D'].sort_values(by='ROI', ascending=False).head(10)"
   ]
  },
  {
   "cell_type": "code",
   "execution_count": 9,
   "id": "ee784b07",
   "metadata": {
    "ExecuteTime": {
     "end_time": "2022-09-11T09:36:45.750546Z",
     "start_time": "2022-09-11T09:36:45.720388Z"
    }
   },
   "outputs": [
    {
     "data": {
      "text/html": [
       "<div>\n",
       "<style scoped>\n",
       "    .dataframe tbody tr th:only-of-type {\n",
       "        vertical-align: middle;\n",
       "    }\n",
       "\n",
       "    .dataframe tbody tr th {\n",
       "        vertical-align: top;\n",
       "    }\n",
       "\n",
       "    .dataframe thead th {\n",
       "        text-align: right;\n",
       "    }\n",
       "</style>\n",
       "<table border=\"1\" class=\"dataframe\">\n",
       "  <thead>\n",
       "    <tr style=\"text-align: right;\">\n",
       "      <th></th>\n",
       "      <th>Id</th>\n",
       "      <th>R</th>\n",
       "      <th>Nome</th>\n",
       "      <th>Squadra</th>\n",
       "      <th>Prezzo asta</th>\n",
       "      <th>Pv</th>\n",
       "      <th>Mf</th>\n",
       "      <th>Ritorno_tot_mf</th>\n",
       "      <th>ROI</th>\n",
       "    </tr>\n",
       "  </thead>\n",
       "  <tbody>\n",
       "    <tr>\n",
       "      <th>315</th>\n",
       "      <td>4890</td>\n",
       "      <td>C</td>\n",
       "      <td>Tameze</td>\n",
       "      <td>Verona</td>\n",
       "      <td>1</td>\n",
       "      <td>36</td>\n",
       "      <td>6.61</td>\n",
       "      <td>237.96</td>\n",
       "      <td>237.96</td>\n",
       "    </tr>\n",
       "    <tr>\n",
       "      <th>234</th>\n",
       "      <td>2848</td>\n",
       "      <td>C</td>\n",
       "      <td>Frattesi</td>\n",
       "      <td>Sassuolo</td>\n",
       "      <td>1</td>\n",
       "      <td>36</td>\n",
       "      <td>6.44</td>\n",
       "      <td>231.84</td>\n",
       "      <td>231.84</td>\n",
       "    </tr>\n",
       "    <tr>\n",
       "      <th>265</th>\n",
       "      <td>2009</td>\n",
       "      <td>C</td>\n",
       "      <td>Lukic</td>\n",
       "      <td>Torino</td>\n",
       "      <td>1</td>\n",
       "      <td>35</td>\n",
       "      <td>6.60</td>\n",
       "      <td>231.00</td>\n",
       "      <td>231.00</td>\n",
       "    </tr>\n",
       "    <tr>\n",
       "      <th>340</th>\n",
       "      <td>4376</td>\n",
       "      <td>C</td>\n",
       "      <td>Zurkowski</td>\n",
       "      <td>Empoli</td>\n",
       "      <td>1</td>\n",
       "      <td>33</td>\n",
       "      <td>6.62</td>\n",
       "      <td>218.46</td>\n",
       "      <td>218.46</td>\n",
       "    </tr>\n",
       "    <tr>\n",
       "      <th>245</th>\n",
       "      <td>4681</td>\n",
       "      <td>C</td>\n",
       "      <td>Lopez M.</td>\n",
       "      <td>Sassuolo</td>\n",
       "      <td>1</td>\n",
       "      <td>34</td>\n",
       "      <td>6.15</td>\n",
       "      <td>209.10</td>\n",
       "      <td>209.10</td>\n",
       "    </tr>\n",
       "    <tr>\n",
       "      <th>197</th>\n",
       "      <td>2392</td>\n",
       "      <td>C</td>\n",
       "      <td>Walace</td>\n",
       "      <td>Udinese</td>\n",
       "      <td>1</td>\n",
       "      <td>35</td>\n",
       "      <td>5.87</td>\n",
       "      <td>205.45</td>\n",
       "      <td>205.45</td>\n",
       "    </tr>\n",
       "    <tr>\n",
       "      <th>339</th>\n",
       "      <td>5298</td>\n",
       "      <td>C</td>\n",
       "      <td>Pobega</td>\n",
       "      <td>Torino</td>\n",
       "      <td>1</td>\n",
       "      <td>31</td>\n",
       "      <td>6.55</td>\n",
       "      <td>203.05</td>\n",
       "      <td>203.05</td>\n",
       "    </tr>\n",
       "    <tr>\n",
       "      <th>287</th>\n",
       "      <td>5329</td>\n",
       "      <td>C</td>\n",
       "      <td>Makengo</td>\n",
       "      <td>Udinese</td>\n",
       "      <td>1</td>\n",
       "      <td>33</td>\n",
       "      <td>6.03</td>\n",
       "      <td>198.99</td>\n",
       "      <td>198.99</td>\n",
       "    </tr>\n",
       "    <tr>\n",
       "      <th>86</th>\n",
       "      <td>4498</td>\n",
       "      <td>C</td>\n",
       "      <td>Henderson L.</td>\n",
       "      <td>Empoli</td>\n",
       "      <td>1</td>\n",
       "      <td>32</td>\n",
       "      <td>6.16</td>\n",
       "      <td>197.12</td>\n",
       "      <td>197.12</td>\n",
       "    </tr>\n",
       "    <tr>\n",
       "      <th>214</th>\n",
       "      <td>272</td>\n",
       "      <td>C</td>\n",
       "      <td>Medel</td>\n",
       "      <td>Bologna</td>\n",
       "      <td>1</td>\n",
       "      <td>33</td>\n",
       "      <td>5.91</td>\n",
       "      <td>195.03</td>\n",
       "      <td>195.03</td>\n",
       "    </tr>\n",
       "  </tbody>\n",
       "</table>\n",
       "</div>"
      ],
      "text/plain": [
       "       Id  R          Nome   Squadra  Prezzo asta  Pv    Mf  Ritorno_tot_mf  \\\n",
       "315  4890  C        Tameze    Verona            1  36  6.61          237.96   \n",
       "234  2848  C      Frattesi  Sassuolo            1  36  6.44          231.84   \n",
       "265  2009  C         Lukic    Torino            1  35  6.60          231.00   \n",
       "340  4376  C     Zurkowski    Empoli            1  33  6.62          218.46   \n",
       "245  4681  C      Lopez M.  Sassuolo            1  34  6.15          209.10   \n",
       "197  2392  C        Walace   Udinese            1  35  5.87          205.45   \n",
       "339  5298  C        Pobega    Torino            1  31  6.55          203.05   \n",
       "287  5329  C       Makengo   Udinese            1  33  6.03          198.99   \n",
       "86   4498  C  Henderson L.    Empoli            1  32  6.16          197.12   \n",
       "214   272  C         Medel   Bologna            1  33  5.91          195.03   \n",
       "\n",
       "        ROI  \n",
       "315  237.96  \n",
       "234  231.84  \n",
       "265  231.00  \n",
       "340  218.46  \n",
       "245  209.10  \n",
       "197  205.45  \n",
       "339  203.05  \n",
       "287  198.99  \n",
       "86   197.12  \n",
       "214  195.03  "
      ]
     },
     "execution_count": 9,
     "metadata": {},
     "output_type": "execute_result"
    }
   ],
   "source": [
    "# Migliori 10 centrocampisti per ROI\n",
    "roi_serie_a[roi_serie_a['R']== 'C'].sort_values(by='ROI', ascending=False).head(10)"
   ]
  },
  {
   "cell_type": "code",
   "execution_count": 10,
   "id": "b6a83270",
   "metadata": {
    "ExecuteTime": {
     "end_time": "2022-09-11T09:36:45.781442Z",
     "start_time": "2022-09-11T09:36:45.754515Z"
    }
   },
   "outputs": [
    {
     "data": {
      "text/html": [
       "<div>\n",
       "<style scoped>\n",
       "    .dataframe tbody tr th:only-of-type {\n",
       "        vertical-align: middle;\n",
       "    }\n",
       "\n",
       "    .dataframe tbody tr th {\n",
       "        vertical-align: top;\n",
       "    }\n",
       "\n",
       "    .dataframe thead th {\n",
       "        text-align: right;\n",
       "    }\n",
       "</style>\n",
       "<table border=\"1\" class=\"dataframe\">\n",
       "  <thead>\n",
       "    <tr style=\"text-align: right;\">\n",
       "      <th></th>\n",
       "      <th>Id</th>\n",
       "      <th>R</th>\n",
       "      <th>Nome</th>\n",
       "      <th>Squadra</th>\n",
       "      <th>Prezzo asta</th>\n",
       "      <th>Pv</th>\n",
       "      <th>Mf</th>\n",
       "      <th>Ritorno_tot_mf</th>\n",
       "      <th>ROI</th>\n",
       "    </tr>\n",
       "  </thead>\n",
       "  <tbody>\n",
       "    <tr>\n",
       "      <th>213</th>\n",
       "      <td>1958</td>\n",
       "      <td>A</td>\n",
       "      <td>Caprari</td>\n",
       "      <td>Verona</td>\n",
       "      <td>1</td>\n",
       "      <td>34</td>\n",
       "      <td>7.71</td>\n",
       "      <td>262.14</td>\n",
       "      <td>262.14</td>\n",
       "    </tr>\n",
       "    <tr>\n",
       "      <th>279</th>\n",
       "      <td>2038</td>\n",
       "      <td>A</td>\n",
       "      <td>Pinamonti</td>\n",
       "      <td>Empoli</td>\n",
       "      <td>1</td>\n",
       "      <td>36</td>\n",
       "      <td>7.12</td>\n",
       "      <td>256.32</td>\n",
       "      <td>256.32</td>\n",
       "    </tr>\n",
       "    <tr>\n",
       "      <th>184</th>\n",
       "      <td>505</td>\n",
       "      <td>A</td>\n",
       "      <td>Bonazzoli</td>\n",
       "      <td>Salernitana</td>\n",
       "      <td>1</td>\n",
       "      <td>31</td>\n",
       "      <td>7.08</td>\n",
       "      <td>219.48</td>\n",
       "      <td>219.48</td>\n",
       "    </tr>\n",
       "    <tr>\n",
       "      <th>282</th>\n",
       "      <td>5471</td>\n",
       "      <td>A</td>\n",
       "      <td>Djuric</td>\n",
       "      <td>Salernitana</td>\n",
       "      <td>1</td>\n",
       "      <td>32</td>\n",
       "      <td>6.53</td>\n",
       "      <td>208.96</td>\n",
       "      <td>208.96</td>\n",
       "    </tr>\n",
       "    <tr>\n",
       "      <th>260</th>\n",
       "      <td>5694</td>\n",
       "      <td>A</td>\n",
       "      <td>Beto</td>\n",
       "      <td>Udinese</td>\n",
       "      <td>1</td>\n",
       "      <td>28</td>\n",
       "      <td>7.23</td>\n",
       "      <td>202.44</td>\n",
       "      <td>202.44</td>\n",
       "    </tr>\n",
       "    <tr>\n",
       "      <th>160</th>\n",
       "      <td>5515</td>\n",
       "      <td>A</td>\n",
       "      <td>Okereke</td>\n",
       "      <td>Venezia</td>\n",
       "      <td>1</td>\n",
       "      <td>29</td>\n",
       "      <td>6.52</td>\n",
       "      <td>189.08</td>\n",
       "      <td>189.08</td>\n",
       "    </tr>\n",
       "    <tr>\n",
       "      <th>209</th>\n",
       "      <td>643</td>\n",
       "      <td>A</td>\n",
       "      <td>Defrel</td>\n",
       "      <td>Sassuolo</td>\n",
       "      <td>1</td>\n",
       "      <td>31</td>\n",
       "      <td>6.06</td>\n",
       "      <td>187.86</td>\n",
       "      <td>187.86</td>\n",
       "    </tr>\n",
       "    <tr>\n",
       "      <th>120</th>\n",
       "      <td>479</td>\n",
       "      <td>A</td>\n",
       "      <td>Sanabria</td>\n",
       "      <td>Torino</td>\n",
       "      <td>1</td>\n",
       "      <td>25</td>\n",
       "      <td>6.80</td>\n",
       "      <td>170.00</td>\n",
       "      <td>170.00</td>\n",
       "    </tr>\n",
       "    <tr>\n",
       "      <th>33</th>\n",
       "      <td>1857</td>\n",
       "      <td>A</td>\n",
       "      <td>Di Francesco F.</td>\n",
       "      <td>Empoli</td>\n",
       "      <td>1</td>\n",
       "      <td>25</td>\n",
       "      <td>6.60</td>\n",
       "      <td>165.00</td>\n",
       "      <td>165.00</td>\n",
       "    </tr>\n",
       "    <tr>\n",
       "      <th>324</th>\n",
       "      <td>90</td>\n",
       "      <td>A</td>\n",
       "      <td>Lasagna</td>\n",
       "      <td>Verona</td>\n",
       "      <td>1</td>\n",
       "      <td>26</td>\n",
       "      <td>6.19</td>\n",
       "      <td>160.94</td>\n",
       "      <td>160.94</td>\n",
       "    </tr>\n",
       "  </tbody>\n",
       "</table>\n",
       "</div>"
      ],
      "text/plain": [
       "       Id  R             Nome      Squadra  Prezzo asta  Pv    Mf  \\\n",
       "213  1958  A          Caprari       Verona            1  34  7.71   \n",
       "279  2038  A        Pinamonti       Empoli            1  36  7.12   \n",
       "184   505  A        Bonazzoli  Salernitana            1  31  7.08   \n",
       "282  5471  A           Djuric  Salernitana            1  32  6.53   \n",
       "260  5694  A             Beto      Udinese            1  28  7.23   \n",
       "160  5515  A          Okereke      Venezia            1  29  6.52   \n",
       "209   643  A           Defrel     Sassuolo            1  31  6.06   \n",
       "120   479  A         Sanabria       Torino            1  25  6.80   \n",
       "33   1857  A  Di Francesco F.       Empoli            1  25  6.60   \n",
       "324    90  A          Lasagna       Verona            1  26  6.19   \n",
       "\n",
       "     Ritorno_tot_mf     ROI  \n",
       "213          262.14  262.14  \n",
       "279          256.32  256.32  \n",
       "184          219.48  219.48  \n",
       "282          208.96  208.96  \n",
       "260          202.44  202.44  \n",
       "160          189.08  189.08  \n",
       "209          187.86  187.86  \n",
       "120          170.00  170.00  \n",
       "33           165.00  165.00  \n",
       "324          160.94  160.94  "
      ]
     },
     "execution_count": 10,
     "metadata": {},
     "output_type": "execute_result"
    }
   ],
   "source": [
    "# Migliori 10 attaccanti per ROI\n",
    "roi_serie_a[roi_serie_a['R']== 'A'].sort_values(by='ROI', ascending=False).head(10)"
   ]
  },
  {
   "cell_type": "markdown",
   "id": "ab2fef77",
   "metadata": {},
   "source": [
    "Dunque Terracciano, Udogie, Tameze e Caprari risultano essere i giocatori che hanno garantito il maggior ritorno sull'investimento nella scorsa stagione. Infatti questi calciatori, acquistati ad 1 solo fantacredito, hanno garantito dei rendimenti stellari in termini di fantamedia, offrendo anche un notevole numero di prestazioni stagionali."
   ]
  },
  {
   "cell_type": "code",
   "execution_count": 11,
   "id": "3135f581",
   "metadata": {
    "ExecuteTime": {
     "end_time": "2022-09-11T09:36:46.537570Z",
     "start_time": "2022-09-11T09:36:45.783469Z"
    }
   },
   "outputs": [
    {
     "data": {
      "text/html": [
       "        <script type=\"text/javascript\">\n",
       "        window.PlotlyConfig = {MathJaxConfig: 'local'};\n",
       "        if (window.MathJax && window.MathJax.Hub && window.MathJax.Hub.Config) {window.MathJax.Hub.Config({SVG: {font: \"STIX-Web\"}});}\n",
       "        if (typeof require !== 'undefined') {\n",
       "        require.undef(\"plotly\");\n",
       "        requirejs.config({\n",
       "            paths: {\n",
       "                'plotly': ['https://cdn.plot.ly/plotly-2.12.1.min']\n",
       "            }\n",
       "        });\n",
       "        require(['plotly'], function(Plotly) {\n",
       "            window._Plotly = Plotly;\n",
       "        });\n",
       "        }\n",
       "        </script>\n",
       "        "
      ]
     },
     "metadata": {},
     "output_type": "display_data"
    },
    {
     "data": {
      "text/html": [
       "        <script type=\"text/javascript\">\n",
       "        window.PlotlyConfig = {MathJaxConfig: 'local'};\n",
       "        if (window.MathJax && window.MathJax.Hub && window.MathJax.Hub.Config) {window.MathJax.Hub.Config({SVG: {font: \"STIX-Web\"}});}\n",
       "        if (typeof require !== 'undefined') {\n",
       "        require.undef(\"plotly\");\n",
       "        requirejs.config({\n",
       "            paths: {\n",
       "                'plotly': ['https://cdn.plot.ly/plotly-2.12.1.min']\n",
       "            }\n",
       "        });\n",
       "        require(['plotly'], function(Plotly) {\n",
       "            window._Plotly = Plotly;\n",
       "        });\n",
       "        }\n",
       "        </script>\n",
       "        "
      ]
     },
     "metadata": {},
     "output_type": "display_data"
    }
   ],
   "source": [
    "import cufflinks as cf\n",
    "from plotly.offline import download_plotlyjs, init_notebook_mode, plot, iplot\n",
    "init_notebook_mode(connected=True)\n",
    "cf.go_offline()"
   ]
  },
  {
   "cell_type": "markdown",
   "id": "0a19db12",
   "metadata": {},
   "source": [
    "## Analisi grafica attraverso Plotly"
   ]
  },
  {
   "cell_type": "markdown",
   "id": "e41fe69f",
   "metadata": {},
   "source": [
    "Per vincere al fantalcio, non è sufficiente avere un buon ROI. Serve anche che i calciatori abbiano fantamedie alte.\n",
    "\n",
    "A questo proposito andiamo ad osservare i migliori calciatori per ruolo in termini di combinazione ROI-Fantamedia"
   ]
  },
  {
   "cell_type": "code",
   "execution_count": 12,
   "id": "c11240d9",
   "metadata": {
    "ExecuteTime": {
     "end_time": "2022-09-11T09:36:48.733406Z",
     "start_time": "2022-09-11T09:36:46.538565Z"
    }
   },
   "outputs": [
    {
     "data": {
      "application/vnd.plotly.v1+json": {
       "config": {
        "linkText": "Export to plot.ly",
        "plotlyServerURL": "https://plot.ly",
        "showLink": true
       },
       "data": [
        {
         "line": {
          "color": "rgba(255, 153, 51, 1.0)",
          "dash": "solid",
          "shape": "linear",
          "width": 1.3
         },
         "marker": {
          "size": 12,
          "symbol": "circle"
         },
         "mode": "markers",
         "name": "ROI",
         "text": [
          "Zovko",
          "Szczesny",
          "Ravaglia",
          "Milinkovic-Savic V.",
          "Montipo'",
          "Perin",
          "Sepe",
          "Cragno",
          "Maignan",
          "Rossi F.",
          "Musso",
          "Terracciano",
          "Zoet",
          "Pegolo",
          "Radu I.",
          "Bardi",
          "Skorupski",
          "Pinsoglio",
          "Rui Patricio",
          "Berardi A.",
          "Silvestri",
          "Sirigu",
          "Berisha",
          "Audero",
          "Vicario",
          "Dragowski",
          "Falcone",
          "Consigli",
          "Provedel",
          "Meret",
          "Handanovic",
          "Padelli",
          "Tatarusanu",
          "Sportiello",
          "Gemello",
          "Fiorillo"
         ],
         "type": "scatter",
         "x": [
          6,
          5.48,
          5,
          4.87,
          4.78,
          4.7,
          4.62,
          4.54,
          5.64,
          5,
          4.76,
          4.7,
          3.5,
          3,
          1.5,
          5.25,
          4.82,
          5.5,
          5.04,
          3,
          4.77,
          4.65,
          5.55,
          4.59,
          4.72,
          5.36,
          5,
          4.57,
          4.5,
          5,
          5.31,
          3.5,
          4.83,
          5.3,
          6.5,
          0.5
         ],
         "y": [
          6,
          5.833548387096775,
          5,
          32.8725,
          54.17333333333334,
          5.875,
          73.92,
          31.78,
          5.469090909090909,
          5,
          5.41655172413793,
          150.4,
          24.5,
          3,
          1.5,
          10.5,
          57.84,
          5.5,
          6.840000000000001,
          3,
          11.129999999999999,
          57.35,
          55.5,
          26.621999999999996,
          59.78666666666666,
          3.126666666666667,
          50,
          15.371818181818183,
          139.5,
          1.8421052631578947,
          4.791951219512195,
          10.5,
          28.98,
          26.5,
          6.5,
          0.5
         ]
        }
       ],
       "layout": {
        "legend": {
         "bgcolor": "#F5F6F9",
         "font": {
          "color": "#4D5663"
         }
        },
        "paper_bgcolor": "#F5F6F9",
        "plot_bgcolor": "#F5F6F9",
        "template": {
         "data": {
          "bar": [
           {
            "error_x": {
             "color": "#2a3f5f"
            },
            "error_y": {
             "color": "#2a3f5f"
            },
            "marker": {
             "line": {
              "color": "#E5ECF6",
              "width": 0.5
             },
             "pattern": {
              "fillmode": "overlay",
              "size": 10,
              "solidity": 0.2
             }
            },
            "type": "bar"
           }
          ],
          "barpolar": [
           {
            "marker": {
             "line": {
              "color": "#E5ECF6",
              "width": 0.5
             },
             "pattern": {
              "fillmode": "overlay",
              "size": 10,
              "solidity": 0.2
             }
            },
            "type": "barpolar"
           }
          ],
          "carpet": [
           {
            "aaxis": {
             "endlinecolor": "#2a3f5f",
             "gridcolor": "white",
             "linecolor": "white",
             "minorgridcolor": "white",
             "startlinecolor": "#2a3f5f"
            },
            "baxis": {
             "endlinecolor": "#2a3f5f",
             "gridcolor": "white",
             "linecolor": "white",
             "minorgridcolor": "white",
             "startlinecolor": "#2a3f5f"
            },
            "type": "carpet"
           }
          ],
          "choropleth": [
           {
            "colorbar": {
             "outlinewidth": 0,
             "ticks": ""
            },
            "type": "choropleth"
           }
          ],
          "contour": [
           {
            "colorbar": {
             "outlinewidth": 0,
             "ticks": ""
            },
            "colorscale": [
             [
              0,
              "#0d0887"
             ],
             [
              0.1111111111111111,
              "#46039f"
             ],
             [
              0.2222222222222222,
              "#7201a8"
             ],
             [
              0.3333333333333333,
              "#9c179e"
             ],
             [
              0.4444444444444444,
              "#bd3786"
             ],
             [
              0.5555555555555556,
              "#d8576b"
             ],
             [
              0.6666666666666666,
              "#ed7953"
             ],
             [
              0.7777777777777778,
              "#fb9f3a"
             ],
             [
              0.8888888888888888,
              "#fdca26"
             ],
             [
              1,
              "#f0f921"
             ]
            ],
            "type": "contour"
           }
          ],
          "contourcarpet": [
           {
            "colorbar": {
             "outlinewidth": 0,
             "ticks": ""
            },
            "type": "contourcarpet"
           }
          ],
          "heatmap": [
           {
            "colorbar": {
             "outlinewidth": 0,
             "ticks": ""
            },
            "colorscale": [
             [
              0,
              "#0d0887"
             ],
             [
              0.1111111111111111,
              "#46039f"
             ],
             [
              0.2222222222222222,
              "#7201a8"
             ],
             [
              0.3333333333333333,
              "#9c179e"
             ],
             [
              0.4444444444444444,
              "#bd3786"
             ],
             [
              0.5555555555555556,
              "#d8576b"
             ],
             [
              0.6666666666666666,
              "#ed7953"
             ],
             [
              0.7777777777777778,
              "#fb9f3a"
             ],
             [
              0.8888888888888888,
              "#fdca26"
             ],
             [
              1,
              "#f0f921"
             ]
            ],
            "type": "heatmap"
           }
          ],
          "heatmapgl": [
           {
            "colorbar": {
             "outlinewidth": 0,
             "ticks": ""
            },
            "colorscale": [
             [
              0,
              "#0d0887"
             ],
             [
              0.1111111111111111,
              "#46039f"
             ],
             [
              0.2222222222222222,
              "#7201a8"
             ],
             [
              0.3333333333333333,
              "#9c179e"
             ],
             [
              0.4444444444444444,
              "#bd3786"
             ],
             [
              0.5555555555555556,
              "#d8576b"
             ],
             [
              0.6666666666666666,
              "#ed7953"
             ],
             [
              0.7777777777777778,
              "#fb9f3a"
             ],
             [
              0.8888888888888888,
              "#fdca26"
             ],
             [
              1,
              "#f0f921"
             ]
            ],
            "type": "heatmapgl"
           }
          ],
          "histogram": [
           {
            "marker": {
             "pattern": {
              "fillmode": "overlay",
              "size": 10,
              "solidity": 0.2
             }
            },
            "type": "histogram"
           }
          ],
          "histogram2d": [
           {
            "colorbar": {
             "outlinewidth": 0,
             "ticks": ""
            },
            "colorscale": [
             [
              0,
              "#0d0887"
             ],
             [
              0.1111111111111111,
              "#46039f"
             ],
             [
              0.2222222222222222,
              "#7201a8"
             ],
             [
              0.3333333333333333,
              "#9c179e"
             ],
             [
              0.4444444444444444,
              "#bd3786"
             ],
             [
              0.5555555555555556,
              "#d8576b"
             ],
             [
              0.6666666666666666,
              "#ed7953"
             ],
             [
              0.7777777777777778,
              "#fb9f3a"
             ],
             [
              0.8888888888888888,
              "#fdca26"
             ],
             [
              1,
              "#f0f921"
             ]
            ],
            "type": "histogram2d"
           }
          ],
          "histogram2dcontour": [
           {
            "colorbar": {
             "outlinewidth": 0,
             "ticks": ""
            },
            "colorscale": [
             [
              0,
              "#0d0887"
             ],
             [
              0.1111111111111111,
              "#46039f"
             ],
             [
              0.2222222222222222,
              "#7201a8"
             ],
             [
              0.3333333333333333,
              "#9c179e"
             ],
             [
              0.4444444444444444,
              "#bd3786"
             ],
             [
              0.5555555555555556,
              "#d8576b"
             ],
             [
              0.6666666666666666,
              "#ed7953"
             ],
             [
              0.7777777777777778,
              "#fb9f3a"
             ],
             [
              0.8888888888888888,
              "#fdca26"
             ],
             [
              1,
              "#f0f921"
             ]
            ],
            "type": "histogram2dcontour"
           }
          ],
          "mesh3d": [
           {
            "colorbar": {
             "outlinewidth": 0,
             "ticks": ""
            },
            "type": "mesh3d"
           }
          ],
          "parcoords": [
           {
            "line": {
             "colorbar": {
              "outlinewidth": 0,
              "ticks": ""
             }
            },
            "type": "parcoords"
           }
          ],
          "pie": [
           {
            "automargin": true,
            "type": "pie"
           }
          ],
          "scatter": [
           {
            "fillpattern": {
             "fillmode": "overlay",
             "size": 10,
             "solidity": 0.2
            },
            "type": "scatter"
           }
          ],
          "scatter3d": [
           {
            "line": {
             "colorbar": {
              "outlinewidth": 0,
              "ticks": ""
             }
            },
            "marker": {
             "colorbar": {
              "outlinewidth": 0,
              "ticks": ""
             }
            },
            "type": "scatter3d"
           }
          ],
          "scattercarpet": [
           {
            "marker": {
             "colorbar": {
              "outlinewidth": 0,
              "ticks": ""
             }
            },
            "type": "scattercarpet"
           }
          ],
          "scattergeo": [
           {
            "marker": {
             "colorbar": {
              "outlinewidth": 0,
              "ticks": ""
             }
            },
            "type": "scattergeo"
           }
          ],
          "scattergl": [
           {
            "marker": {
             "colorbar": {
              "outlinewidth": 0,
              "ticks": ""
             }
            },
            "type": "scattergl"
           }
          ],
          "scattermapbox": [
           {
            "marker": {
             "colorbar": {
              "outlinewidth": 0,
              "ticks": ""
             }
            },
            "type": "scattermapbox"
           }
          ],
          "scatterpolar": [
           {
            "marker": {
             "colorbar": {
              "outlinewidth": 0,
              "ticks": ""
             }
            },
            "type": "scatterpolar"
           }
          ],
          "scatterpolargl": [
           {
            "marker": {
             "colorbar": {
              "outlinewidth": 0,
              "ticks": ""
             }
            },
            "type": "scatterpolargl"
           }
          ],
          "scatterternary": [
           {
            "marker": {
             "colorbar": {
              "outlinewidth": 0,
              "ticks": ""
             }
            },
            "type": "scatterternary"
           }
          ],
          "surface": [
           {
            "colorbar": {
             "outlinewidth": 0,
             "ticks": ""
            },
            "colorscale": [
             [
              0,
              "#0d0887"
             ],
             [
              0.1111111111111111,
              "#46039f"
             ],
             [
              0.2222222222222222,
              "#7201a8"
             ],
             [
              0.3333333333333333,
              "#9c179e"
             ],
             [
              0.4444444444444444,
              "#bd3786"
             ],
             [
              0.5555555555555556,
              "#d8576b"
             ],
             [
              0.6666666666666666,
              "#ed7953"
             ],
             [
              0.7777777777777778,
              "#fb9f3a"
             ],
             [
              0.8888888888888888,
              "#fdca26"
             ],
             [
              1,
              "#f0f921"
             ]
            ],
            "type": "surface"
           }
          ],
          "table": [
           {
            "cells": {
             "fill": {
              "color": "#EBF0F8"
             },
             "line": {
              "color": "white"
             }
            },
            "header": {
             "fill": {
              "color": "#C8D4E3"
             },
             "line": {
              "color": "white"
             }
            },
            "type": "table"
           }
          ]
         },
         "layout": {
          "annotationdefaults": {
           "arrowcolor": "#2a3f5f",
           "arrowhead": 0,
           "arrowwidth": 1
          },
          "autotypenumbers": "strict",
          "coloraxis": {
           "colorbar": {
            "outlinewidth": 0,
            "ticks": ""
           }
          },
          "colorscale": {
           "diverging": [
            [
             0,
             "#8e0152"
            ],
            [
             0.1,
             "#c51b7d"
            ],
            [
             0.2,
             "#de77ae"
            ],
            [
             0.3,
             "#f1b6da"
            ],
            [
             0.4,
             "#fde0ef"
            ],
            [
             0.5,
             "#f7f7f7"
            ],
            [
             0.6,
             "#e6f5d0"
            ],
            [
             0.7,
             "#b8e186"
            ],
            [
             0.8,
             "#7fbc41"
            ],
            [
             0.9,
             "#4d9221"
            ],
            [
             1,
             "#276419"
            ]
           ],
           "sequential": [
            [
             0,
             "#0d0887"
            ],
            [
             0.1111111111111111,
             "#46039f"
            ],
            [
             0.2222222222222222,
             "#7201a8"
            ],
            [
             0.3333333333333333,
             "#9c179e"
            ],
            [
             0.4444444444444444,
             "#bd3786"
            ],
            [
             0.5555555555555556,
             "#d8576b"
            ],
            [
             0.6666666666666666,
             "#ed7953"
            ],
            [
             0.7777777777777778,
             "#fb9f3a"
            ],
            [
             0.8888888888888888,
             "#fdca26"
            ],
            [
             1,
             "#f0f921"
            ]
           ],
           "sequentialminus": [
            [
             0,
             "#0d0887"
            ],
            [
             0.1111111111111111,
             "#46039f"
            ],
            [
             0.2222222222222222,
             "#7201a8"
            ],
            [
             0.3333333333333333,
             "#9c179e"
            ],
            [
             0.4444444444444444,
             "#bd3786"
            ],
            [
             0.5555555555555556,
             "#d8576b"
            ],
            [
             0.6666666666666666,
             "#ed7953"
            ],
            [
             0.7777777777777778,
             "#fb9f3a"
            ],
            [
             0.8888888888888888,
             "#fdca26"
            ],
            [
             1,
             "#f0f921"
            ]
           ]
          },
          "colorway": [
           "#636efa",
           "#EF553B",
           "#00cc96",
           "#ab63fa",
           "#FFA15A",
           "#19d3f3",
           "#FF6692",
           "#B6E880",
           "#FF97FF",
           "#FECB52"
          ],
          "font": {
           "color": "#2a3f5f"
          },
          "geo": {
           "bgcolor": "white",
           "lakecolor": "white",
           "landcolor": "#E5ECF6",
           "showlakes": true,
           "showland": true,
           "subunitcolor": "white"
          },
          "hoverlabel": {
           "align": "left"
          },
          "hovermode": "closest",
          "mapbox": {
           "style": "light"
          },
          "paper_bgcolor": "white",
          "plot_bgcolor": "#E5ECF6",
          "polar": {
           "angularaxis": {
            "gridcolor": "white",
            "linecolor": "white",
            "ticks": ""
           },
           "bgcolor": "#E5ECF6",
           "radialaxis": {
            "gridcolor": "white",
            "linecolor": "white",
            "ticks": ""
           }
          },
          "scene": {
           "xaxis": {
            "backgroundcolor": "#E5ECF6",
            "gridcolor": "white",
            "gridwidth": 2,
            "linecolor": "white",
            "showbackground": true,
            "ticks": "",
            "zerolinecolor": "white"
           },
           "yaxis": {
            "backgroundcolor": "#E5ECF6",
            "gridcolor": "white",
            "gridwidth": 2,
            "linecolor": "white",
            "showbackground": true,
            "ticks": "",
            "zerolinecolor": "white"
           },
           "zaxis": {
            "backgroundcolor": "#E5ECF6",
            "gridcolor": "white",
            "gridwidth": 2,
            "linecolor": "white",
            "showbackground": true,
            "ticks": "",
            "zerolinecolor": "white"
           }
          },
          "shapedefaults": {
           "line": {
            "color": "#2a3f5f"
           }
          },
          "ternary": {
           "aaxis": {
            "gridcolor": "white",
            "linecolor": "white",
            "ticks": ""
           },
           "baxis": {
            "gridcolor": "white",
            "linecolor": "white",
            "ticks": ""
           },
           "bgcolor": "#E5ECF6",
           "caxis": {
            "gridcolor": "white",
            "linecolor": "white",
            "ticks": ""
           }
          },
          "title": {
           "x": 0.05
          },
          "xaxis": {
           "automargin": true,
           "gridcolor": "white",
           "linecolor": "white",
           "ticks": "",
           "title": {
            "standoff": 15
           },
           "zerolinecolor": "white",
           "zerolinewidth": 2
          },
          "yaxis": {
           "automargin": true,
           "gridcolor": "white",
           "linecolor": "white",
           "ticks": "",
           "title": {
            "standoff": 15
           },
           "zerolinecolor": "white",
           "zerolinewidth": 2
          }
         }
        },
        "title": {
         "font": {
          "color": "#4D5663"
         }
        },
        "xaxis": {
         "gridcolor": "#E1E5ED",
         "showgrid": true,
         "tickfont": {
          "color": "#4D5663"
         },
         "title": {
          "font": {
           "color": "#4D5663"
          },
          "text": ""
         },
         "zerolinecolor": "#E1E5ED"
        },
        "yaxis": {
         "gridcolor": "#E1E5ED",
         "showgrid": true,
         "tickfont": {
          "color": "#4D5663"
         },
         "title": {
          "font": {
           "color": "#4D5663"
          },
          "text": ""
         },
         "zerolinecolor": "#E1E5ED"
        }
       }
      },
      "text/html": [
       "<div>                            <div id=\"af287632-b021-4024-8916-9ade83041e0c\" class=\"plotly-graph-div\" style=\"height:525px; width:100%;\"></div>            <script type=\"text/javascript\">                require([\"plotly\"], function(Plotly) {                    window.PLOTLYENV=window.PLOTLYENV || {};\n",
       "                    window.PLOTLYENV.BASE_URL='https://plot.ly';                                    if (document.getElementById(\"af287632-b021-4024-8916-9ade83041e0c\")) {                    Plotly.newPlot(                        \"af287632-b021-4024-8916-9ade83041e0c\",                        [{\"line\":{\"color\":\"rgba(255, 153, 51, 1.0)\",\"dash\":\"solid\",\"shape\":\"linear\",\"width\":1.3},\"marker\":{\"size\":12,\"symbol\":\"circle\"},\"mode\":\"markers\",\"name\":\"ROI\",\"text\":[\"Zovko\",\"Szczesny\",\"Ravaglia\",\"Milinkovic-Savic V.\",\"Montipo'\",\"Perin\",\"Sepe\",\"Cragno\",\"Maignan\",\"Rossi F.\",\"Musso\",\"Terracciano\",\"Zoet\",\"Pegolo\",\"Radu I.\",\"Bardi\",\"Skorupski\",\"Pinsoglio\",\"Rui Patricio\",\"Berardi A.\",\"Silvestri\",\"Sirigu\",\"Berisha\",\"Audero\",\"Vicario\",\"Dragowski\",\"Falcone\",\"Consigli\",\"Provedel\",\"Meret\",\"Handanovic\",\"Padelli\",\"Tatarusanu\",\"Sportiello\",\"Gemello\",\"Fiorillo\"],\"x\":[6.0,5.48,5.0,4.87,4.78,4.7,4.62,4.54,5.64,5.0,4.76,4.7,3.5,3.0,1.5,5.25,4.82,5.5,5.04,3.0,4.77,4.65,5.55,4.59,4.72,5.36,5.0,4.57,4.5,5.0,5.31,3.5,4.83,5.3,6.5,0.5],\"y\":[6.0,5.833548387096775,5.0,32.8725,54.17333333333334,5.875,73.92,31.78,5.469090909090909,5.0,5.41655172413793,150.4,24.5,3.0,1.5,10.5,57.84,5.5,6.840000000000001,3.0,11.129999999999999,57.35,55.5,26.621999999999996,59.78666666666666,3.126666666666667,50.0,15.371818181818183,139.5,1.8421052631578947,4.791951219512195,10.5,28.98,26.5,6.5,0.5],\"type\":\"scatter\"}],                        {\"legend\":{\"bgcolor\":\"#F5F6F9\",\"font\":{\"color\":\"#4D5663\"}},\"paper_bgcolor\":\"#F5F6F9\",\"plot_bgcolor\":\"#F5F6F9\",\"template\":{\"data\":{\"barpolar\":[{\"marker\":{\"line\":{\"color\":\"#E5ECF6\",\"width\":0.5},\"pattern\":{\"fillmode\":\"overlay\",\"size\":10,\"solidity\":0.2}},\"type\":\"barpolar\"}],\"bar\":[{\"error_x\":{\"color\":\"#2a3f5f\"},\"error_y\":{\"color\":\"#2a3f5f\"},\"marker\":{\"line\":{\"color\":\"#E5ECF6\",\"width\":0.5},\"pattern\":{\"fillmode\":\"overlay\",\"size\":10,\"solidity\":0.2}},\"type\":\"bar\"}],\"carpet\":[{\"aaxis\":{\"endlinecolor\":\"#2a3f5f\",\"gridcolor\":\"white\",\"linecolor\":\"white\",\"minorgridcolor\":\"white\",\"startlinecolor\":\"#2a3f5f\"},\"baxis\":{\"endlinecolor\":\"#2a3f5f\",\"gridcolor\":\"white\",\"linecolor\":\"white\",\"minorgridcolor\":\"white\",\"startlinecolor\":\"#2a3f5f\"},\"type\":\"carpet\"}],\"choropleth\":[{\"colorbar\":{\"outlinewidth\":0,\"ticks\":\"\"},\"type\":\"choropleth\"}],\"contourcarpet\":[{\"colorbar\":{\"outlinewidth\":0,\"ticks\":\"\"},\"type\":\"contourcarpet\"}],\"contour\":[{\"colorbar\":{\"outlinewidth\":0,\"ticks\":\"\"},\"colorscale\":[[0.0,\"#0d0887\"],[0.1111111111111111,\"#46039f\"],[0.2222222222222222,\"#7201a8\"],[0.3333333333333333,\"#9c179e\"],[0.4444444444444444,\"#bd3786\"],[0.5555555555555556,\"#d8576b\"],[0.6666666666666666,\"#ed7953\"],[0.7777777777777778,\"#fb9f3a\"],[0.8888888888888888,\"#fdca26\"],[1.0,\"#f0f921\"]],\"type\":\"contour\"}],\"heatmapgl\":[{\"colorbar\":{\"outlinewidth\":0,\"ticks\":\"\"},\"colorscale\":[[0.0,\"#0d0887\"],[0.1111111111111111,\"#46039f\"],[0.2222222222222222,\"#7201a8\"],[0.3333333333333333,\"#9c179e\"],[0.4444444444444444,\"#bd3786\"],[0.5555555555555556,\"#d8576b\"],[0.6666666666666666,\"#ed7953\"],[0.7777777777777778,\"#fb9f3a\"],[0.8888888888888888,\"#fdca26\"],[1.0,\"#f0f921\"]],\"type\":\"heatmapgl\"}],\"heatmap\":[{\"colorbar\":{\"outlinewidth\":0,\"ticks\":\"\"},\"colorscale\":[[0.0,\"#0d0887\"],[0.1111111111111111,\"#46039f\"],[0.2222222222222222,\"#7201a8\"],[0.3333333333333333,\"#9c179e\"],[0.4444444444444444,\"#bd3786\"],[0.5555555555555556,\"#d8576b\"],[0.6666666666666666,\"#ed7953\"],[0.7777777777777778,\"#fb9f3a\"],[0.8888888888888888,\"#fdca26\"],[1.0,\"#f0f921\"]],\"type\":\"heatmap\"}],\"histogram2dcontour\":[{\"colorbar\":{\"outlinewidth\":0,\"ticks\":\"\"},\"colorscale\":[[0.0,\"#0d0887\"],[0.1111111111111111,\"#46039f\"],[0.2222222222222222,\"#7201a8\"],[0.3333333333333333,\"#9c179e\"],[0.4444444444444444,\"#bd3786\"],[0.5555555555555556,\"#d8576b\"],[0.6666666666666666,\"#ed7953\"],[0.7777777777777778,\"#fb9f3a\"],[0.8888888888888888,\"#fdca26\"],[1.0,\"#f0f921\"]],\"type\":\"histogram2dcontour\"}],\"histogram2d\":[{\"colorbar\":{\"outlinewidth\":0,\"ticks\":\"\"},\"colorscale\":[[0.0,\"#0d0887\"],[0.1111111111111111,\"#46039f\"],[0.2222222222222222,\"#7201a8\"],[0.3333333333333333,\"#9c179e\"],[0.4444444444444444,\"#bd3786\"],[0.5555555555555556,\"#d8576b\"],[0.6666666666666666,\"#ed7953\"],[0.7777777777777778,\"#fb9f3a\"],[0.8888888888888888,\"#fdca26\"],[1.0,\"#f0f921\"]],\"type\":\"histogram2d\"}],\"histogram\":[{\"marker\":{\"pattern\":{\"fillmode\":\"overlay\",\"size\":10,\"solidity\":0.2}},\"type\":\"histogram\"}],\"mesh3d\":[{\"colorbar\":{\"outlinewidth\":0,\"ticks\":\"\"},\"type\":\"mesh3d\"}],\"parcoords\":[{\"line\":{\"colorbar\":{\"outlinewidth\":0,\"ticks\":\"\"}},\"type\":\"parcoords\"}],\"pie\":[{\"automargin\":true,\"type\":\"pie\"}],\"scatter3d\":[{\"line\":{\"colorbar\":{\"outlinewidth\":0,\"ticks\":\"\"}},\"marker\":{\"colorbar\":{\"outlinewidth\":0,\"ticks\":\"\"}},\"type\":\"scatter3d\"}],\"scattercarpet\":[{\"marker\":{\"colorbar\":{\"outlinewidth\":0,\"ticks\":\"\"}},\"type\":\"scattercarpet\"}],\"scattergeo\":[{\"marker\":{\"colorbar\":{\"outlinewidth\":0,\"ticks\":\"\"}},\"type\":\"scattergeo\"}],\"scattergl\":[{\"marker\":{\"colorbar\":{\"outlinewidth\":0,\"ticks\":\"\"}},\"type\":\"scattergl\"}],\"scattermapbox\":[{\"marker\":{\"colorbar\":{\"outlinewidth\":0,\"ticks\":\"\"}},\"type\":\"scattermapbox\"}],\"scatterpolargl\":[{\"marker\":{\"colorbar\":{\"outlinewidth\":0,\"ticks\":\"\"}},\"type\":\"scatterpolargl\"}],\"scatterpolar\":[{\"marker\":{\"colorbar\":{\"outlinewidth\":0,\"ticks\":\"\"}},\"type\":\"scatterpolar\"}],\"scatter\":[{\"fillpattern\":{\"fillmode\":\"overlay\",\"size\":10,\"solidity\":0.2},\"type\":\"scatter\"}],\"scatterternary\":[{\"marker\":{\"colorbar\":{\"outlinewidth\":0,\"ticks\":\"\"}},\"type\":\"scatterternary\"}],\"surface\":[{\"colorbar\":{\"outlinewidth\":0,\"ticks\":\"\"},\"colorscale\":[[0.0,\"#0d0887\"],[0.1111111111111111,\"#46039f\"],[0.2222222222222222,\"#7201a8\"],[0.3333333333333333,\"#9c179e\"],[0.4444444444444444,\"#bd3786\"],[0.5555555555555556,\"#d8576b\"],[0.6666666666666666,\"#ed7953\"],[0.7777777777777778,\"#fb9f3a\"],[0.8888888888888888,\"#fdca26\"],[1.0,\"#f0f921\"]],\"type\":\"surface\"}],\"table\":[{\"cells\":{\"fill\":{\"color\":\"#EBF0F8\"},\"line\":{\"color\":\"white\"}},\"header\":{\"fill\":{\"color\":\"#C8D4E3\"},\"line\":{\"color\":\"white\"}},\"type\":\"table\"}]},\"layout\":{\"annotationdefaults\":{\"arrowcolor\":\"#2a3f5f\",\"arrowhead\":0,\"arrowwidth\":1},\"autotypenumbers\":\"strict\",\"coloraxis\":{\"colorbar\":{\"outlinewidth\":0,\"ticks\":\"\"}},\"colorscale\":{\"diverging\":[[0,\"#8e0152\"],[0.1,\"#c51b7d\"],[0.2,\"#de77ae\"],[0.3,\"#f1b6da\"],[0.4,\"#fde0ef\"],[0.5,\"#f7f7f7\"],[0.6,\"#e6f5d0\"],[0.7,\"#b8e186\"],[0.8,\"#7fbc41\"],[0.9,\"#4d9221\"],[1,\"#276419\"]],\"sequential\":[[0.0,\"#0d0887\"],[0.1111111111111111,\"#46039f\"],[0.2222222222222222,\"#7201a8\"],[0.3333333333333333,\"#9c179e\"],[0.4444444444444444,\"#bd3786\"],[0.5555555555555556,\"#d8576b\"],[0.6666666666666666,\"#ed7953\"],[0.7777777777777778,\"#fb9f3a\"],[0.8888888888888888,\"#fdca26\"],[1.0,\"#f0f921\"]],\"sequentialminus\":[[0.0,\"#0d0887\"],[0.1111111111111111,\"#46039f\"],[0.2222222222222222,\"#7201a8\"],[0.3333333333333333,\"#9c179e\"],[0.4444444444444444,\"#bd3786\"],[0.5555555555555556,\"#d8576b\"],[0.6666666666666666,\"#ed7953\"],[0.7777777777777778,\"#fb9f3a\"],[0.8888888888888888,\"#fdca26\"],[1.0,\"#f0f921\"]]},\"colorway\":[\"#636efa\",\"#EF553B\",\"#00cc96\",\"#ab63fa\",\"#FFA15A\",\"#19d3f3\",\"#FF6692\",\"#B6E880\",\"#FF97FF\",\"#FECB52\"],\"font\":{\"color\":\"#2a3f5f\"},\"geo\":{\"bgcolor\":\"white\",\"lakecolor\":\"white\",\"landcolor\":\"#E5ECF6\",\"showlakes\":true,\"showland\":true,\"subunitcolor\":\"white\"},\"hoverlabel\":{\"align\":\"left\"},\"hovermode\":\"closest\",\"mapbox\":{\"style\":\"light\"},\"paper_bgcolor\":\"white\",\"plot_bgcolor\":\"#E5ECF6\",\"polar\":{\"angularaxis\":{\"gridcolor\":\"white\",\"linecolor\":\"white\",\"ticks\":\"\"},\"bgcolor\":\"#E5ECF6\",\"radialaxis\":{\"gridcolor\":\"white\",\"linecolor\":\"white\",\"ticks\":\"\"}},\"scene\":{\"xaxis\":{\"backgroundcolor\":\"#E5ECF6\",\"gridcolor\":\"white\",\"gridwidth\":2,\"linecolor\":\"white\",\"showbackground\":true,\"ticks\":\"\",\"zerolinecolor\":\"white\"},\"yaxis\":{\"backgroundcolor\":\"#E5ECF6\",\"gridcolor\":\"white\",\"gridwidth\":2,\"linecolor\":\"white\",\"showbackground\":true,\"ticks\":\"\",\"zerolinecolor\":\"white\"},\"zaxis\":{\"backgroundcolor\":\"#E5ECF6\",\"gridcolor\":\"white\",\"gridwidth\":2,\"linecolor\":\"white\",\"showbackground\":true,\"ticks\":\"\",\"zerolinecolor\":\"white\"}},\"shapedefaults\":{\"line\":{\"color\":\"#2a3f5f\"}},\"ternary\":{\"aaxis\":{\"gridcolor\":\"white\",\"linecolor\":\"white\",\"ticks\":\"\"},\"baxis\":{\"gridcolor\":\"white\",\"linecolor\":\"white\",\"ticks\":\"\"},\"bgcolor\":\"#E5ECF6\",\"caxis\":{\"gridcolor\":\"white\",\"linecolor\":\"white\",\"ticks\":\"\"}},\"title\":{\"x\":0.05},\"xaxis\":{\"automargin\":true,\"gridcolor\":\"white\",\"linecolor\":\"white\",\"ticks\":\"\",\"title\":{\"standoff\":15},\"zerolinecolor\":\"white\",\"zerolinewidth\":2},\"yaxis\":{\"automargin\":true,\"gridcolor\":\"white\",\"linecolor\":\"white\",\"ticks\":\"\",\"title\":{\"standoff\":15},\"zerolinecolor\":\"white\",\"zerolinewidth\":2}}},\"title\":{\"font\":{\"color\":\"#4D5663\"}},\"xaxis\":{\"gridcolor\":\"#E1E5ED\",\"showgrid\":true,\"tickfont\":{\"color\":\"#4D5663\"},\"title\":{\"font\":{\"color\":\"#4D5663\"},\"text\":\"\"},\"zerolinecolor\":\"#E1E5ED\"},\"yaxis\":{\"gridcolor\":\"#E1E5ED\",\"showgrid\":true,\"tickfont\":{\"color\":\"#4D5663\"},\"title\":{\"font\":{\"color\":\"#4D5663\"},\"text\":\"\"},\"zerolinecolor\":\"#E1E5ED\"}},                        {\"showLink\": true, \"linkText\": \"Export to plot.ly\", \"plotlyServerURL\": \"https://plot.ly\", \"responsive\": true}                    ).then(function(){\n",
       "                            \n",
       "var gd = document.getElementById('af287632-b021-4024-8916-9ade83041e0c');\n",
       "var x = new MutationObserver(function (mutations, observer) {{\n",
       "        var display = window.getComputedStyle(gd).display;\n",
       "        if (!display || display === 'none') {{\n",
       "            console.log([gd, 'removed!']);\n",
       "            Plotly.purge(gd);\n",
       "            observer.disconnect();\n",
       "        }}\n",
       "}});\n",
       "\n",
       "// Listen for the removal of the full notebook cells\n",
       "var notebookContainer = gd.closest('#notebook-container');\n",
       "if (notebookContainer) {{\n",
       "    x.observe(notebookContainer, {childList: true});\n",
       "}}\n",
       "\n",
       "// Listen for the clearing of the current output cell\n",
       "var outputEl = gd.closest('.output');\n",
       "if (outputEl) {{\n",
       "    x.observe(outputEl, {childList: true});\n",
       "}}\n",
       "\n",
       "                        })                };                });            </script>        </div>"
      ]
     },
     "metadata": {},
     "output_type": "display_data"
    }
   ],
   "source": [
    "# Migliori portieri per ROI-Fantamedia\n",
    "%matplotlib inline\n",
    "roi_serie_a[roi_serie_a['R']== 'P'].iplot(kind='scatter', x='Mf', y='ROI', mode='markers', text='Nome') "
   ]
  },
  {
   "cell_type": "markdown",
   "id": "0b32ff7d",
   "metadata": {},
   "source": [
    "In questo caso vediamo che Berisha, Falcone e Montipò si sono rivelate delle ottime soluzioni in porta"
   ]
  },
  {
   "cell_type": "code",
   "execution_count": 13,
   "id": "c44da90c",
   "metadata": {
    "ExecuteTime": {
     "end_time": "2022-09-11T09:36:48.889986Z",
     "start_time": "2022-09-11T09:36:48.736396Z"
    }
   },
   "outputs": [
    {
     "data": {
      "application/vnd.plotly.v1+json": {
       "config": {
        "linkText": "Export to plot.ly",
        "plotlyServerURL": "https://plot.ly",
        "showLink": true
       },
       "data": [
        {
         "line": {
          "color": "rgba(255, 153, 51, 1.0)",
          "dash": "solid",
          "shape": "linear",
          "width": 1.3
         },
         "marker": {
          "size": 12,
          "symbol": "circle"
         },
         "mode": "markers",
         "name": "ROI",
         "text": [
          "Bremer",
          "Toloi",
          "Rodrigo Becao",
          "Lovato",
          "Ferrari G.",
          "Martinez Quarta",
          "Marusic",
          "Magnani",
          "Hateboer",
          "Kiwior",
          "Tonelli",
          "Dimarco",
          "Lazzari",
          "Bellanova",
          "Zortea",
          "Djimsiti",
          "Hristov",
          "Nikolaou",
          "Ostigard",
          "Gabbia",
          "Mario Rui",
          "Kyriakopoulos",
          "Rugani",
          "Lykogiannis",
          "Aina",
          "Luperto",
          "Walukiewicz",
          "Bonifazi",
          "Dumfries",
          "Bastoni S.",
          "Kasius",
          "Kjaer",
          "Stojanovic",
          "Vina",
          "Ruggeri",
          "Reca",
          "Bereszynski",
          "Zanoli",
          "Cuadrado",
          "Fares",
          "Cambiaso",
          "Depaoli",
          "Ampadu",
          "Cacace",
          "Ebuehi",
          "Hysaj",
          "Soumaoro",
          "Alex Sandro",
          "Ranieri L.",
          "Murru",
          "De Sciglio",
          "Demiral",
          "Biraghi",
          "Buongiorno",
          "Ferrer",
          "Colley",
          "Toljan",
          "Perez N.",
          "Kumbulla",
          "Mancini",
          "Venuti",
          "Gunter",
          "Muldur",
          "Marchizza",
          "Skriniar",
          "Ballo-Toure'",
          "Kamenovic",
          "Singo",
          "Danilo",
          "Terzic",
          "Pezzella Giu.",
          "Caldara",
          "Parisi",
          "Vasquez",
          "Amian",
          "Gyomber",
          "Ruan",
          "Maehle",
          "Casale",
          "Milenkovic",
          "Ceccherini",
          "Izzo",
          "Dawidowicz",
          "Ismajli",
          "Tomori",
          "Carboni",
          "Bonucci",
          "Spinazzola",
          "Coppola D.",
          "Di Lorenzo",
          "Djidji",
          "Acerbi",
          "De Silvestri",
          "Rodriguez R.",
          "Augello",
          "Mazzocchi",
          "Igor",
          "Rogerio",
          "Soppy",
          "Calabria",
          "Mari'",
          "Fazio",
          "Ayhan",
          "Radovanovic",
          "Scalvini",
          "Patric",
          "Hernandez T.",
          "Karsdorp",
          "Kalulu",
          "Sala",
          "De Vrij",
          "Radu",
          "Chiriches",
          "Conti",
          "Cetin",
          "Romagnoli",
          "Juan Jesus",
          "Erlic",
          "Gosens",
          "Rrahmani",
          "Florenzi",
          "Zima",
          "Ranocchia",
          "Zappacosta",
          "Ferrari A.",
          "Vojvoda",
          "Ghiglione",
          "Darmian",
          "Faraoni",
          "Udogie",
          "Bastoni",
          "D'ambrosio",
          "Nuytinck",
          "Palomino",
          "Ibanez",
          "Smalling"
         ],
         "type": "scatter",
         "x": [
          6.62,
          6.11,
          6.11,
          5.81,
          5.79,
          5.75,
          5.68,
          5.61,
          5.6,
          5.57,
          5.23,
          6.42,
          6.32,
          6.02,
          5.91,
          5.81,
          5.69,
          5.51,
          5.5,
          5.43,
          6.09,
          5.94,
          5.88,
          5.78,
          5.72,
          5.68,
          5.58,
          5.41,
          6.78,
          6.38,
          5.9,
          5.9,
          5.86,
          5.74,
          5.73,
          5.69,
          5.66,
          5.64,
          6.56,
          6.5,
          6.12,
          5.88,
          5.78,
          5.75,
          5.67,
          5.67,
          5.65,
          5.59,
          5.59,
          5.55,
          6.26,
          6.12,
          6.09,
          5.89,
          5.85,
          5.81,
          5.79,
          5.7,
          5.69,
          5.58,
          5.57,
          5.57,
          5.56,
          5.55,
          6.47,
          5.5,
          5.5,
          6.41,
          6.21,
          6.07,
          5.97,
          5.87,
          5.85,
          5.8,
          5.67,
          5.58,
          5.4,
          5.96,
          5.9,
          5.82,
          5.81,
          5.78,
          5.77,
          4.94,
          6.27,
          5.52,
          6.72,
          6,
          5.83,
          6.35,
          5.71,
          6.26,
          6.24,
          6.02,
          5.91,
          5.84,
          5.77,
          5.75,
          5.75,
          6.48,
          6.47,
          5.91,
          5.86,
          5.86,
          6.27,
          5.7,
          6.61,
          5.97,
          6.46,
          5.94,
          5.71,
          5.61,
          5.59,
          6.5,
          6,
          5.94,
          6.18,
          6.05,
          6.36,
          6.5,
          6.38,
          5.92,
          5.92,
          6.19,
          5.73,
          6.05,
          5.64,
          6.37,
          6.52,
          6.5,
          6.34,
          6.38,
          6.19,
          6.09,
          6.08,
          6.54
         ],
         "y": [
          54.615,
          38.696666666666665,
          213.85000000000002,
          122.00999999999999,
          52.11,
          103.5,
          46.86,
          78.54,
          39.199999999999996,
          122.54,
          67.99000000000001,
          53.5,
          11.06,
          186.61999999999998,
          135.93,
          33.69799999999999,
          91.04,
          198.35999999999999,
          82.5,
          38.01,
          41.412,
          148.5,
          70.56,
          144.5,
          114.39999999999999,
          124.96,
          33.480000000000004,
          91.97,
          19.723636363636363,
          185.02,
          29.5,
          6.555555555555555,
          193.38000000000002,
          14.66888888888889,
          37.245000000000005,
          136.56,
          198.1,
          39.48,
          7.497142857142856,
          58.5,
          76.5,
          99.96,
          167.62,
          46,
          102.06,
          21.87,
          152.55,
          15.093,
          150.93,
          105.45,
          106.42,
          38.25,
          37.555,
          106.02,
          134.54999999999998,
          90.05499999999999,
          55.005,
          114,
          73.97,
          11.508750000000001,
          116.97,
          167.10000000000002,
          139,
          52.725,
          12.580555555555556,
          38.5,
          5.5,
          112.175,
          26.082,
          42.49,
          95.52,
          176.1,
          134.54999999999998,
          162.4,
          181.44,
          167.4,
          27,
          9.791428571428572,
          200.60000000000002,
          19.788,
          197.54,
          52.02,
          86.55,
          79.04,
          13.883571428571427,
          154.56,
          10.304,
          1.5,
          17.490000000000002,
          14.967857142857142,
          137.04,
          13.964615384615383,
          48.36,
          192.64,
          100.47,
          186.88,
          161.56,
          42.166666666666664,
          103.5,
          16.848000000000003,
          97.05,
          94.56,
          105.48,
          82.04,
          81.50999999999999,
          125.4,
          7.050666666666667,
          13.93,
          155.04,
          95.04,
          10.658666666666667,
          50.49,
          150.93,
          26,
          6,
          100.98,
          86.52,
          181.5,
          1.998857142857143,
          214.5,
          12.76,
          106.56,
          35.519999999999996,
          95.94500000000001,
          126.06,
          175.45,
          62.04,
          48.836666666666666,
          18.967272727272725,
          221,
          10.918888888888889,
          102.08,
          160.94,
          40.194,
          48.64,
          54.5
         ]
        }
       ],
       "layout": {
        "legend": {
         "bgcolor": "#F5F6F9",
         "font": {
          "color": "#4D5663"
         }
        },
        "paper_bgcolor": "#F5F6F9",
        "plot_bgcolor": "#F5F6F9",
        "template": {
         "data": {
          "bar": [
           {
            "error_x": {
             "color": "#2a3f5f"
            },
            "error_y": {
             "color": "#2a3f5f"
            },
            "marker": {
             "line": {
              "color": "#E5ECF6",
              "width": 0.5
             },
             "pattern": {
              "fillmode": "overlay",
              "size": 10,
              "solidity": 0.2
             }
            },
            "type": "bar"
           }
          ],
          "barpolar": [
           {
            "marker": {
             "line": {
              "color": "#E5ECF6",
              "width": 0.5
             },
             "pattern": {
              "fillmode": "overlay",
              "size": 10,
              "solidity": 0.2
             }
            },
            "type": "barpolar"
           }
          ],
          "carpet": [
           {
            "aaxis": {
             "endlinecolor": "#2a3f5f",
             "gridcolor": "white",
             "linecolor": "white",
             "minorgridcolor": "white",
             "startlinecolor": "#2a3f5f"
            },
            "baxis": {
             "endlinecolor": "#2a3f5f",
             "gridcolor": "white",
             "linecolor": "white",
             "minorgridcolor": "white",
             "startlinecolor": "#2a3f5f"
            },
            "type": "carpet"
           }
          ],
          "choropleth": [
           {
            "colorbar": {
             "outlinewidth": 0,
             "ticks": ""
            },
            "type": "choropleth"
           }
          ],
          "contour": [
           {
            "colorbar": {
             "outlinewidth": 0,
             "ticks": ""
            },
            "colorscale": [
             [
              0,
              "#0d0887"
             ],
             [
              0.1111111111111111,
              "#46039f"
             ],
             [
              0.2222222222222222,
              "#7201a8"
             ],
             [
              0.3333333333333333,
              "#9c179e"
             ],
             [
              0.4444444444444444,
              "#bd3786"
             ],
             [
              0.5555555555555556,
              "#d8576b"
             ],
             [
              0.6666666666666666,
              "#ed7953"
             ],
             [
              0.7777777777777778,
              "#fb9f3a"
             ],
             [
              0.8888888888888888,
              "#fdca26"
             ],
             [
              1,
              "#f0f921"
             ]
            ],
            "type": "contour"
           }
          ],
          "contourcarpet": [
           {
            "colorbar": {
             "outlinewidth": 0,
             "ticks": ""
            },
            "type": "contourcarpet"
           }
          ],
          "heatmap": [
           {
            "colorbar": {
             "outlinewidth": 0,
             "ticks": ""
            },
            "colorscale": [
             [
              0,
              "#0d0887"
             ],
             [
              0.1111111111111111,
              "#46039f"
             ],
             [
              0.2222222222222222,
              "#7201a8"
             ],
             [
              0.3333333333333333,
              "#9c179e"
             ],
             [
              0.4444444444444444,
              "#bd3786"
             ],
             [
              0.5555555555555556,
              "#d8576b"
             ],
             [
              0.6666666666666666,
              "#ed7953"
             ],
             [
              0.7777777777777778,
              "#fb9f3a"
             ],
             [
              0.8888888888888888,
              "#fdca26"
             ],
             [
              1,
              "#f0f921"
             ]
            ],
            "type": "heatmap"
           }
          ],
          "heatmapgl": [
           {
            "colorbar": {
             "outlinewidth": 0,
             "ticks": ""
            },
            "colorscale": [
             [
              0,
              "#0d0887"
             ],
             [
              0.1111111111111111,
              "#46039f"
             ],
             [
              0.2222222222222222,
              "#7201a8"
             ],
             [
              0.3333333333333333,
              "#9c179e"
             ],
             [
              0.4444444444444444,
              "#bd3786"
             ],
             [
              0.5555555555555556,
              "#d8576b"
             ],
             [
              0.6666666666666666,
              "#ed7953"
             ],
             [
              0.7777777777777778,
              "#fb9f3a"
             ],
             [
              0.8888888888888888,
              "#fdca26"
             ],
             [
              1,
              "#f0f921"
             ]
            ],
            "type": "heatmapgl"
           }
          ],
          "histogram": [
           {
            "marker": {
             "pattern": {
              "fillmode": "overlay",
              "size": 10,
              "solidity": 0.2
             }
            },
            "type": "histogram"
           }
          ],
          "histogram2d": [
           {
            "colorbar": {
             "outlinewidth": 0,
             "ticks": ""
            },
            "colorscale": [
             [
              0,
              "#0d0887"
             ],
             [
              0.1111111111111111,
              "#46039f"
             ],
             [
              0.2222222222222222,
              "#7201a8"
             ],
             [
              0.3333333333333333,
              "#9c179e"
             ],
             [
              0.4444444444444444,
              "#bd3786"
             ],
             [
              0.5555555555555556,
              "#d8576b"
             ],
             [
              0.6666666666666666,
              "#ed7953"
             ],
             [
              0.7777777777777778,
              "#fb9f3a"
             ],
             [
              0.8888888888888888,
              "#fdca26"
             ],
             [
              1,
              "#f0f921"
             ]
            ],
            "type": "histogram2d"
           }
          ],
          "histogram2dcontour": [
           {
            "colorbar": {
             "outlinewidth": 0,
             "ticks": ""
            },
            "colorscale": [
             [
              0,
              "#0d0887"
             ],
             [
              0.1111111111111111,
              "#46039f"
             ],
             [
              0.2222222222222222,
              "#7201a8"
             ],
             [
              0.3333333333333333,
              "#9c179e"
             ],
             [
              0.4444444444444444,
              "#bd3786"
             ],
             [
              0.5555555555555556,
              "#d8576b"
             ],
             [
              0.6666666666666666,
              "#ed7953"
             ],
             [
              0.7777777777777778,
              "#fb9f3a"
             ],
             [
              0.8888888888888888,
              "#fdca26"
             ],
             [
              1,
              "#f0f921"
             ]
            ],
            "type": "histogram2dcontour"
           }
          ],
          "mesh3d": [
           {
            "colorbar": {
             "outlinewidth": 0,
             "ticks": ""
            },
            "type": "mesh3d"
           }
          ],
          "parcoords": [
           {
            "line": {
             "colorbar": {
              "outlinewidth": 0,
              "ticks": ""
             }
            },
            "type": "parcoords"
           }
          ],
          "pie": [
           {
            "automargin": true,
            "type": "pie"
           }
          ],
          "scatter": [
           {
            "fillpattern": {
             "fillmode": "overlay",
             "size": 10,
             "solidity": 0.2
            },
            "type": "scatter"
           }
          ],
          "scatter3d": [
           {
            "line": {
             "colorbar": {
              "outlinewidth": 0,
              "ticks": ""
             }
            },
            "marker": {
             "colorbar": {
              "outlinewidth": 0,
              "ticks": ""
             }
            },
            "type": "scatter3d"
           }
          ],
          "scattercarpet": [
           {
            "marker": {
             "colorbar": {
              "outlinewidth": 0,
              "ticks": ""
             }
            },
            "type": "scattercarpet"
           }
          ],
          "scattergeo": [
           {
            "marker": {
             "colorbar": {
              "outlinewidth": 0,
              "ticks": ""
             }
            },
            "type": "scattergeo"
           }
          ],
          "scattergl": [
           {
            "marker": {
             "colorbar": {
              "outlinewidth": 0,
              "ticks": ""
             }
            },
            "type": "scattergl"
           }
          ],
          "scattermapbox": [
           {
            "marker": {
             "colorbar": {
              "outlinewidth": 0,
              "ticks": ""
             }
            },
            "type": "scattermapbox"
           }
          ],
          "scatterpolar": [
           {
            "marker": {
             "colorbar": {
              "outlinewidth": 0,
              "ticks": ""
             }
            },
            "type": "scatterpolar"
           }
          ],
          "scatterpolargl": [
           {
            "marker": {
             "colorbar": {
              "outlinewidth": 0,
              "ticks": ""
             }
            },
            "type": "scatterpolargl"
           }
          ],
          "scatterternary": [
           {
            "marker": {
             "colorbar": {
              "outlinewidth": 0,
              "ticks": ""
             }
            },
            "type": "scatterternary"
           }
          ],
          "surface": [
           {
            "colorbar": {
             "outlinewidth": 0,
             "ticks": ""
            },
            "colorscale": [
             [
              0,
              "#0d0887"
             ],
             [
              0.1111111111111111,
              "#46039f"
             ],
             [
              0.2222222222222222,
              "#7201a8"
             ],
             [
              0.3333333333333333,
              "#9c179e"
             ],
             [
              0.4444444444444444,
              "#bd3786"
             ],
             [
              0.5555555555555556,
              "#d8576b"
             ],
             [
              0.6666666666666666,
              "#ed7953"
             ],
             [
              0.7777777777777778,
              "#fb9f3a"
             ],
             [
              0.8888888888888888,
              "#fdca26"
             ],
             [
              1,
              "#f0f921"
             ]
            ],
            "type": "surface"
           }
          ],
          "table": [
           {
            "cells": {
             "fill": {
              "color": "#EBF0F8"
             },
             "line": {
              "color": "white"
             }
            },
            "header": {
             "fill": {
              "color": "#C8D4E3"
             },
             "line": {
              "color": "white"
             }
            },
            "type": "table"
           }
          ]
         },
         "layout": {
          "annotationdefaults": {
           "arrowcolor": "#2a3f5f",
           "arrowhead": 0,
           "arrowwidth": 1
          },
          "autotypenumbers": "strict",
          "coloraxis": {
           "colorbar": {
            "outlinewidth": 0,
            "ticks": ""
           }
          },
          "colorscale": {
           "diverging": [
            [
             0,
             "#8e0152"
            ],
            [
             0.1,
             "#c51b7d"
            ],
            [
             0.2,
             "#de77ae"
            ],
            [
             0.3,
             "#f1b6da"
            ],
            [
             0.4,
             "#fde0ef"
            ],
            [
             0.5,
             "#f7f7f7"
            ],
            [
             0.6,
             "#e6f5d0"
            ],
            [
             0.7,
             "#b8e186"
            ],
            [
             0.8,
             "#7fbc41"
            ],
            [
             0.9,
             "#4d9221"
            ],
            [
             1,
             "#276419"
            ]
           ],
           "sequential": [
            [
             0,
             "#0d0887"
            ],
            [
             0.1111111111111111,
             "#46039f"
            ],
            [
             0.2222222222222222,
             "#7201a8"
            ],
            [
             0.3333333333333333,
             "#9c179e"
            ],
            [
             0.4444444444444444,
             "#bd3786"
            ],
            [
             0.5555555555555556,
             "#d8576b"
            ],
            [
             0.6666666666666666,
             "#ed7953"
            ],
            [
             0.7777777777777778,
             "#fb9f3a"
            ],
            [
             0.8888888888888888,
             "#fdca26"
            ],
            [
             1,
             "#f0f921"
            ]
           ],
           "sequentialminus": [
            [
             0,
             "#0d0887"
            ],
            [
             0.1111111111111111,
             "#46039f"
            ],
            [
             0.2222222222222222,
             "#7201a8"
            ],
            [
             0.3333333333333333,
             "#9c179e"
            ],
            [
             0.4444444444444444,
             "#bd3786"
            ],
            [
             0.5555555555555556,
             "#d8576b"
            ],
            [
             0.6666666666666666,
             "#ed7953"
            ],
            [
             0.7777777777777778,
             "#fb9f3a"
            ],
            [
             0.8888888888888888,
             "#fdca26"
            ],
            [
             1,
             "#f0f921"
            ]
           ]
          },
          "colorway": [
           "#636efa",
           "#EF553B",
           "#00cc96",
           "#ab63fa",
           "#FFA15A",
           "#19d3f3",
           "#FF6692",
           "#B6E880",
           "#FF97FF",
           "#FECB52"
          ],
          "font": {
           "color": "#2a3f5f"
          },
          "geo": {
           "bgcolor": "white",
           "lakecolor": "white",
           "landcolor": "#E5ECF6",
           "showlakes": true,
           "showland": true,
           "subunitcolor": "white"
          },
          "hoverlabel": {
           "align": "left"
          },
          "hovermode": "closest",
          "mapbox": {
           "style": "light"
          },
          "paper_bgcolor": "white",
          "plot_bgcolor": "#E5ECF6",
          "polar": {
           "angularaxis": {
            "gridcolor": "white",
            "linecolor": "white",
            "ticks": ""
           },
           "bgcolor": "#E5ECF6",
           "radialaxis": {
            "gridcolor": "white",
            "linecolor": "white",
            "ticks": ""
           }
          },
          "scene": {
           "xaxis": {
            "backgroundcolor": "#E5ECF6",
            "gridcolor": "white",
            "gridwidth": 2,
            "linecolor": "white",
            "showbackground": true,
            "ticks": "",
            "zerolinecolor": "white"
           },
           "yaxis": {
            "backgroundcolor": "#E5ECF6",
            "gridcolor": "white",
            "gridwidth": 2,
            "linecolor": "white",
            "showbackground": true,
            "ticks": "",
            "zerolinecolor": "white"
           },
           "zaxis": {
            "backgroundcolor": "#E5ECF6",
            "gridcolor": "white",
            "gridwidth": 2,
            "linecolor": "white",
            "showbackground": true,
            "ticks": "",
            "zerolinecolor": "white"
           }
          },
          "shapedefaults": {
           "line": {
            "color": "#2a3f5f"
           }
          },
          "ternary": {
           "aaxis": {
            "gridcolor": "white",
            "linecolor": "white",
            "ticks": ""
           },
           "baxis": {
            "gridcolor": "white",
            "linecolor": "white",
            "ticks": ""
           },
           "bgcolor": "#E5ECF6",
           "caxis": {
            "gridcolor": "white",
            "linecolor": "white",
            "ticks": ""
           }
          },
          "title": {
           "x": 0.05
          },
          "xaxis": {
           "automargin": true,
           "gridcolor": "white",
           "linecolor": "white",
           "ticks": "",
           "title": {
            "standoff": 15
           },
           "zerolinecolor": "white",
           "zerolinewidth": 2
          },
          "yaxis": {
           "automargin": true,
           "gridcolor": "white",
           "linecolor": "white",
           "ticks": "",
           "title": {
            "standoff": 15
           },
           "zerolinecolor": "white",
           "zerolinewidth": 2
          }
         }
        },
        "title": {
         "font": {
          "color": "#4D5663"
         }
        },
        "xaxis": {
         "gridcolor": "#E1E5ED",
         "showgrid": true,
         "tickfont": {
          "color": "#4D5663"
         },
         "title": {
          "font": {
           "color": "#4D5663"
          },
          "text": ""
         },
         "zerolinecolor": "#E1E5ED"
        },
        "yaxis": {
         "gridcolor": "#E1E5ED",
         "showgrid": true,
         "tickfont": {
          "color": "#4D5663"
         },
         "title": {
          "font": {
           "color": "#4D5663"
          },
          "text": ""
         },
         "zerolinecolor": "#E1E5ED"
        }
       }
      },
      "text/html": [
       "<div>                            <div id=\"5b61935b-e6ed-41ce-9976-c9840196a665\" class=\"plotly-graph-div\" style=\"height:525px; width:100%;\"></div>            <script type=\"text/javascript\">                require([\"plotly\"], function(Plotly) {                    window.PLOTLYENV=window.PLOTLYENV || {};\n",
       "                    window.PLOTLYENV.BASE_URL='https://plot.ly';                                    if (document.getElementById(\"5b61935b-e6ed-41ce-9976-c9840196a665\")) {                    Plotly.newPlot(                        \"5b61935b-e6ed-41ce-9976-c9840196a665\",                        [{\"line\":{\"color\":\"rgba(255, 153, 51, 1.0)\",\"dash\":\"solid\",\"shape\":\"linear\",\"width\":1.3},\"marker\":{\"size\":12,\"symbol\":\"circle\"},\"mode\":\"markers\",\"name\":\"ROI\",\"text\":[\"Bremer\",\"Toloi\",\"Rodrigo Becao\",\"Lovato\",\"Ferrari G.\",\"Martinez Quarta\",\"Marusic\",\"Magnani\",\"Hateboer\",\"Kiwior\",\"Tonelli\",\"Dimarco\",\"Lazzari\",\"Bellanova\",\"Zortea\",\"Djimsiti\",\"Hristov\",\"Nikolaou\",\"Ostigard\",\"Gabbia\",\"Mario Rui\",\"Kyriakopoulos\",\"Rugani\",\"Lykogiannis\",\"Aina\",\"Luperto\",\"Walukiewicz\",\"Bonifazi\",\"Dumfries\",\"Bastoni S.\",\"Kasius\",\"Kjaer\",\"Stojanovic\",\"Vina\",\"Ruggeri\",\"Reca\",\"Bereszynski\",\"Zanoli\",\"Cuadrado\",\"Fares\",\"Cambiaso\",\"Depaoli\",\"Ampadu\",\"Cacace\",\"Ebuehi\",\"Hysaj\",\"Soumaoro\",\"Alex Sandro\",\"Ranieri L.\",\"Murru\",\"De Sciglio\",\"Demiral\",\"Biraghi\",\"Buongiorno\",\"Ferrer\",\"Colley\",\"Toljan\",\"Perez N.\",\"Kumbulla\",\"Mancini\",\"Venuti\",\"Gunter\",\"Muldur\",\"Marchizza\",\"Skriniar\",\"Ballo-Toure'\",\"Kamenovic\",\"Singo\",\"Danilo\",\"Terzic\",\"Pezzella Giu.\",\"Caldara\",\"Parisi\",\"Vasquez\",\"Amian\",\"Gyomber\",\"Ruan\",\"Maehle\",\"Casale\",\"Milenkovic\",\"Ceccherini\",\"Izzo\",\"Dawidowicz\",\"Ismajli\",\"Tomori\",\"Carboni\",\"Bonucci\",\"Spinazzola\",\"Coppola D.\",\"Di Lorenzo\",\"Djidji\",\"Acerbi\",\"De Silvestri\",\"Rodriguez R.\",\"Augello\",\"Mazzocchi\",\"Igor\",\"Rogerio\",\"Soppy\",\"Calabria\",\"Mari'\",\"Fazio\",\"Ayhan\",\"Radovanovic\",\"Scalvini\",\"Patric\",\"Hernandez T.\",\"Karsdorp\",\"Kalulu\",\"Sala\",\"De Vrij\",\"Radu\",\"Chiriches\",\"Conti\",\"Cetin\",\"Romagnoli\",\"Juan Jesus\",\"Erlic\",\"Gosens\",\"Rrahmani\",\"Florenzi\",\"Zima\",\"Ranocchia\",\"Zappacosta\",\"Ferrari A.\",\"Vojvoda\",\"Ghiglione\",\"Darmian\",\"Faraoni\",\"Udogie\",\"Bastoni\",\"D'ambrosio\",\"Nuytinck\",\"Palomino\",\"Ibanez\",\"Smalling\"],\"x\":[6.62,6.11,6.11,5.81,5.79,5.75,5.68,5.61,5.6,5.57,5.23,6.42,6.32,6.02,5.91,5.81,5.69,5.51,5.5,5.43,6.09,5.94,5.88,5.78,5.72,5.68,5.58,5.41,6.78,6.38,5.9,5.9,5.86,5.74,5.73,5.69,5.66,5.64,6.56,6.5,6.12,5.88,5.78,5.75,5.67,5.67,5.65,5.59,5.59,5.55,6.26,6.12,6.09,5.89,5.85,5.81,5.79,5.7,5.69,5.58,5.57,5.57,5.56,5.55,6.47,5.5,5.5,6.41,6.21,6.07,5.97,5.87,5.85,5.8,5.67,5.58,5.4,5.96,5.9,5.82,5.81,5.78,5.77,4.94,6.27,5.52,6.72,6.0,5.83,6.35,5.71,6.26,6.24,6.02,5.91,5.84,5.77,5.75,5.75,6.48,6.47,5.91,5.86,5.86,6.27,5.7,6.61,5.97,6.46,5.94,5.71,5.61,5.59,6.5,6.0,5.94,6.18,6.05,6.36,6.5,6.38,5.92,5.92,6.19,5.73,6.05,5.64,6.37,6.52,6.5,6.34,6.38,6.19,6.09,6.08,6.54],\"y\":[54.615,38.696666666666665,213.85000000000002,122.00999999999999,52.11,103.5,46.86,78.54,39.199999999999996,122.54,67.99000000000001,53.5,11.06,186.61999999999998,135.93,33.69799999999999,91.04,198.35999999999999,82.5,38.01,41.412,148.5,70.56,144.5,114.39999999999999,124.96,33.480000000000004,91.97,19.723636363636363,185.02,29.5,6.555555555555555,193.38000000000002,14.66888888888889,37.245000000000005,136.56,198.1,39.48,7.497142857142856,58.5,76.5,99.96,167.62,46.0,102.06,21.87,152.55,15.093,150.93,105.45,106.42,38.25,37.555,106.02,134.54999999999998,90.05499999999999,55.005,114.0,73.97,11.508750000000001,116.97,167.10000000000002,139.0,52.725,12.580555555555556,38.5,5.5,112.175,26.082,42.49,95.52,176.1,134.54999999999998,162.4,181.44,167.4,27.0,9.791428571428572,200.60000000000002,19.788,197.54,52.02,86.55,79.04,13.883571428571427,154.56,10.304,1.5,17.490000000000002,14.967857142857142,137.04,13.964615384615383,48.36,192.64,100.47,186.88,161.56,42.166666666666664,103.5,16.848000000000003,97.05,94.56,105.48,82.04,81.50999999999999,125.4,7.050666666666667,13.93,155.04,95.04,10.658666666666667,50.49,150.93,26.0,6.0,100.98,86.52,181.5,1.998857142857143,214.5,12.76,106.56,35.519999999999996,95.94500000000001,126.06,175.45,62.04,48.836666666666666,18.967272727272725,221.0,10.918888888888889,102.08,160.94,40.194,48.64,54.5],\"type\":\"scatter\"}],                        {\"legend\":{\"bgcolor\":\"#F5F6F9\",\"font\":{\"color\":\"#4D5663\"}},\"paper_bgcolor\":\"#F5F6F9\",\"plot_bgcolor\":\"#F5F6F9\",\"template\":{\"data\":{\"barpolar\":[{\"marker\":{\"line\":{\"color\":\"#E5ECF6\",\"width\":0.5},\"pattern\":{\"fillmode\":\"overlay\",\"size\":10,\"solidity\":0.2}},\"type\":\"barpolar\"}],\"bar\":[{\"error_x\":{\"color\":\"#2a3f5f\"},\"error_y\":{\"color\":\"#2a3f5f\"},\"marker\":{\"line\":{\"color\":\"#E5ECF6\",\"width\":0.5},\"pattern\":{\"fillmode\":\"overlay\",\"size\":10,\"solidity\":0.2}},\"type\":\"bar\"}],\"carpet\":[{\"aaxis\":{\"endlinecolor\":\"#2a3f5f\",\"gridcolor\":\"white\",\"linecolor\":\"white\",\"minorgridcolor\":\"white\",\"startlinecolor\":\"#2a3f5f\"},\"baxis\":{\"endlinecolor\":\"#2a3f5f\",\"gridcolor\":\"white\",\"linecolor\":\"white\",\"minorgridcolor\":\"white\",\"startlinecolor\":\"#2a3f5f\"},\"type\":\"carpet\"}],\"choropleth\":[{\"colorbar\":{\"outlinewidth\":0,\"ticks\":\"\"},\"type\":\"choropleth\"}],\"contourcarpet\":[{\"colorbar\":{\"outlinewidth\":0,\"ticks\":\"\"},\"type\":\"contourcarpet\"}],\"contour\":[{\"colorbar\":{\"outlinewidth\":0,\"ticks\":\"\"},\"colorscale\":[[0.0,\"#0d0887\"],[0.1111111111111111,\"#46039f\"],[0.2222222222222222,\"#7201a8\"],[0.3333333333333333,\"#9c179e\"],[0.4444444444444444,\"#bd3786\"],[0.5555555555555556,\"#d8576b\"],[0.6666666666666666,\"#ed7953\"],[0.7777777777777778,\"#fb9f3a\"],[0.8888888888888888,\"#fdca26\"],[1.0,\"#f0f921\"]],\"type\":\"contour\"}],\"heatmapgl\":[{\"colorbar\":{\"outlinewidth\":0,\"ticks\":\"\"},\"colorscale\":[[0.0,\"#0d0887\"],[0.1111111111111111,\"#46039f\"],[0.2222222222222222,\"#7201a8\"],[0.3333333333333333,\"#9c179e\"],[0.4444444444444444,\"#bd3786\"],[0.5555555555555556,\"#d8576b\"],[0.6666666666666666,\"#ed7953\"],[0.7777777777777778,\"#fb9f3a\"],[0.8888888888888888,\"#fdca26\"],[1.0,\"#f0f921\"]],\"type\":\"heatmapgl\"}],\"heatmap\":[{\"colorbar\":{\"outlinewidth\":0,\"ticks\":\"\"},\"colorscale\":[[0.0,\"#0d0887\"],[0.1111111111111111,\"#46039f\"],[0.2222222222222222,\"#7201a8\"],[0.3333333333333333,\"#9c179e\"],[0.4444444444444444,\"#bd3786\"],[0.5555555555555556,\"#d8576b\"],[0.6666666666666666,\"#ed7953\"],[0.7777777777777778,\"#fb9f3a\"],[0.8888888888888888,\"#fdca26\"],[1.0,\"#f0f921\"]],\"type\":\"heatmap\"}],\"histogram2dcontour\":[{\"colorbar\":{\"outlinewidth\":0,\"ticks\":\"\"},\"colorscale\":[[0.0,\"#0d0887\"],[0.1111111111111111,\"#46039f\"],[0.2222222222222222,\"#7201a8\"],[0.3333333333333333,\"#9c179e\"],[0.4444444444444444,\"#bd3786\"],[0.5555555555555556,\"#d8576b\"],[0.6666666666666666,\"#ed7953\"],[0.7777777777777778,\"#fb9f3a\"],[0.8888888888888888,\"#fdca26\"],[1.0,\"#f0f921\"]],\"type\":\"histogram2dcontour\"}],\"histogram2d\":[{\"colorbar\":{\"outlinewidth\":0,\"ticks\":\"\"},\"colorscale\":[[0.0,\"#0d0887\"],[0.1111111111111111,\"#46039f\"],[0.2222222222222222,\"#7201a8\"],[0.3333333333333333,\"#9c179e\"],[0.4444444444444444,\"#bd3786\"],[0.5555555555555556,\"#d8576b\"],[0.6666666666666666,\"#ed7953\"],[0.7777777777777778,\"#fb9f3a\"],[0.8888888888888888,\"#fdca26\"],[1.0,\"#f0f921\"]],\"type\":\"histogram2d\"}],\"histogram\":[{\"marker\":{\"pattern\":{\"fillmode\":\"overlay\",\"size\":10,\"solidity\":0.2}},\"type\":\"histogram\"}],\"mesh3d\":[{\"colorbar\":{\"outlinewidth\":0,\"ticks\":\"\"},\"type\":\"mesh3d\"}],\"parcoords\":[{\"line\":{\"colorbar\":{\"outlinewidth\":0,\"ticks\":\"\"}},\"type\":\"parcoords\"}],\"pie\":[{\"automargin\":true,\"type\":\"pie\"}],\"scatter3d\":[{\"line\":{\"colorbar\":{\"outlinewidth\":0,\"ticks\":\"\"}},\"marker\":{\"colorbar\":{\"outlinewidth\":0,\"ticks\":\"\"}},\"type\":\"scatter3d\"}],\"scattercarpet\":[{\"marker\":{\"colorbar\":{\"outlinewidth\":0,\"ticks\":\"\"}},\"type\":\"scattercarpet\"}],\"scattergeo\":[{\"marker\":{\"colorbar\":{\"outlinewidth\":0,\"ticks\":\"\"}},\"type\":\"scattergeo\"}],\"scattergl\":[{\"marker\":{\"colorbar\":{\"outlinewidth\":0,\"ticks\":\"\"}},\"type\":\"scattergl\"}],\"scattermapbox\":[{\"marker\":{\"colorbar\":{\"outlinewidth\":0,\"ticks\":\"\"}},\"type\":\"scattermapbox\"}],\"scatterpolargl\":[{\"marker\":{\"colorbar\":{\"outlinewidth\":0,\"ticks\":\"\"}},\"type\":\"scatterpolargl\"}],\"scatterpolar\":[{\"marker\":{\"colorbar\":{\"outlinewidth\":0,\"ticks\":\"\"}},\"type\":\"scatterpolar\"}],\"scatter\":[{\"fillpattern\":{\"fillmode\":\"overlay\",\"size\":10,\"solidity\":0.2},\"type\":\"scatter\"}],\"scatterternary\":[{\"marker\":{\"colorbar\":{\"outlinewidth\":0,\"ticks\":\"\"}},\"type\":\"scatterternary\"}],\"surface\":[{\"colorbar\":{\"outlinewidth\":0,\"ticks\":\"\"},\"colorscale\":[[0.0,\"#0d0887\"],[0.1111111111111111,\"#46039f\"],[0.2222222222222222,\"#7201a8\"],[0.3333333333333333,\"#9c179e\"],[0.4444444444444444,\"#bd3786\"],[0.5555555555555556,\"#d8576b\"],[0.6666666666666666,\"#ed7953\"],[0.7777777777777778,\"#fb9f3a\"],[0.8888888888888888,\"#fdca26\"],[1.0,\"#f0f921\"]],\"type\":\"surface\"}],\"table\":[{\"cells\":{\"fill\":{\"color\":\"#EBF0F8\"},\"line\":{\"color\":\"white\"}},\"header\":{\"fill\":{\"color\":\"#C8D4E3\"},\"line\":{\"color\":\"white\"}},\"type\":\"table\"}]},\"layout\":{\"annotationdefaults\":{\"arrowcolor\":\"#2a3f5f\",\"arrowhead\":0,\"arrowwidth\":1},\"autotypenumbers\":\"strict\",\"coloraxis\":{\"colorbar\":{\"outlinewidth\":0,\"ticks\":\"\"}},\"colorscale\":{\"diverging\":[[0,\"#8e0152\"],[0.1,\"#c51b7d\"],[0.2,\"#de77ae\"],[0.3,\"#f1b6da\"],[0.4,\"#fde0ef\"],[0.5,\"#f7f7f7\"],[0.6,\"#e6f5d0\"],[0.7,\"#b8e186\"],[0.8,\"#7fbc41\"],[0.9,\"#4d9221\"],[1,\"#276419\"]],\"sequential\":[[0.0,\"#0d0887\"],[0.1111111111111111,\"#46039f\"],[0.2222222222222222,\"#7201a8\"],[0.3333333333333333,\"#9c179e\"],[0.4444444444444444,\"#bd3786\"],[0.5555555555555556,\"#d8576b\"],[0.6666666666666666,\"#ed7953\"],[0.7777777777777778,\"#fb9f3a\"],[0.8888888888888888,\"#fdca26\"],[1.0,\"#f0f921\"]],\"sequentialminus\":[[0.0,\"#0d0887\"],[0.1111111111111111,\"#46039f\"],[0.2222222222222222,\"#7201a8\"],[0.3333333333333333,\"#9c179e\"],[0.4444444444444444,\"#bd3786\"],[0.5555555555555556,\"#d8576b\"],[0.6666666666666666,\"#ed7953\"],[0.7777777777777778,\"#fb9f3a\"],[0.8888888888888888,\"#fdca26\"],[1.0,\"#f0f921\"]]},\"colorway\":[\"#636efa\",\"#EF553B\",\"#00cc96\",\"#ab63fa\",\"#FFA15A\",\"#19d3f3\",\"#FF6692\",\"#B6E880\",\"#FF97FF\",\"#FECB52\"],\"font\":{\"color\":\"#2a3f5f\"},\"geo\":{\"bgcolor\":\"white\",\"lakecolor\":\"white\",\"landcolor\":\"#E5ECF6\",\"showlakes\":true,\"showland\":true,\"subunitcolor\":\"white\"},\"hoverlabel\":{\"align\":\"left\"},\"hovermode\":\"closest\",\"mapbox\":{\"style\":\"light\"},\"paper_bgcolor\":\"white\",\"plot_bgcolor\":\"#E5ECF6\",\"polar\":{\"angularaxis\":{\"gridcolor\":\"white\",\"linecolor\":\"white\",\"ticks\":\"\"},\"bgcolor\":\"#E5ECF6\",\"radialaxis\":{\"gridcolor\":\"white\",\"linecolor\":\"white\",\"ticks\":\"\"}},\"scene\":{\"xaxis\":{\"backgroundcolor\":\"#E5ECF6\",\"gridcolor\":\"white\",\"gridwidth\":2,\"linecolor\":\"white\",\"showbackground\":true,\"ticks\":\"\",\"zerolinecolor\":\"white\"},\"yaxis\":{\"backgroundcolor\":\"#E5ECF6\",\"gridcolor\":\"white\",\"gridwidth\":2,\"linecolor\":\"white\",\"showbackground\":true,\"ticks\":\"\",\"zerolinecolor\":\"white\"},\"zaxis\":{\"backgroundcolor\":\"#E5ECF6\",\"gridcolor\":\"white\",\"gridwidth\":2,\"linecolor\":\"white\",\"showbackground\":true,\"ticks\":\"\",\"zerolinecolor\":\"white\"}},\"shapedefaults\":{\"line\":{\"color\":\"#2a3f5f\"}},\"ternary\":{\"aaxis\":{\"gridcolor\":\"white\",\"linecolor\":\"white\",\"ticks\":\"\"},\"baxis\":{\"gridcolor\":\"white\",\"linecolor\":\"white\",\"ticks\":\"\"},\"bgcolor\":\"#E5ECF6\",\"caxis\":{\"gridcolor\":\"white\",\"linecolor\":\"white\",\"ticks\":\"\"}},\"title\":{\"x\":0.05},\"xaxis\":{\"automargin\":true,\"gridcolor\":\"white\",\"linecolor\":\"white\",\"ticks\":\"\",\"title\":{\"standoff\":15},\"zerolinecolor\":\"white\",\"zerolinewidth\":2},\"yaxis\":{\"automargin\":true,\"gridcolor\":\"white\",\"linecolor\":\"white\",\"ticks\":\"\",\"title\":{\"standoff\":15},\"zerolinecolor\":\"white\",\"zerolinewidth\":2}}},\"title\":{\"font\":{\"color\":\"#4D5663\"}},\"xaxis\":{\"gridcolor\":\"#E1E5ED\",\"showgrid\":true,\"tickfont\":{\"color\":\"#4D5663\"},\"title\":{\"font\":{\"color\":\"#4D5663\"},\"text\":\"\"},\"zerolinecolor\":\"#E1E5ED\"},\"yaxis\":{\"gridcolor\":\"#E1E5ED\",\"showgrid\":true,\"tickfont\":{\"color\":\"#4D5663\"},\"title\":{\"font\":{\"color\":\"#4D5663\"},\"text\":\"\"},\"zerolinecolor\":\"#E1E5ED\"}},                        {\"showLink\": true, \"linkText\": \"Export to plot.ly\", \"plotlyServerURL\": \"https://plot.ly\", \"responsive\": true}                    ).then(function(){\n",
       "                            \n",
       "var gd = document.getElementById('5b61935b-e6ed-41ce-9976-c9840196a665');\n",
       "var x = new MutationObserver(function (mutations, observer) {{\n",
       "        var display = window.getComputedStyle(gd).display;\n",
       "        if (!display || display === 'none') {{\n",
       "            console.log([gd, 'removed!']);\n",
       "            Plotly.purge(gd);\n",
       "            observer.disconnect();\n",
       "        }}\n",
       "}});\n",
       "\n",
       "// Listen for the removal of the full notebook cells\n",
       "var notebookContainer = gd.closest('#notebook-container');\n",
       "if (notebookContainer) {{\n",
       "    x.observe(notebookContainer, {childList: true});\n",
       "}}\n",
       "\n",
       "// Listen for the clearing of the current output cell\n",
       "var outputEl = gd.closest('.output');\n",
       "if (outputEl) {{\n",
       "    x.observe(outputEl, {childList: true});\n",
       "}}\n",
       "\n",
       "                        })                };                });            </script>        </div>"
      ]
     },
     "metadata": {},
     "output_type": "display_data"
    }
   ],
   "source": [
    "# Migliori difensori per ROI-Fantamedia\n",
    "%matplotlib inline\n",
    "roi_serie_a[roi_serie_a['R']== 'D'].iplot(kind='scatter', x='Mf', y='ROI', mode='markers', text='Nome') "
   ]
  },
  {
   "cell_type": "markdown",
   "id": "2395880b",
   "metadata": {},
   "source": [
    "Qui vediamo che giocatori come Kalulu, Singo, S. Bastoni, Rrhamani e Udogie si sono rivelate ottime soluzioni difensive"
   ]
  },
  {
   "cell_type": "code",
   "execution_count": 14,
   "id": "086e0e53",
   "metadata": {
    "ExecuteTime": {
     "end_time": "2022-09-11T09:36:48.999695Z",
     "start_time": "2022-09-11T09:36:48.891980Z"
    }
   },
   "outputs": [
    {
     "data": {
      "application/vnd.plotly.v1+json": {
       "config": {
        "linkText": "Export to plot.ly",
        "plotlyServerURL": "https://plot.ly",
        "showLink": true
       },
       "data": [
        {
         "line": {
          "color": "rgba(255, 153, 51, 1.0)",
          "dash": "solid",
          "shape": "linear",
          "width": 1.3
         },
         "marker": {
          "size": 12,
          "symbol": "circle"
         },
         "mode": "markers",
         "name": "ROI",
         "text": [
          "Volpato",
          "Pellegrini Lo.",
          "Djuricic",
          "Agudelo",
          "Miguel Veloso",
          "Soriano",
          "Sottil",
          "Cataldi",
          "Ederson D.s.",
          "Pasalic",
          "Barak",
          "Matheus Henrique",
          "Rincon",
          "Locatelli",
          "Milinkovic-Savic",
          "Henderson L.",
          "Amrabat",
          "Romero L.",
          "Basic",
          "Coulibaly L.",
          "Vieira",
          "Verre",
          "Bourabia",
          "Asllani",
          "Rovella",
          "Castrovilli",
          "Ilic",
          "Marin",
          "Grassi",
          "Tonali",
          "Rabiot",
          "Bakayoko",
          "Harroui",
          "Mandragora",
          "Linetty",
          "Ekdal",
          "Saelemaekers",
          "Ikone'",
          "Bandinelli",
          "Vignato",
          "Koopmeiners",
          "Nguiamba",
          "Askildsen",
          "Ricci S.",
          "Sher",
          "Praszelik",
          "Cristante",
          "Sensi",
          "Walace",
          "Bohinen",
          "Verdi",
          "Calhanoglu",
          "Pessina",
          "Medel",
          "Hongla",
          "Akpa Akpro",
          "Sabiri",
          "Chiesa",
          "Benassi",
          "Duncan",
          "Zaniolo",
          "Frattesi",
          "Miranchuk",
          "Kastanos",
          "De Roon",
          "Lopez M.",
          "Maggiore",
          "Dominguez",
          "Gagliardini",
          "Lazovic",
          "Zalewski",
          "Haas",
          "Aebischer",
          "Lukic",
          "Schouten",
          "Brozovic",
          "Miretti",
          "Orsolini",
          "Zambo Anguissa",
          "Zielinski",
          "Diaz B.",
          "Maleh",
          "Capezzi",
          "Makengo",
          "Bajrami",
          "Elmas",
          "Bonaventura",
          "Demme",
          "Arslan",
          "Jajalo",
          "Zaccagni",
          "Mkhitaryan",
          "Pereyra",
          "Vecino",
          "Messias",
          "Darboe",
          "Samardzic",
          "Tameze",
          "Krunic",
          "Lobotka",
          "Saponara",
          "Bennacer",
          "Kovalenko",
          "Luis Alberto",
          "Barella",
          "Mckennie",
          "Pobega",
          "Zurkowski",
          "Candreva",
          "Felipe Anderson",
          "Traore' Hj.",
          "Bove",
          "Malinovskyi",
          "Maldini"
         ],
         "type": "scatter",
         "x": [
          10,
          7.2,
          6.8,
          6.33,
          5.98,
          5.87,
          6.36,
          6.05,
          6.4,
          7.52,
          7.52,
          5.75,
          5.64,
          6.43,
          7.51,
          6.16,
          6.08,
          6,
          5.9,
          5.74,
          5.64,
          5.56,
          6.25,
          6.22,
          6.15,
          6.13,
          6.02,
          5.92,
          5.91,
          6.78,
          5.6,
          5.55,
          5.55,
          6.08,
          5.75,
          5.7,
          6.12,
          6.07,
          6,
          5.88,
          6.59,
          5.75,
          5.5,
          6.1,
          6,
          6,
          5.99,
          5.97,
          5.87,
          5.85,
          7.12,
          7.11,
          6.04,
          5.91,
          5.85,
          5.25,
          6.88,
          6.82,
          5.68,
          6.16,
          5.98,
          6.44,
          6.42,
          5.82,
          6.23,
          6.15,
          6.14,
          6.11,
          6.57,
          6.47,
          5.88,
          5.88,
          5.81,
          6.6,
          6.12,
          6.5,
          6,
          6.81,
          6.3,
          6.74,
          6.29,
          6.17,
          5.62,
          6.03,
          6.82,
          6.5,
          6.45,
          6.04,
          5.93,
          5.79,
          6.88,
          6.84,
          6.28,
          6.2,
          6.56,
          6,
          6.69,
          6.61,
          6.17,
          6.48,
          6.75,
          6.41,
          5.98,
          6.76,
          6.92,
          6.5,
          6.55,
          6.62,
          6.88,
          6.67,
          6.96,
          8,
          6.63,
          7
         ],
         "y": [
          10,
          5.254054054054055,
          3.5789473684210527,
          145.59,
          125.58000000000001,
          8.932608695652174,
          139.92000000000002,
          181.5,
          96,
          31.02,
          18.173333333333332,
          115,
          118.44,
          31.078333333333333,
          5.912127659574468,
          197.12,
          109.44,
          12,
          118,
          177.94,
          62.04,
          88.96,
          50,
          111.96,
          123,
          14.099,
          38.528,
          53.28,
          165.48000000000002,
          57.63,
          27.066666666666663,
          61.05,
          55.5,
          109.44,
          92,
          142.5,
          52.02,
          91.05000000000001,
          66,
          49.98,
          92.25999999999999,
          11.5,
          82.5,
          183,
          6,
          6,
          101.83,
          12.792857142857143,
          205.45000000000002,
          58.5,
          121.04,
          7.821000000000001,
          11.150769230769232,
          195.03,
          76.05,
          31.5,
          89.44,
          1.9096000000000002,
          79.52,
          190.96,
          5.581333333333333,
          231.84,
          14.445,
          145.5,
          46.725,
          209.10000000000002,
          71.63333333333333,
          164.97,
          98.55000000000001,
          19.998181818181816,
          76.44,
          47.04,
          46.48,
          231,
          104.04,
          22.75,
          24,
          5.902,
          72.45,
          5.5892682926829265,
          6.755925925925926,
          141.91,
          22.48,
          198.99,
          21.08,
          34.666666666666664,
          66.65,
          78.52,
          171.97,
          69.48,
          10.32,
          4.32734693877551,
          7.2219999999999995,
          62,
          24.365714285714287,
          6,
          86.97,
          237.96,
          141.91,
          136.08,
          162,
          185.89000000000001,
          131.56,
          4.256296296296297,
          13.84,
          12.35,
          203.04999999999998,
          218.46,
          24.768,
          5.632444444444444,
          19.488,
          16,
          3.978,
          21
         ]
        }
       ],
       "layout": {
        "legend": {
         "bgcolor": "#F5F6F9",
         "font": {
          "color": "#4D5663"
         }
        },
        "paper_bgcolor": "#F5F6F9",
        "plot_bgcolor": "#F5F6F9",
        "template": {
         "data": {
          "bar": [
           {
            "error_x": {
             "color": "#2a3f5f"
            },
            "error_y": {
             "color": "#2a3f5f"
            },
            "marker": {
             "line": {
              "color": "#E5ECF6",
              "width": 0.5
             },
             "pattern": {
              "fillmode": "overlay",
              "size": 10,
              "solidity": 0.2
             }
            },
            "type": "bar"
           }
          ],
          "barpolar": [
           {
            "marker": {
             "line": {
              "color": "#E5ECF6",
              "width": 0.5
             },
             "pattern": {
              "fillmode": "overlay",
              "size": 10,
              "solidity": 0.2
             }
            },
            "type": "barpolar"
           }
          ],
          "carpet": [
           {
            "aaxis": {
             "endlinecolor": "#2a3f5f",
             "gridcolor": "white",
             "linecolor": "white",
             "minorgridcolor": "white",
             "startlinecolor": "#2a3f5f"
            },
            "baxis": {
             "endlinecolor": "#2a3f5f",
             "gridcolor": "white",
             "linecolor": "white",
             "minorgridcolor": "white",
             "startlinecolor": "#2a3f5f"
            },
            "type": "carpet"
           }
          ],
          "choropleth": [
           {
            "colorbar": {
             "outlinewidth": 0,
             "ticks": ""
            },
            "type": "choropleth"
           }
          ],
          "contour": [
           {
            "colorbar": {
             "outlinewidth": 0,
             "ticks": ""
            },
            "colorscale": [
             [
              0,
              "#0d0887"
             ],
             [
              0.1111111111111111,
              "#46039f"
             ],
             [
              0.2222222222222222,
              "#7201a8"
             ],
             [
              0.3333333333333333,
              "#9c179e"
             ],
             [
              0.4444444444444444,
              "#bd3786"
             ],
             [
              0.5555555555555556,
              "#d8576b"
             ],
             [
              0.6666666666666666,
              "#ed7953"
             ],
             [
              0.7777777777777778,
              "#fb9f3a"
             ],
             [
              0.8888888888888888,
              "#fdca26"
             ],
             [
              1,
              "#f0f921"
             ]
            ],
            "type": "contour"
           }
          ],
          "contourcarpet": [
           {
            "colorbar": {
             "outlinewidth": 0,
             "ticks": ""
            },
            "type": "contourcarpet"
           }
          ],
          "heatmap": [
           {
            "colorbar": {
             "outlinewidth": 0,
             "ticks": ""
            },
            "colorscale": [
             [
              0,
              "#0d0887"
             ],
             [
              0.1111111111111111,
              "#46039f"
             ],
             [
              0.2222222222222222,
              "#7201a8"
             ],
             [
              0.3333333333333333,
              "#9c179e"
             ],
             [
              0.4444444444444444,
              "#bd3786"
             ],
             [
              0.5555555555555556,
              "#d8576b"
             ],
             [
              0.6666666666666666,
              "#ed7953"
             ],
             [
              0.7777777777777778,
              "#fb9f3a"
             ],
             [
              0.8888888888888888,
              "#fdca26"
             ],
             [
              1,
              "#f0f921"
             ]
            ],
            "type": "heatmap"
           }
          ],
          "heatmapgl": [
           {
            "colorbar": {
             "outlinewidth": 0,
             "ticks": ""
            },
            "colorscale": [
             [
              0,
              "#0d0887"
             ],
             [
              0.1111111111111111,
              "#46039f"
             ],
             [
              0.2222222222222222,
              "#7201a8"
             ],
             [
              0.3333333333333333,
              "#9c179e"
             ],
             [
              0.4444444444444444,
              "#bd3786"
             ],
             [
              0.5555555555555556,
              "#d8576b"
             ],
             [
              0.6666666666666666,
              "#ed7953"
             ],
             [
              0.7777777777777778,
              "#fb9f3a"
             ],
             [
              0.8888888888888888,
              "#fdca26"
             ],
             [
              1,
              "#f0f921"
             ]
            ],
            "type": "heatmapgl"
           }
          ],
          "histogram": [
           {
            "marker": {
             "pattern": {
              "fillmode": "overlay",
              "size": 10,
              "solidity": 0.2
             }
            },
            "type": "histogram"
           }
          ],
          "histogram2d": [
           {
            "colorbar": {
             "outlinewidth": 0,
             "ticks": ""
            },
            "colorscale": [
             [
              0,
              "#0d0887"
             ],
             [
              0.1111111111111111,
              "#46039f"
             ],
             [
              0.2222222222222222,
              "#7201a8"
             ],
             [
              0.3333333333333333,
              "#9c179e"
             ],
             [
              0.4444444444444444,
              "#bd3786"
             ],
             [
              0.5555555555555556,
              "#d8576b"
             ],
             [
              0.6666666666666666,
              "#ed7953"
             ],
             [
              0.7777777777777778,
              "#fb9f3a"
             ],
             [
              0.8888888888888888,
              "#fdca26"
             ],
             [
              1,
              "#f0f921"
             ]
            ],
            "type": "histogram2d"
           }
          ],
          "histogram2dcontour": [
           {
            "colorbar": {
             "outlinewidth": 0,
             "ticks": ""
            },
            "colorscale": [
             [
              0,
              "#0d0887"
             ],
             [
              0.1111111111111111,
              "#46039f"
             ],
             [
              0.2222222222222222,
              "#7201a8"
             ],
             [
              0.3333333333333333,
              "#9c179e"
             ],
             [
              0.4444444444444444,
              "#bd3786"
             ],
             [
              0.5555555555555556,
              "#d8576b"
             ],
             [
              0.6666666666666666,
              "#ed7953"
             ],
             [
              0.7777777777777778,
              "#fb9f3a"
             ],
             [
              0.8888888888888888,
              "#fdca26"
             ],
             [
              1,
              "#f0f921"
             ]
            ],
            "type": "histogram2dcontour"
           }
          ],
          "mesh3d": [
           {
            "colorbar": {
             "outlinewidth": 0,
             "ticks": ""
            },
            "type": "mesh3d"
           }
          ],
          "parcoords": [
           {
            "line": {
             "colorbar": {
              "outlinewidth": 0,
              "ticks": ""
             }
            },
            "type": "parcoords"
           }
          ],
          "pie": [
           {
            "automargin": true,
            "type": "pie"
           }
          ],
          "scatter": [
           {
            "fillpattern": {
             "fillmode": "overlay",
             "size": 10,
             "solidity": 0.2
            },
            "type": "scatter"
           }
          ],
          "scatter3d": [
           {
            "line": {
             "colorbar": {
              "outlinewidth": 0,
              "ticks": ""
             }
            },
            "marker": {
             "colorbar": {
              "outlinewidth": 0,
              "ticks": ""
             }
            },
            "type": "scatter3d"
           }
          ],
          "scattercarpet": [
           {
            "marker": {
             "colorbar": {
              "outlinewidth": 0,
              "ticks": ""
             }
            },
            "type": "scattercarpet"
           }
          ],
          "scattergeo": [
           {
            "marker": {
             "colorbar": {
              "outlinewidth": 0,
              "ticks": ""
             }
            },
            "type": "scattergeo"
           }
          ],
          "scattergl": [
           {
            "marker": {
             "colorbar": {
              "outlinewidth": 0,
              "ticks": ""
             }
            },
            "type": "scattergl"
           }
          ],
          "scattermapbox": [
           {
            "marker": {
             "colorbar": {
              "outlinewidth": 0,
              "ticks": ""
             }
            },
            "type": "scattermapbox"
           }
          ],
          "scatterpolar": [
           {
            "marker": {
             "colorbar": {
              "outlinewidth": 0,
              "ticks": ""
             }
            },
            "type": "scatterpolar"
           }
          ],
          "scatterpolargl": [
           {
            "marker": {
             "colorbar": {
              "outlinewidth": 0,
              "ticks": ""
             }
            },
            "type": "scatterpolargl"
           }
          ],
          "scatterternary": [
           {
            "marker": {
             "colorbar": {
              "outlinewidth": 0,
              "ticks": ""
             }
            },
            "type": "scatterternary"
           }
          ],
          "surface": [
           {
            "colorbar": {
             "outlinewidth": 0,
             "ticks": ""
            },
            "colorscale": [
             [
              0,
              "#0d0887"
             ],
             [
              0.1111111111111111,
              "#46039f"
             ],
             [
              0.2222222222222222,
              "#7201a8"
             ],
             [
              0.3333333333333333,
              "#9c179e"
             ],
             [
              0.4444444444444444,
              "#bd3786"
             ],
             [
              0.5555555555555556,
              "#d8576b"
             ],
             [
              0.6666666666666666,
              "#ed7953"
             ],
             [
              0.7777777777777778,
              "#fb9f3a"
             ],
             [
              0.8888888888888888,
              "#fdca26"
             ],
             [
              1,
              "#f0f921"
             ]
            ],
            "type": "surface"
           }
          ],
          "table": [
           {
            "cells": {
             "fill": {
              "color": "#EBF0F8"
             },
             "line": {
              "color": "white"
             }
            },
            "header": {
             "fill": {
              "color": "#C8D4E3"
             },
             "line": {
              "color": "white"
             }
            },
            "type": "table"
           }
          ]
         },
         "layout": {
          "annotationdefaults": {
           "arrowcolor": "#2a3f5f",
           "arrowhead": 0,
           "arrowwidth": 1
          },
          "autotypenumbers": "strict",
          "coloraxis": {
           "colorbar": {
            "outlinewidth": 0,
            "ticks": ""
           }
          },
          "colorscale": {
           "diverging": [
            [
             0,
             "#8e0152"
            ],
            [
             0.1,
             "#c51b7d"
            ],
            [
             0.2,
             "#de77ae"
            ],
            [
             0.3,
             "#f1b6da"
            ],
            [
             0.4,
             "#fde0ef"
            ],
            [
             0.5,
             "#f7f7f7"
            ],
            [
             0.6,
             "#e6f5d0"
            ],
            [
             0.7,
             "#b8e186"
            ],
            [
             0.8,
             "#7fbc41"
            ],
            [
             0.9,
             "#4d9221"
            ],
            [
             1,
             "#276419"
            ]
           ],
           "sequential": [
            [
             0,
             "#0d0887"
            ],
            [
             0.1111111111111111,
             "#46039f"
            ],
            [
             0.2222222222222222,
             "#7201a8"
            ],
            [
             0.3333333333333333,
             "#9c179e"
            ],
            [
             0.4444444444444444,
             "#bd3786"
            ],
            [
             0.5555555555555556,
             "#d8576b"
            ],
            [
             0.6666666666666666,
             "#ed7953"
            ],
            [
             0.7777777777777778,
             "#fb9f3a"
            ],
            [
             0.8888888888888888,
             "#fdca26"
            ],
            [
             1,
             "#f0f921"
            ]
           ],
           "sequentialminus": [
            [
             0,
             "#0d0887"
            ],
            [
             0.1111111111111111,
             "#46039f"
            ],
            [
             0.2222222222222222,
             "#7201a8"
            ],
            [
             0.3333333333333333,
             "#9c179e"
            ],
            [
             0.4444444444444444,
             "#bd3786"
            ],
            [
             0.5555555555555556,
             "#d8576b"
            ],
            [
             0.6666666666666666,
             "#ed7953"
            ],
            [
             0.7777777777777778,
             "#fb9f3a"
            ],
            [
             0.8888888888888888,
             "#fdca26"
            ],
            [
             1,
             "#f0f921"
            ]
           ]
          },
          "colorway": [
           "#636efa",
           "#EF553B",
           "#00cc96",
           "#ab63fa",
           "#FFA15A",
           "#19d3f3",
           "#FF6692",
           "#B6E880",
           "#FF97FF",
           "#FECB52"
          ],
          "font": {
           "color": "#2a3f5f"
          },
          "geo": {
           "bgcolor": "white",
           "lakecolor": "white",
           "landcolor": "#E5ECF6",
           "showlakes": true,
           "showland": true,
           "subunitcolor": "white"
          },
          "hoverlabel": {
           "align": "left"
          },
          "hovermode": "closest",
          "mapbox": {
           "style": "light"
          },
          "paper_bgcolor": "white",
          "plot_bgcolor": "#E5ECF6",
          "polar": {
           "angularaxis": {
            "gridcolor": "white",
            "linecolor": "white",
            "ticks": ""
           },
           "bgcolor": "#E5ECF6",
           "radialaxis": {
            "gridcolor": "white",
            "linecolor": "white",
            "ticks": ""
           }
          },
          "scene": {
           "xaxis": {
            "backgroundcolor": "#E5ECF6",
            "gridcolor": "white",
            "gridwidth": 2,
            "linecolor": "white",
            "showbackground": true,
            "ticks": "",
            "zerolinecolor": "white"
           },
           "yaxis": {
            "backgroundcolor": "#E5ECF6",
            "gridcolor": "white",
            "gridwidth": 2,
            "linecolor": "white",
            "showbackground": true,
            "ticks": "",
            "zerolinecolor": "white"
           },
           "zaxis": {
            "backgroundcolor": "#E5ECF6",
            "gridcolor": "white",
            "gridwidth": 2,
            "linecolor": "white",
            "showbackground": true,
            "ticks": "",
            "zerolinecolor": "white"
           }
          },
          "shapedefaults": {
           "line": {
            "color": "#2a3f5f"
           }
          },
          "ternary": {
           "aaxis": {
            "gridcolor": "white",
            "linecolor": "white",
            "ticks": ""
           },
           "baxis": {
            "gridcolor": "white",
            "linecolor": "white",
            "ticks": ""
           },
           "bgcolor": "#E5ECF6",
           "caxis": {
            "gridcolor": "white",
            "linecolor": "white",
            "ticks": ""
           }
          },
          "title": {
           "x": 0.05
          },
          "xaxis": {
           "automargin": true,
           "gridcolor": "white",
           "linecolor": "white",
           "ticks": "",
           "title": {
            "standoff": 15
           },
           "zerolinecolor": "white",
           "zerolinewidth": 2
          },
          "yaxis": {
           "automargin": true,
           "gridcolor": "white",
           "linecolor": "white",
           "ticks": "",
           "title": {
            "standoff": 15
           },
           "zerolinecolor": "white",
           "zerolinewidth": 2
          }
         }
        },
        "title": {
         "font": {
          "color": "#4D5663"
         }
        },
        "xaxis": {
         "gridcolor": "#E1E5ED",
         "showgrid": true,
         "tickfont": {
          "color": "#4D5663"
         },
         "title": {
          "font": {
           "color": "#4D5663"
          },
          "text": ""
         },
         "zerolinecolor": "#E1E5ED"
        },
        "yaxis": {
         "gridcolor": "#E1E5ED",
         "showgrid": true,
         "tickfont": {
          "color": "#4D5663"
         },
         "title": {
          "font": {
           "color": "#4D5663"
          },
          "text": ""
         },
         "zerolinecolor": "#E1E5ED"
        }
       }
      },
      "text/html": [
       "<div>                            <div id=\"2cabffdb-df55-4345-84e1-8456543c9cfb\" class=\"plotly-graph-div\" style=\"height:525px; width:100%;\"></div>            <script type=\"text/javascript\">                require([\"plotly\"], function(Plotly) {                    window.PLOTLYENV=window.PLOTLYENV || {};\n",
       "                    window.PLOTLYENV.BASE_URL='https://plot.ly';                                    if (document.getElementById(\"2cabffdb-df55-4345-84e1-8456543c9cfb\")) {                    Plotly.newPlot(                        \"2cabffdb-df55-4345-84e1-8456543c9cfb\",                        [{\"line\":{\"color\":\"rgba(255, 153, 51, 1.0)\",\"dash\":\"solid\",\"shape\":\"linear\",\"width\":1.3},\"marker\":{\"size\":12,\"symbol\":\"circle\"},\"mode\":\"markers\",\"name\":\"ROI\",\"text\":[\"Volpato\",\"Pellegrini Lo.\",\"Djuricic\",\"Agudelo\",\"Miguel Veloso\",\"Soriano\",\"Sottil\",\"Cataldi\",\"Ederson D.s.\",\"Pasalic\",\"Barak\",\"Matheus Henrique\",\"Rincon\",\"Locatelli\",\"Milinkovic-Savic\",\"Henderson L.\",\"Amrabat\",\"Romero L.\",\"Basic\",\"Coulibaly L.\",\"Vieira\",\"Verre\",\"Bourabia\",\"Asllani\",\"Rovella\",\"Castrovilli\",\"Ilic\",\"Marin\",\"Grassi\",\"Tonali\",\"Rabiot\",\"Bakayoko\",\"Harroui\",\"Mandragora\",\"Linetty\",\"Ekdal\",\"Saelemaekers\",\"Ikone'\",\"Bandinelli\",\"Vignato\",\"Koopmeiners\",\"Nguiamba\",\"Askildsen\",\"Ricci S.\",\"Sher\",\"Praszelik\",\"Cristante\",\"Sensi\",\"Walace\",\"Bohinen\",\"Verdi\",\"Calhanoglu\",\"Pessina\",\"Medel\",\"Hongla\",\"Akpa Akpro\",\"Sabiri\",\"Chiesa\",\"Benassi\",\"Duncan\",\"Zaniolo\",\"Frattesi\",\"Miranchuk\",\"Kastanos\",\"De Roon\",\"Lopez M.\",\"Maggiore\",\"Dominguez\",\"Gagliardini\",\"Lazovic\",\"Zalewski\",\"Haas\",\"Aebischer\",\"Lukic\",\"Schouten\",\"Brozovic\",\"Miretti\",\"Orsolini\",\"Zambo Anguissa\",\"Zielinski\",\"Diaz B.\",\"Maleh\",\"Capezzi\",\"Makengo\",\"Bajrami\",\"Elmas\",\"Bonaventura\",\"Demme\",\"Arslan\",\"Jajalo\",\"Zaccagni\",\"Mkhitaryan\",\"Pereyra\",\"Vecino\",\"Messias\",\"Darboe\",\"Samardzic\",\"Tameze\",\"Krunic\",\"Lobotka\",\"Saponara\",\"Bennacer\",\"Kovalenko\",\"Luis Alberto\",\"Barella\",\"Mckennie\",\"Pobega\",\"Zurkowski\",\"Candreva\",\"Felipe Anderson\",\"Traore' Hj.\",\"Bove\",\"Malinovskyi\",\"Maldini\"],\"x\":[10.0,7.2,6.8,6.33,5.98,5.87,6.36,6.05,6.4,7.52,7.52,5.75,5.64,6.43,7.51,6.16,6.08,6.0,5.9,5.74,5.64,5.56,6.25,6.22,6.15,6.13,6.02,5.92,5.91,6.78,5.6,5.55,5.55,6.08,5.75,5.7,6.12,6.07,6.0,5.88,6.59,5.75,5.5,6.1,6.0,6.0,5.99,5.97,5.87,5.85,7.12,7.11,6.04,5.91,5.85,5.25,6.88,6.82,5.68,6.16,5.98,6.44,6.42,5.82,6.23,6.15,6.14,6.11,6.57,6.47,5.88,5.88,5.81,6.6,6.12,6.5,6.0,6.81,6.3,6.74,6.29,6.17,5.62,6.03,6.82,6.5,6.45,6.04,5.93,5.79,6.88,6.84,6.28,6.2,6.56,6.0,6.69,6.61,6.17,6.48,6.75,6.41,5.98,6.76,6.92,6.5,6.55,6.62,6.88,6.67,6.96,8.0,6.63,7.0],\"y\":[10.0,5.254054054054055,3.5789473684210527,145.59,125.58000000000001,8.932608695652174,139.92000000000002,181.5,96.0,31.02,18.173333333333332,115.0,118.44,31.078333333333333,5.912127659574468,197.12,109.44,12.0,118.0,177.94,62.04,88.96,50.0,111.96,123.0,14.099,38.528,53.28,165.48000000000002,57.63,27.066666666666663,61.05,55.5,109.44,92.0,142.5,52.02,91.05000000000001,66.0,49.98,92.25999999999999,11.5,82.5,183.0,6.0,6.0,101.83,12.792857142857143,205.45000000000002,58.5,121.04,7.821000000000001,11.150769230769232,195.03,76.05,31.5,89.44,1.9096000000000002,79.52,190.96,5.581333333333333,231.84,14.445,145.5,46.725,209.10000000000002,71.63333333333333,164.97,98.55000000000001,19.998181818181816,76.44,47.04,46.48,231.0,104.04,22.75,24.0,5.902,72.45,5.5892682926829265,6.755925925925926,141.91,22.48,198.99,21.08,34.666666666666664,66.65,78.52,171.97,69.48,10.32,4.32734693877551,7.2219999999999995,62.0,24.365714285714287,6.0,86.97,237.96,141.91,136.08,162.0,185.89000000000001,131.56,4.256296296296297,13.84,12.35,203.04999999999998,218.46,24.768,5.632444444444444,19.488,16.0,3.978,21.0],\"type\":\"scatter\"}],                        {\"legend\":{\"bgcolor\":\"#F5F6F9\",\"font\":{\"color\":\"#4D5663\"}},\"paper_bgcolor\":\"#F5F6F9\",\"plot_bgcolor\":\"#F5F6F9\",\"template\":{\"data\":{\"barpolar\":[{\"marker\":{\"line\":{\"color\":\"#E5ECF6\",\"width\":0.5},\"pattern\":{\"fillmode\":\"overlay\",\"size\":10,\"solidity\":0.2}},\"type\":\"barpolar\"}],\"bar\":[{\"error_x\":{\"color\":\"#2a3f5f\"},\"error_y\":{\"color\":\"#2a3f5f\"},\"marker\":{\"line\":{\"color\":\"#E5ECF6\",\"width\":0.5},\"pattern\":{\"fillmode\":\"overlay\",\"size\":10,\"solidity\":0.2}},\"type\":\"bar\"}],\"carpet\":[{\"aaxis\":{\"endlinecolor\":\"#2a3f5f\",\"gridcolor\":\"white\",\"linecolor\":\"white\",\"minorgridcolor\":\"white\",\"startlinecolor\":\"#2a3f5f\"},\"baxis\":{\"endlinecolor\":\"#2a3f5f\",\"gridcolor\":\"white\",\"linecolor\":\"white\",\"minorgridcolor\":\"white\",\"startlinecolor\":\"#2a3f5f\"},\"type\":\"carpet\"}],\"choropleth\":[{\"colorbar\":{\"outlinewidth\":0,\"ticks\":\"\"},\"type\":\"choropleth\"}],\"contourcarpet\":[{\"colorbar\":{\"outlinewidth\":0,\"ticks\":\"\"},\"type\":\"contourcarpet\"}],\"contour\":[{\"colorbar\":{\"outlinewidth\":0,\"ticks\":\"\"},\"colorscale\":[[0.0,\"#0d0887\"],[0.1111111111111111,\"#46039f\"],[0.2222222222222222,\"#7201a8\"],[0.3333333333333333,\"#9c179e\"],[0.4444444444444444,\"#bd3786\"],[0.5555555555555556,\"#d8576b\"],[0.6666666666666666,\"#ed7953\"],[0.7777777777777778,\"#fb9f3a\"],[0.8888888888888888,\"#fdca26\"],[1.0,\"#f0f921\"]],\"type\":\"contour\"}],\"heatmapgl\":[{\"colorbar\":{\"outlinewidth\":0,\"ticks\":\"\"},\"colorscale\":[[0.0,\"#0d0887\"],[0.1111111111111111,\"#46039f\"],[0.2222222222222222,\"#7201a8\"],[0.3333333333333333,\"#9c179e\"],[0.4444444444444444,\"#bd3786\"],[0.5555555555555556,\"#d8576b\"],[0.6666666666666666,\"#ed7953\"],[0.7777777777777778,\"#fb9f3a\"],[0.8888888888888888,\"#fdca26\"],[1.0,\"#f0f921\"]],\"type\":\"heatmapgl\"}],\"heatmap\":[{\"colorbar\":{\"outlinewidth\":0,\"ticks\":\"\"},\"colorscale\":[[0.0,\"#0d0887\"],[0.1111111111111111,\"#46039f\"],[0.2222222222222222,\"#7201a8\"],[0.3333333333333333,\"#9c179e\"],[0.4444444444444444,\"#bd3786\"],[0.5555555555555556,\"#d8576b\"],[0.6666666666666666,\"#ed7953\"],[0.7777777777777778,\"#fb9f3a\"],[0.8888888888888888,\"#fdca26\"],[1.0,\"#f0f921\"]],\"type\":\"heatmap\"}],\"histogram2dcontour\":[{\"colorbar\":{\"outlinewidth\":0,\"ticks\":\"\"},\"colorscale\":[[0.0,\"#0d0887\"],[0.1111111111111111,\"#46039f\"],[0.2222222222222222,\"#7201a8\"],[0.3333333333333333,\"#9c179e\"],[0.4444444444444444,\"#bd3786\"],[0.5555555555555556,\"#d8576b\"],[0.6666666666666666,\"#ed7953\"],[0.7777777777777778,\"#fb9f3a\"],[0.8888888888888888,\"#fdca26\"],[1.0,\"#f0f921\"]],\"type\":\"histogram2dcontour\"}],\"histogram2d\":[{\"colorbar\":{\"outlinewidth\":0,\"ticks\":\"\"},\"colorscale\":[[0.0,\"#0d0887\"],[0.1111111111111111,\"#46039f\"],[0.2222222222222222,\"#7201a8\"],[0.3333333333333333,\"#9c179e\"],[0.4444444444444444,\"#bd3786\"],[0.5555555555555556,\"#d8576b\"],[0.6666666666666666,\"#ed7953\"],[0.7777777777777778,\"#fb9f3a\"],[0.8888888888888888,\"#fdca26\"],[1.0,\"#f0f921\"]],\"type\":\"histogram2d\"}],\"histogram\":[{\"marker\":{\"pattern\":{\"fillmode\":\"overlay\",\"size\":10,\"solidity\":0.2}},\"type\":\"histogram\"}],\"mesh3d\":[{\"colorbar\":{\"outlinewidth\":0,\"ticks\":\"\"},\"type\":\"mesh3d\"}],\"parcoords\":[{\"line\":{\"colorbar\":{\"outlinewidth\":0,\"ticks\":\"\"}},\"type\":\"parcoords\"}],\"pie\":[{\"automargin\":true,\"type\":\"pie\"}],\"scatter3d\":[{\"line\":{\"colorbar\":{\"outlinewidth\":0,\"ticks\":\"\"}},\"marker\":{\"colorbar\":{\"outlinewidth\":0,\"ticks\":\"\"}},\"type\":\"scatter3d\"}],\"scattercarpet\":[{\"marker\":{\"colorbar\":{\"outlinewidth\":0,\"ticks\":\"\"}},\"type\":\"scattercarpet\"}],\"scattergeo\":[{\"marker\":{\"colorbar\":{\"outlinewidth\":0,\"ticks\":\"\"}},\"type\":\"scattergeo\"}],\"scattergl\":[{\"marker\":{\"colorbar\":{\"outlinewidth\":0,\"ticks\":\"\"}},\"type\":\"scattergl\"}],\"scattermapbox\":[{\"marker\":{\"colorbar\":{\"outlinewidth\":0,\"ticks\":\"\"}},\"type\":\"scattermapbox\"}],\"scatterpolargl\":[{\"marker\":{\"colorbar\":{\"outlinewidth\":0,\"ticks\":\"\"}},\"type\":\"scatterpolargl\"}],\"scatterpolar\":[{\"marker\":{\"colorbar\":{\"outlinewidth\":0,\"ticks\":\"\"}},\"type\":\"scatterpolar\"}],\"scatter\":[{\"fillpattern\":{\"fillmode\":\"overlay\",\"size\":10,\"solidity\":0.2},\"type\":\"scatter\"}],\"scatterternary\":[{\"marker\":{\"colorbar\":{\"outlinewidth\":0,\"ticks\":\"\"}},\"type\":\"scatterternary\"}],\"surface\":[{\"colorbar\":{\"outlinewidth\":0,\"ticks\":\"\"},\"colorscale\":[[0.0,\"#0d0887\"],[0.1111111111111111,\"#46039f\"],[0.2222222222222222,\"#7201a8\"],[0.3333333333333333,\"#9c179e\"],[0.4444444444444444,\"#bd3786\"],[0.5555555555555556,\"#d8576b\"],[0.6666666666666666,\"#ed7953\"],[0.7777777777777778,\"#fb9f3a\"],[0.8888888888888888,\"#fdca26\"],[1.0,\"#f0f921\"]],\"type\":\"surface\"}],\"table\":[{\"cells\":{\"fill\":{\"color\":\"#EBF0F8\"},\"line\":{\"color\":\"white\"}},\"header\":{\"fill\":{\"color\":\"#C8D4E3\"},\"line\":{\"color\":\"white\"}},\"type\":\"table\"}]},\"layout\":{\"annotationdefaults\":{\"arrowcolor\":\"#2a3f5f\",\"arrowhead\":0,\"arrowwidth\":1},\"autotypenumbers\":\"strict\",\"coloraxis\":{\"colorbar\":{\"outlinewidth\":0,\"ticks\":\"\"}},\"colorscale\":{\"diverging\":[[0,\"#8e0152\"],[0.1,\"#c51b7d\"],[0.2,\"#de77ae\"],[0.3,\"#f1b6da\"],[0.4,\"#fde0ef\"],[0.5,\"#f7f7f7\"],[0.6,\"#e6f5d0\"],[0.7,\"#b8e186\"],[0.8,\"#7fbc41\"],[0.9,\"#4d9221\"],[1,\"#276419\"]],\"sequential\":[[0.0,\"#0d0887\"],[0.1111111111111111,\"#46039f\"],[0.2222222222222222,\"#7201a8\"],[0.3333333333333333,\"#9c179e\"],[0.4444444444444444,\"#bd3786\"],[0.5555555555555556,\"#d8576b\"],[0.6666666666666666,\"#ed7953\"],[0.7777777777777778,\"#fb9f3a\"],[0.8888888888888888,\"#fdca26\"],[1.0,\"#f0f921\"]],\"sequentialminus\":[[0.0,\"#0d0887\"],[0.1111111111111111,\"#46039f\"],[0.2222222222222222,\"#7201a8\"],[0.3333333333333333,\"#9c179e\"],[0.4444444444444444,\"#bd3786\"],[0.5555555555555556,\"#d8576b\"],[0.6666666666666666,\"#ed7953\"],[0.7777777777777778,\"#fb9f3a\"],[0.8888888888888888,\"#fdca26\"],[1.0,\"#f0f921\"]]},\"colorway\":[\"#636efa\",\"#EF553B\",\"#00cc96\",\"#ab63fa\",\"#FFA15A\",\"#19d3f3\",\"#FF6692\",\"#B6E880\",\"#FF97FF\",\"#FECB52\"],\"font\":{\"color\":\"#2a3f5f\"},\"geo\":{\"bgcolor\":\"white\",\"lakecolor\":\"white\",\"landcolor\":\"#E5ECF6\",\"showlakes\":true,\"showland\":true,\"subunitcolor\":\"white\"},\"hoverlabel\":{\"align\":\"left\"},\"hovermode\":\"closest\",\"mapbox\":{\"style\":\"light\"},\"paper_bgcolor\":\"white\",\"plot_bgcolor\":\"#E5ECF6\",\"polar\":{\"angularaxis\":{\"gridcolor\":\"white\",\"linecolor\":\"white\",\"ticks\":\"\"},\"bgcolor\":\"#E5ECF6\",\"radialaxis\":{\"gridcolor\":\"white\",\"linecolor\":\"white\",\"ticks\":\"\"}},\"scene\":{\"xaxis\":{\"backgroundcolor\":\"#E5ECF6\",\"gridcolor\":\"white\",\"gridwidth\":2,\"linecolor\":\"white\",\"showbackground\":true,\"ticks\":\"\",\"zerolinecolor\":\"white\"},\"yaxis\":{\"backgroundcolor\":\"#E5ECF6\",\"gridcolor\":\"white\",\"gridwidth\":2,\"linecolor\":\"white\",\"showbackground\":true,\"ticks\":\"\",\"zerolinecolor\":\"white\"},\"zaxis\":{\"backgroundcolor\":\"#E5ECF6\",\"gridcolor\":\"white\",\"gridwidth\":2,\"linecolor\":\"white\",\"showbackground\":true,\"ticks\":\"\",\"zerolinecolor\":\"white\"}},\"shapedefaults\":{\"line\":{\"color\":\"#2a3f5f\"}},\"ternary\":{\"aaxis\":{\"gridcolor\":\"white\",\"linecolor\":\"white\",\"ticks\":\"\"},\"baxis\":{\"gridcolor\":\"white\",\"linecolor\":\"white\",\"ticks\":\"\"},\"bgcolor\":\"#E5ECF6\",\"caxis\":{\"gridcolor\":\"white\",\"linecolor\":\"white\",\"ticks\":\"\"}},\"title\":{\"x\":0.05},\"xaxis\":{\"automargin\":true,\"gridcolor\":\"white\",\"linecolor\":\"white\",\"ticks\":\"\",\"title\":{\"standoff\":15},\"zerolinecolor\":\"white\",\"zerolinewidth\":2},\"yaxis\":{\"automargin\":true,\"gridcolor\":\"white\",\"linecolor\":\"white\",\"ticks\":\"\",\"title\":{\"standoff\":15},\"zerolinecolor\":\"white\",\"zerolinewidth\":2}}},\"title\":{\"font\":{\"color\":\"#4D5663\"}},\"xaxis\":{\"gridcolor\":\"#E1E5ED\",\"showgrid\":true,\"tickfont\":{\"color\":\"#4D5663\"},\"title\":{\"font\":{\"color\":\"#4D5663\"},\"text\":\"\"},\"zerolinecolor\":\"#E1E5ED\"},\"yaxis\":{\"gridcolor\":\"#E1E5ED\",\"showgrid\":true,\"tickfont\":{\"color\":\"#4D5663\"},\"title\":{\"font\":{\"color\":\"#4D5663\"},\"text\":\"\"},\"zerolinecolor\":\"#E1E5ED\"}},                        {\"showLink\": true, \"linkText\": \"Export to plot.ly\", \"plotlyServerURL\": \"https://plot.ly\", \"responsive\": true}                    ).then(function(){\n",
       "                            \n",
       "var gd = document.getElementById('2cabffdb-df55-4345-84e1-8456543c9cfb');\n",
       "var x = new MutationObserver(function (mutations, observer) {{\n",
       "        var display = window.getComputedStyle(gd).display;\n",
       "        if (!display || display === 'none') {{\n",
       "            console.log([gd, 'removed!']);\n",
       "            Plotly.purge(gd);\n",
       "            observer.disconnect();\n",
       "        }}\n",
       "}});\n",
       "\n",
       "// Listen for the removal of the full notebook cells\n",
       "var notebookContainer = gd.closest('#notebook-container');\n",
       "if (notebookContainer) {{\n",
       "    x.observe(notebookContainer, {childList: true});\n",
       "}}\n",
       "\n",
       "// Listen for the clearing of the current output cell\n",
       "var outputEl = gd.closest('.output');\n",
       "if (outputEl) {{\n",
       "    x.observe(outputEl, {childList: true});\n",
       "}}\n",
       "\n",
       "                        })                };                });            </script>        </div>"
      ]
     },
     "metadata": {},
     "output_type": "display_data"
    }
   ],
   "source": [
    "# Migliori centrocampisti per ROI-Fantamedia\n",
    "%matplotlib inline\n",
    "roi_serie_a[roi_serie_a['R']== 'C'].iplot(kind='scatter', x='Mf', y='ROI', mode='markers', text='Nome')"
   ]
  },
  {
   "cell_type": "markdown",
   "id": "c8b30174",
   "metadata": {},
   "source": [
    "Qui vediamo che giocatori come Tameze, Lukic, Pobega, Sabiri sono risultate soluzioni di grande qualità per il centrocampo, con un ottimo ritorno sull'investimento"
   ]
  },
  {
   "cell_type": "code",
   "execution_count": 15,
   "id": "93a579c8",
   "metadata": {
    "ExecuteTime": {
     "end_time": "2022-09-11T09:36:49.093499Z",
     "start_time": "2022-09-11T09:36:49.003683Z"
    }
   },
   "outputs": [
    {
     "data": {
      "application/vnd.plotly.v1+json": {
       "config": {
        "linkText": "Export to plot.ly",
        "plotlyServerURL": "https://plot.ly",
        "showLink": true
       },
       "data": [
        {
         "line": {
          "color": "rgba(255, 153, 51, 1.0)",
          "dash": "solid",
          "shape": "linear",
          "width": 1.3
         },
         "marker": {
          "size": 12,
          "symbol": "circle"
         },
         "mode": "markers",
         "name": "ROI",
         "text": [
          "Vlahovic",
          "Dybala",
          "Gabbiadini",
          "Belotti",
          "Pussetto",
          "Boga",
          "Muriel",
          "Giroud",
          "Di Francesco F.",
          "Lammers",
          "Nzola",
          "Cancellieri",
          "Seck",
          "Arnautovic",
          "Ibrahimovic",
          "Piatek",
          "Sanabria",
          "Kallon",
          "Petagna",
          "Kean",
          "Cabral",
          "Gyasi",
          "Afena-Gyan",
          "Deulofeu",
          "Caputo",
          "Simeone",
          "Dzeko",
          "Okereke",
          "Ribery",
          "Antiste",
          "Strelec",
          "Pedro",
          "Bonazzoli",
          "Barrow",
          "Defrel",
          "Satriano",
          "Caprari",
          "Abraham",
          "Pellegri",
          "Success",
          "Sansone",
          "El Shaarawy",
          "Lozano",
          "Zapata D.",
          "Beto",
          "Kaio Jorge",
          "Shomurodov",
          "Pjaca",
          "Pinamonti",
          "Djuric",
          "Piccoli",
          "Politano",
          "Correa",
          "Quagliarella",
          "Henry",
          "Raspadori",
          "Martinez L.",
          "Lasagna",
          "Rebic",
          "Destro",
          "Nestorovski",
          "Ceide",
          "Rafael Leao",
          "Berardi",
          "Osimhen",
          "Verde",
          "Immobile",
          "Gonzalez N."
         ],
         "type": "scatter",
         "x": [
          8.29,
          7.41,
          7.31,
          7.3,
          6.4,
          5.88,
          7.52,
          7.33,
          6.6,
          6,
          6.11,
          6.5,
          6,
          7.47,
          7.5,
          6.27,
          6.8,
          5.81,
          6.71,
          6.46,
          6.46,
          6.12,
          6,
          7.63,
          6.78,
          7.54,
          7.53,
          6.52,
          6.02,
          5.97,
          5.83,
          7.09,
          7.08,
          6.73,
          6.06,
          6,
          7.71,
          7.62,
          6.2,
          6.68,
          6.26,
          6.25,
          6.72,
          7.75,
          7.23,
          5.75,
          6.62,
          6.3,
          7.12,
          6.53,
          6.06,
          6.48,
          6.77,
          6.22,
          6.68,
          6.88,
          7.97,
          6.19,
          6.36,
          6.89,
          6.75,
          5.5,
          7.79,
          8.29,
          7.94,
          6.98,
          8.95,
          7.06
         ],
         "y": [
          3.4702325581395344,
          2.561481481481482,
          58.48,
          3.2119999999999997,
          14.545454545454545,
          4.367999999999999,
          3.491428571428571,
          8.857083333333334,
          165,
          6,
          54.99,
          32.5,
          18,
          6.829714285714285,
          3.292682926829268,
          81.50999999999999,
          170,
          75.53,
          93.94,
          10.766666666666667,
          77.52,
          73.44,
          84,
          64.855,
          6.134285714285714,
          65.975,
          3.993181818181818,
          189.07999999999998,
          27.691999999999997,
          95.52,
          52.47,
          13.345882352941176,
          219.48,
          44.418,
          187.85999999999999,
          12,
          262.14,
          3.1326666666666667,
          62,
          126.91999999999999,
          143.98,
          50,
          12.991999999999999,
          2.268292682926829,
          202.44,
          11.5,
          13.24,
          126,
          256.32,
          208.96,
          48.48,
          15.452307692307695,
          4.293170731707317,
          23.325,
          69.02666666666666,
          5.054693877551021,
          2.8280645161290323,
          160.94,
          23.320000000000004,
          93.015,
          27,
          5.5,
          29.428888888888892,
          5.699375,
          2.061346153846154,
          46.068,
          2.3120833333333333,
          14.56125
         ]
        }
       ],
       "layout": {
        "legend": {
         "bgcolor": "#F5F6F9",
         "font": {
          "color": "#4D5663"
         }
        },
        "paper_bgcolor": "#F5F6F9",
        "plot_bgcolor": "#F5F6F9",
        "template": {
         "data": {
          "bar": [
           {
            "error_x": {
             "color": "#2a3f5f"
            },
            "error_y": {
             "color": "#2a3f5f"
            },
            "marker": {
             "line": {
              "color": "#E5ECF6",
              "width": 0.5
             },
             "pattern": {
              "fillmode": "overlay",
              "size": 10,
              "solidity": 0.2
             }
            },
            "type": "bar"
           }
          ],
          "barpolar": [
           {
            "marker": {
             "line": {
              "color": "#E5ECF6",
              "width": 0.5
             },
             "pattern": {
              "fillmode": "overlay",
              "size": 10,
              "solidity": 0.2
             }
            },
            "type": "barpolar"
           }
          ],
          "carpet": [
           {
            "aaxis": {
             "endlinecolor": "#2a3f5f",
             "gridcolor": "white",
             "linecolor": "white",
             "minorgridcolor": "white",
             "startlinecolor": "#2a3f5f"
            },
            "baxis": {
             "endlinecolor": "#2a3f5f",
             "gridcolor": "white",
             "linecolor": "white",
             "minorgridcolor": "white",
             "startlinecolor": "#2a3f5f"
            },
            "type": "carpet"
           }
          ],
          "choropleth": [
           {
            "colorbar": {
             "outlinewidth": 0,
             "ticks": ""
            },
            "type": "choropleth"
           }
          ],
          "contour": [
           {
            "colorbar": {
             "outlinewidth": 0,
             "ticks": ""
            },
            "colorscale": [
             [
              0,
              "#0d0887"
             ],
             [
              0.1111111111111111,
              "#46039f"
             ],
             [
              0.2222222222222222,
              "#7201a8"
             ],
             [
              0.3333333333333333,
              "#9c179e"
             ],
             [
              0.4444444444444444,
              "#bd3786"
             ],
             [
              0.5555555555555556,
              "#d8576b"
             ],
             [
              0.6666666666666666,
              "#ed7953"
             ],
             [
              0.7777777777777778,
              "#fb9f3a"
             ],
             [
              0.8888888888888888,
              "#fdca26"
             ],
             [
              1,
              "#f0f921"
             ]
            ],
            "type": "contour"
           }
          ],
          "contourcarpet": [
           {
            "colorbar": {
             "outlinewidth": 0,
             "ticks": ""
            },
            "type": "contourcarpet"
           }
          ],
          "heatmap": [
           {
            "colorbar": {
             "outlinewidth": 0,
             "ticks": ""
            },
            "colorscale": [
             [
              0,
              "#0d0887"
             ],
             [
              0.1111111111111111,
              "#46039f"
             ],
             [
              0.2222222222222222,
              "#7201a8"
             ],
             [
              0.3333333333333333,
              "#9c179e"
             ],
             [
              0.4444444444444444,
              "#bd3786"
             ],
             [
              0.5555555555555556,
              "#d8576b"
             ],
             [
              0.6666666666666666,
              "#ed7953"
             ],
             [
              0.7777777777777778,
              "#fb9f3a"
             ],
             [
              0.8888888888888888,
              "#fdca26"
             ],
             [
              1,
              "#f0f921"
             ]
            ],
            "type": "heatmap"
           }
          ],
          "heatmapgl": [
           {
            "colorbar": {
             "outlinewidth": 0,
             "ticks": ""
            },
            "colorscale": [
             [
              0,
              "#0d0887"
             ],
             [
              0.1111111111111111,
              "#46039f"
             ],
             [
              0.2222222222222222,
              "#7201a8"
             ],
             [
              0.3333333333333333,
              "#9c179e"
             ],
             [
              0.4444444444444444,
              "#bd3786"
             ],
             [
              0.5555555555555556,
              "#d8576b"
             ],
             [
              0.6666666666666666,
              "#ed7953"
             ],
             [
              0.7777777777777778,
              "#fb9f3a"
             ],
             [
              0.8888888888888888,
              "#fdca26"
             ],
             [
              1,
              "#f0f921"
             ]
            ],
            "type": "heatmapgl"
           }
          ],
          "histogram": [
           {
            "marker": {
             "pattern": {
              "fillmode": "overlay",
              "size": 10,
              "solidity": 0.2
             }
            },
            "type": "histogram"
           }
          ],
          "histogram2d": [
           {
            "colorbar": {
             "outlinewidth": 0,
             "ticks": ""
            },
            "colorscale": [
             [
              0,
              "#0d0887"
             ],
             [
              0.1111111111111111,
              "#46039f"
             ],
             [
              0.2222222222222222,
              "#7201a8"
             ],
             [
              0.3333333333333333,
              "#9c179e"
             ],
             [
              0.4444444444444444,
              "#bd3786"
             ],
             [
              0.5555555555555556,
              "#d8576b"
             ],
             [
              0.6666666666666666,
              "#ed7953"
             ],
             [
              0.7777777777777778,
              "#fb9f3a"
             ],
             [
              0.8888888888888888,
              "#fdca26"
             ],
             [
              1,
              "#f0f921"
             ]
            ],
            "type": "histogram2d"
           }
          ],
          "histogram2dcontour": [
           {
            "colorbar": {
             "outlinewidth": 0,
             "ticks": ""
            },
            "colorscale": [
             [
              0,
              "#0d0887"
             ],
             [
              0.1111111111111111,
              "#46039f"
             ],
             [
              0.2222222222222222,
              "#7201a8"
             ],
             [
              0.3333333333333333,
              "#9c179e"
             ],
             [
              0.4444444444444444,
              "#bd3786"
             ],
             [
              0.5555555555555556,
              "#d8576b"
             ],
             [
              0.6666666666666666,
              "#ed7953"
             ],
             [
              0.7777777777777778,
              "#fb9f3a"
             ],
             [
              0.8888888888888888,
              "#fdca26"
             ],
             [
              1,
              "#f0f921"
             ]
            ],
            "type": "histogram2dcontour"
           }
          ],
          "mesh3d": [
           {
            "colorbar": {
             "outlinewidth": 0,
             "ticks": ""
            },
            "type": "mesh3d"
           }
          ],
          "parcoords": [
           {
            "line": {
             "colorbar": {
              "outlinewidth": 0,
              "ticks": ""
             }
            },
            "type": "parcoords"
           }
          ],
          "pie": [
           {
            "automargin": true,
            "type": "pie"
           }
          ],
          "scatter": [
           {
            "fillpattern": {
             "fillmode": "overlay",
             "size": 10,
             "solidity": 0.2
            },
            "type": "scatter"
           }
          ],
          "scatter3d": [
           {
            "line": {
             "colorbar": {
              "outlinewidth": 0,
              "ticks": ""
             }
            },
            "marker": {
             "colorbar": {
              "outlinewidth": 0,
              "ticks": ""
             }
            },
            "type": "scatter3d"
           }
          ],
          "scattercarpet": [
           {
            "marker": {
             "colorbar": {
              "outlinewidth": 0,
              "ticks": ""
             }
            },
            "type": "scattercarpet"
           }
          ],
          "scattergeo": [
           {
            "marker": {
             "colorbar": {
              "outlinewidth": 0,
              "ticks": ""
             }
            },
            "type": "scattergeo"
           }
          ],
          "scattergl": [
           {
            "marker": {
             "colorbar": {
              "outlinewidth": 0,
              "ticks": ""
             }
            },
            "type": "scattergl"
           }
          ],
          "scattermapbox": [
           {
            "marker": {
             "colorbar": {
              "outlinewidth": 0,
              "ticks": ""
             }
            },
            "type": "scattermapbox"
           }
          ],
          "scatterpolar": [
           {
            "marker": {
             "colorbar": {
              "outlinewidth": 0,
              "ticks": ""
             }
            },
            "type": "scatterpolar"
           }
          ],
          "scatterpolargl": [
           {
            "marker": {
             "colorbar": {
              "outlinewidth": 0,
              "ticks": ""
             }
            },
            "type": "scatterpolargl"
           }
          ],
          "scatterternary": [
           {
            "marker": {
             "colorbar": {
              "outlinewidth": 0,
              "ticks": ""
             }
            },
            "type": "scatterternary"
           }
          ],
          "surface": [
           {
            "colorbar": {
             "outlinewidth": 0,
             "ticks": ""
            },
            "colorscale": [
             [
              0,
              "#0d0887"
             ],
             [
              0.1111111111111111,
              "#46039f"
             ],
             [
              0.2222222222222222,
              "#7201a8"
             ],
             [
              0.3333333333333333,
              "#9c179e"
             ],
             [
              0.4444444444444444,
              "#bd3786"
             ],
             [
              0.5555555555555556,
              "#d8576b"
             ],
             [
              0.6666666666666666,
              "#ed7953"
             ],
             [
              0.7777777777777778,
              "#fb9f3a"
             ],
             [
              0.8888888888888888,
              "#fdca26"
             ],
             [
              1,
              "#f0f921"
             ]
            ],
            "type": "surface"
           }
          ],
          "table": [
           {
            "cells": {
             "fill": {
              "color": "#EBF0F8"
             },
             "line": {
              "color": "white"
             }
            },
            "header": {
             "fill": {
              "color": "#C8D4E3"
             },
             "line": {
              "color": "white"
             }
            },
            "type": "table"
           }
          ]
         },
         "layout": {
          "annotationdefaults": {
           "arrowcolor": "#2a3f5f",
           "arrowhead": 0,
           "arrowwidth": 1
          },
          "autotypenumbers": "strict",
          "coloraxis": {
           "colorbar": {
            "outlinewidth": 0,
            "ticks": ""
           }
          },
          "colorscale": {
           "diverging": [
            [
             0,
             "#8e0152"
            ],
            [
             0.1,
             "#c51b7d"
            ],
            [
             0.2,
             "#de77ae"
            ],
            [
             0.3,
             "#f1b6da"
            ],
            [
             0.4,
             "#fde0ef"
            ],
            [
             0.5,
             "#f7f7f7"
            ],
            [
             0.6,
             "#e6f5d0"
            ],
            [
             0.7,
             "#b8e186"
            ],
            [
             0.8,
             "#7fbc41"
            ],
            [
             0.9,
             "#4d9221"
            ],
            [
             1,
             "#276419"
            ]
           ],
           "sequential": [
            [
             0,
             "#0d0887"
            ],
            [
             0.1111111111111111,
             "#46039f"
            ],
            [
             0.2222222222222222,
             "#7201a8"
            ],
            [
             0.3333333333333333,
             "#9c179e"
            ],
            [
             0.4444444444444444,
             "#bd3786"
            ],
            [
             0.5555555555555556,
             "#d8576b"
            ],
            [
             0.6666666666666666,
             "#ed7953"
            ],
            [
             0.7777777777777778,
             "#fb9f3a"
            ],
            [
             0.8888888888888888,
             "#fdca26"
            ],
            [
             1,
             "#f0f921"
            ]
           ],
           "sequentialminus": [
            [
             0,
             "#0d0887"
            ],
            [
             0.1111111111111111,
             "#46039f"
            ],
            [
             0.2222222222222222,
             "#7201a8"
            ],
            [
             0.3333333333333333,
             "#9c179e"
            ],
            [
             0.4444444444444444,
             "#bd3786"
            ],
            [
             0.5555555555555556,
             "#d8576b"
            ],
            [
             0.6666666666666666,
             "#ed7953"
            ],
            [
             0.7777777777777778,
             "#fb9f3a"
            ],
            [
             0.8888888888888888,
             "#fdca26"
            ],
            [
             1,
             "#f0f921"
            ]
           ]
          },
          "colorway": [
           "#636efa",
           "#EF553B",
           "#00cc96",
           "#ab63fa",
           "#FFA15A",
           "#19d3f3",
           "#FF6692",
           "#B6E880",
           "#FF97FF",
           "#FECB52"
          ],
          "font": {
           "color": "#2a3f5f"
          },
          "geo": {
           "bgcolor": "white",
           "lakecolor": "white",
           "landcolor": "#E5ECF6",
           "showlakes": true,
           "showland": true,
           "subunitcolor": "white"
          },
          "hoverlabel": {
           "align": "left"
          },
          "hovermode": "closest",
          "mapbox": {
           "style": "light"
          },
          "paper_bgcolor": "white",
          "plot_bgcolor": "#E5ECF6",
          "polar": {
           "angularaxis": {
            "gridcolor": "white",
            "linecolor": "white",
            "ticks": ""
           },
           "bgcolor": "#E5ECF6",
           "radialaxis": {
            "gridcolor": "white",
            "linecolor": "white",
            "ticks": ""
           }
          },
          "scene": {
           "xaxis": {
            "backgroundcolor": "#E5ECF6",
            "gridcolor": "white",
            "gridwidth": 2,
            "linecolor": "white",
            "showbackground": true,
            "ticks": "",
            "zerolinecolor": "white"
           },
           "yaxis": {
            "backgroundcolor": "#E5ECF6",
            "gridcolor": "white",
            "gridwidth": 2,
            "linecolor": "white",
            "showbackground": true,
            "ticks": "",
            "zerolinecolor": "white"
           },
           "zaxis": {
            "backgroundcolor": "#E5ECF6",
            "gridcolor": "white",
            "gridwidth": 2,
            "linecolor": "white",
            "showbackground": true,
            "ticks": "",
            "zerolinecolor": "white"
           }
          },
          "shapedefaults": {
           "line": {
            "color": "#2a3f5f"
           }
          },
          "ternary": {
           "aaxis": {
            "gridcolor": "white",
            "linecolor": "white",
            "ticks": ""
           },
           "baxis": {
            "gridcolor": "white",
            "linecolor": "white",
            "ticks": ""
           },
           "bgcolor": "#E5ECF6",
           "caxis": {
            "gridcolor": "white",
            "linecolor": "white",
            "ticks": ""
           }
          },
          "title": {
           "x": 0.05
          },
          "xaxis": {
           "automargin": true,
           "gridcolor": "white",
           "linecolor": "white",
           "ticks": "",
           "title": {
            "standoff": 15
           },
           "zerolinecolor": "white",
           "zerolinewidth": 2
          },
          "yaxis": {
           "automargin": true,
           "gridcolor": "white",
           "linecolor": "white",
           "ticks": "",
           "title": {
            "standoff": 15
           },
           "zerolinecolor": "white",
           "zerolinewidth": 2
          }
         }
        },
        "title": {
         "font": {
          "color": "#4D5663"
         }
        },
        "xaxis": {
         "gridcolor": "#E1E5ED",
         "showgrid": true,
         "tickfont": {
          "color": "#4D5663"
         },
         "title": {
          "font": {
           "color": "#4D5663"
          },
          "text": ""
         },
         "zerolinecolor": "#E1E5ED"
        },
        "yaxis": {
         "gridcolor": "#E1E5ED",
         "showgrid": true,
         "tickfont": {
          "color": "#4D5663"
         },
         "title": {
          "font": {
           "color": "#4D5663"
          },
          "text": ""
         },
         "zerolinecolor": "#E1E5ED"
        }
       }
      },
      "text/html": [
       "<div>                            <div id=\"fd23b388-d6d4-4ded-9bdc-ff671b49b830\" class=\"plotly-graph-div\" style=\"height:525px; width:100%;\"></div>            <script type=\"text/javascript\">                require([\"plotly\"], function(Plotly) {                    window.PLOTLYENV=window.PLOTLYENV || {};\n",
       "                    window.PLOTLYENV.BASE_URL='https://plot.ly';                                    if (document.getElementById(\"fd23b388-d6d4-4ded-9bdc-ff671b49b830\")) {                    Plotly.newPlot(                        \"fd23b388-d6d4-4ded-9bdc-ff671b49b830\",                        [{\"line\":{\"color\":\"rgba(255, 153, 51, 1.0)\",\"dash\":\"solid\",\"shape\":\"linear\",\"width\":1.3},\"marker\":{\"size\":12,\"symbol\":\"circle\"},\"mode\":\"markers\",\"name\":\"ROI\",\"text\":[\"Vlahovic\",\"Dybala\",\"Gabbiadini\",\"Belotti\",\"Pussetto\",\"Boga\",\"Muriel\",\"Giroud\",\"Di Francesco F.\",\"Lammers\",\"Nzola\",\"Cancellieri\",\"Seck\",\"Arnautovic\",\"Ibrahimovic\",\"Piatek\",\"Sanabria\",\"Kallon\",\"Petagna\",\"Kean\",\"Cabral\",\"Gyasi\",\"Afena-Gyan\",\"Deulofeu\",\"Caputo\",\"Simeone\",\"Dzeko\",\"Okereke\",\"Ribery\",\"Antiste\",\"Strelec\",\"Pedro\",\"Bonazzoli\",\"Barrow\",\"Defrel\",\"Satriano\",\"Caprari\",\"Abraham\",\"Pellegri\",\"Success\",\"Sansone\",\"El Shaarawy\",\"Lozano\",\"Zapata D.\",\"Beto\",\"Kaio Jorge\",\"Shomurodov\",\"Pjaca\",\"Pinamonti\",\"Djuric\",\"Piccoli\",\"Politano\",\"Correa\",\"Quagliarella\",\"Henry\",\"Raspadori\",\"Martinez L.\",\"Lasagna\",\"Rebic\",\"Destro\",\"Nestorovski\",\"Ceide\",\"Rafael Leao\",\"Berardi\",\"Osimhen\",\"Verde\",\"Immobile\",\"Gonzalez N.\"],\"x\":[8.29,7.41,7.31,7.3,6.4,5.88,7.52,7.33,6.6,6.0,6.11,6.5,6.0,7.47,7.5,6.27,6.8,5.81,6.71,6.46,6.46,6.12,6.0,7.63,6.78,7.54,7.53,6.52,6.02,5.97,5.83,7.09,7.08,6.73,6.06,6.0,7.71,7.62,6.2,6.68,6.26,6.25,6.72,7.75,7.23,5.75,6.62,6.3,7.12,6.53,6.06,6.48,6.77,6.22,6.68,6.88,7.97,6.19,6.36,6.89,6.75,5.5,7.79,8.29,7.94,6.98,8.95,7.06],\"y\":[3.4702325581395344,2.561481481481482,58.48,3.2119999999999997,14.545454545454545,4.367999999999999,3.491428571428571,8.857083333333334,165.0,6.0,54.99,32.5,18.0,6.829714285714285,3.292682926829268,81.50999999999999,170.0,75.53,93.94,10.766666666666667,77.52,73.44,84.0,64.855,6.134285714285714,65.975,3.993181818181818,189.07999999999998,27.691999999999997,95.52,52.47,13.345882352941176,219.48,44.418,187.85999999999999,12.0,262.14,3.1326666666666667,62.0,126.91999999999999,143.98,50.0,12.991999999999999,2.268292682926829,202.44,11.5,13.24,126.0,256.32,208.96,48.48,15.452307692307695,4.293170731707317,23.325,69.02666666666666,5.054693877551021,2.8280645161290323,160.94,23.320000000000004,93.015,27.0,5.5,29.428888888888892,5.699375,2.061346153846154,46.068,2.3120833333333333,14.56125],\"type\":\"scatter\"}],                        {\"legend\":{\"bgcolor\":\"#F5F6F9\",\"font\":{\"color\":\"#4D5663\"}},\"paper_bgcolor\":\"#F5F6F9\",\"plot_bgcolor\":\"#F5F6F9\",\"template\":{\"data\":{\"barpolar\":[{\"marker\":{\"line\":{\"color\":\"#E5ECF6\",\"width\":0.5},\"pattern\":{\"fillmode\":\"overlay\",\"size\":10,\"solidity\":0.2}},\"type\":\"barpolar\"}],\"bar\":[{\"error_x\":{\"color\":\"#2a3f5f\"},\"error_y\":{\"color\":\"#2a3f5f\"},\"marker\":{\"line\":{\"color\":\"#E5ECF6\",\"width\":0.5},\"pattern\":{\"fillmode\":\"overlay\",\"size\":10,\"solidity\":0.2}},\"type\":\"bar\"}],\"carpet\":[{\"aaxis\":{\"endlinecolor\":\"#2a3f5f\",\"gridcolor\":\"white\",\"linecolor\":\"white\",\"minorgridcolor\":\"white\",\"startlinecolor\":\"#2a3f5f\"},\"baxis\":{\"endlinecolor\":\"#2a3f5f\",\"gridcolor\":\"white\",\"linecolor\":\"white\",\"minorgridcolor\":\"white\",\"startlinecolor\":\"#2a3f5f\"},\"type\":\"carpet\"}],\"choropleth\":[{\"colorbar\":{\"outlinewidth\":0,\"ticks\":\"\"},\"type\":\"choropleth\"}],\"contourcarpet\":[{\"colorbar\":{\"outlinewidth\":0,\"ticks\":\"\"},\"type\":\"contourcarpet\"}],\"contour\":[{\"colorbar\":{\"outlinewidth\":0,\"ticks\":\"\"},\"colorscale\":[[0.0,\"#0d0887\"],[0.1111111111111111,\"#46039f\"],[0.2222222222222222,\"#7201a8\"],[0.3333333333333333,\"#9c179e\"],[0.4444444444444444,\"#bd3786\"],[0.5555555555555556,\"#d8576b\"],[0.6666666666666666,\"#ed7953\"],[0.7777777777777778,\"#fb9f3a\"],[0.8888888888888888,\"#fdca26\"],[1.0,\"#f0f921\"]],\"type\":\"contour\"}],\"heatmapgl\":[{\"colorbar\":{\"outlinewidth\":0,\"ticks\":\"\"},\"colorscale\":[[0.0,\"#0d0887\"],[0.1111111111111111,\"#46039f\"],[0.2222222222222222,\"#7201a8\"],[0.3333333333333333,\"#9c179e\"],[0.4444444444444444,\"#bd3786\"],[0.5555555555555556,\"#d8576b\"],[0.6666666666666666,\"#ed7953\"],[0.7777777777777778,\"#fb9f3a\"],[0.8888888888888888,\"#fdca26\"],[1.0,\"#f0f921\"]],\"type\":\"heatmapgl\"}],\"heatmap\":[{\"colorbar\":{\"outlinewidth\":0,\"ticks\":\"\"},\"colorscale\":[[0.0,\"#0d0887\"],[0.1111111111111111,\"#46039f\"],[0.2222222222222222,\"#7201a8\"],[0.3333333333333333,\"#9c179e\"],[0.4444444444444444,\"#bd3786\"],[0.5555555555555556,\"#d8576b\"],[0.6666666666666666,\"#ed7953\"],[0.7777777777777778,\"#fb9f3a\"],[0.8888888888888888,\"#fdca26\"],[1.0,\"#f0f921\"]],\"type\":\"heatmap\"}],\"histogram2dcontour\":[{\"colorbar\":{\"outlinewidth\":0,\"ticks\":\"\"},\"colorscale\":[[0.0,\"#0d0887\"],[0.1111111111111111,\"#46039f\"],[0.2222222222222222,\"#7201a8\"],[0.3333333333333333,\"#9c179e\"],[0.4444444444444444,\"#bd3786\"],[0.5555555555555556,\"#d8576b\"],[0.6666666666666666,\"#ed7953\"],[0.7777777777777778,\"#fb9f3a\"],[0.8888888888888888,\"#fdca26\"],[1.0,\"#f0f921\"]],\"type\":\"histogram2dcontour\"}],\"histogram2d\":[{\"colorbar\":{\"outlinewidth\":0,\"ticks\":\"\"},\"colorscale\":[[0.0,\"#0d0887\"],[0.1111111111111111,\"#46039f\"],[0.2222222222222222,\"#7201a8\"],[0.3333333333333333,\"#9c179e\"],[0.4444444444444444,\"#bd3786\"],[0.5555555555555556,\"#d8576b\"],[0.6666666666666666,\"#ed7953\"],[0.7777777777777778,\"#fb9f3a\"],[0.8888888888888888,\"#fdca26\"],[1.0,\"#f0f921\"]],\"type\":\"histogram2d\"}],\"histogram\":[{\"marker\":{\"pattern\":{\"fillmode\":\"overlay\",\"size\":10,\"solidity\":0.2}},\"type\":\"histogram\"}],\"mesh3d\":[{\"colorbar\":{\"outlinewidth\":0,\"ticks\":\"\"},\"type\":\"mesh3d\"}],\"parcoords\":[{\"line\":{\"colorbar\":{\"outlinewidth\":0,\"ticks\":\"\"}},\"type\":\"parcoords\"}],\"pie\":[{\"automargin\":true,\"type\":\"pie\"}],\"scatter3d\":[{\"line\":{\"colorbar\":{\"outlinewidth\":0,\"ticks\":\"\"}},\"marker\":{\"colorbar\":{\"outlinewidth\":0,\"ticks\":\"\"}},\"type\":\"scatter3d\"}],\"scattercarpet\":[{\"marker\":{\"colorbar\":{\"outlinewidth\":0,\"ticks\":\"\"}},\"type\":\"scattercarpet\"}],\"scattergeo\":[{\"marker\":{\"colorbar\":{\"outlinewidth\":0,\"ticks\":\"\"}},\"type\":\"scattergeo\"}],\"scattergl\":[{\"marker\":{\"colorbar\":{\"outlinewidth\":0,\"ticks\":\"\"}},\"type\":\"scattergl\"}],\"scattermapbox\":[{\"marker\":{\"colorbar\":{\"outlinewidth\":0,\"ticks\":\"\"}},\"type\":\"scattermapbox\"}],\"scatterpolargl\":[{\"marker\":{\"colorbar\":{\"outlinewidth\":0,\"ticks\":\"\"}},\"type\":\"scatterpolargl\"}],\"scatterpolar\":[{\"marker\":{\"colorbar\":{\"outlinewidth\":0,\"ticks\":\"\"}},\"type\":\"scatterpolar\"}],\"scatter\":[{\"fillpattern\":{\"fillmode\":\"overlay\",\"size\":10,\"solidity\":0.2},\"type\":\"scatter\"}],\"scatterternary\":[{\"marker\":{\"colorbar\":{\"outlinewidth\":0,\"ticks\":\"\"}},\"type\":\"scatterternary\"}],\"surface\":[{\"colorbar\":{\"outlinewidth\":0,\"ticks\":\"\"},\"colorscale\":[[0.0,\"#0d0887\"],[0.1111111111111111,\"#46039f\"],[0.2222222222222222,\"#7201a8\"],[0.3333333333333333,\"#9c179e\"],[0.4444444444444444,\"#bd3786\"],[0.5555555555555556,\"#d8576b\"],[0.6666666666666666,\"#ed7953\"],[0.7777777777777778,\"#fb9f3a\"],[0.8888888888888888,\"#fdca26\"],[1.0,\"#f0f921\"]],\"type\":\"surface\"}],\"table\":[{\"cells\":{\"fill\":{\"color\":\"#EBF0F8\"},\"line\":{\"color\":\"white\"}},\"header\":{\"fill\":{\"color\":\"#C8D4E3\"},\"line\":{\"color\":\"white\"}},\"type\":\"table\"}]},\"layout\":{\"annotationdefaults\":{\"arrowcolor\":\"#2a3f5f\",\"arrowhead\":0,\"arrowwidth\":1},\"autotypenumbers\":\"strict\",\"coloraxis\":{\"colorbar\":{\"outlinewidth\":0,\"ticks\":\"\"}},\"colorscale\":{\"diverging\":[[0,\"#8e0152\"],[0.1,\"#c51b7d\"],[0.2,\"#de77ae\"],[0.3,\"#f1b6da\"],[0.4,\"#fde0ef\"],[0.5,\"#f7f7f7\"],[0.6,\"#e6f5d0\"],[0.7,\"#b8e186\"],[0.8,\"#7fbc41\"],[0.9,\"#4d9221\"],[1,\"#276419\"]],\"sequential\":[[0.0,\"#0d0887\"],[0.1111111111111111,\"#46039f\"],[0.2222222222222222,\"#7201a8\"],[0.3333333333333333,\"#9c179e\"],[0.4444444444444444,\"#bd3786\"],[0.5555555555555556,\"#d8576b\"],[0.6666666666666666,\"#ed7953\"],[0.7777777777777778,\"#fb9f3a\"],[0.8888888888888888,\"#fdca26\"],[1.0,\"#f0f921\"]],\"sequentialminus\":[[0.0,\"#0d0887\"],[0.1111111111111111,\"#46039f\"],[0.2222222222222222,\"#7201a8\"],[0.3333333333333333,\"#9c179e\"],[0.4444444444444444,\"#bd3786\"],[0.5555555555555556,\"#d8576b\"],[0.6666666666666666,\"#ed7953\"],[0.7777777777777778,\"#fb9f3a\"],[0.8888888888888888,\"#fdca26\"],[1.0,\"#f0f921\"]]},\"colorway\":[\"#636efa\",\"#EF553B\",\"#00cc96\",\"#ab63fa\",\"#FFA15A\",\"#19d3f3\",\"#FF6692\",\"#B6E880\",\"#FF97FF\",\"#FECB52\"],\"font\":{\"color\":\"#2a3f5f\"},\"geo\":{\"bgcolor\":\"white\",\"lakecolor\":\"white\",\"landcolor\":\"#E5ECF6\",\"showlakes\":true,\"showland\":true,\"subunitcolor\":\"white\"},\"hoverlabel\":{\"align\":\"left\"},\"hovermode\":\"closest\",\"mapbox\":{\"style\":\"light\"},\"paper_bgcolor\":\"white\",\"plot_bgcolor\":\"#E5ECF6\",\"polar\":{\"angularaxis\":{\"gridcolor\":\"white\",\"linecolor\":\"white\",\"ticks\":\"\"},\"bgcolor\":\"#E5ECF6\",\"radialaxis\":{\"gridcolor\":\"white\",\"linecolor\":\"white\",\"ticks\":\"\"}},\"scene\":{\"xaxis\":{\"backgroundcolor\":\"#E5ECF6\",\"gridcolor\":\"white\",\"gridwidth\":2,\"linecolor\":\"white\",\"showbackground\":true,\"ticks\":\"\",\"zerolinecolor\":\"white\"},\"yaxis\":{\"backgroundcolor\":\"#E5ECF6\",\"gridcolor\":\"white\",\"gridwidth\":2,\"linecolor\":\"white\",\"showbackground\":true,\"ticks\":\"\",\"zerolinecolor\":\"white\"},\"zaxis\":{\"backgroundcolor\":\"#E5ECF6\",\"gridcolor\":\"white\",\"gridwidth\":2,\"linecolor\":\"white\",\"showbackground\":true,\"ticks\":\"\",\"zerolinecolor\":\"white\"}},\"shapedefaults\":{\"line\":{\"color\":\"#2a3f5f\"}},\"ternary\":{\"aaxis\":{\"gridcolor\":\"white\",\"linecolor\":\"white\",\"ticks\":\"\"},\"baxis\":{\"gridcolor\":\"white\",\"linecolor\":\"white\",\"ticks\":\"\"},\"bgcolor\":\"#E5ECF6\",\"caxis\":{\"gridcolor\":\"white\",\"linecolor\":\"white\",\"ticks\":\"\"}},\"title\":{\"x\":0.05},\"xaxis\":{\"automargin\":true,\"gridcolor\":\"white\",\"linecolor\":\"white\",\"ticks\":\"\",\"title\":{\"standoff\":15},\"zerolinecolor\":\"white\",\"zerolinewidth\":2},\"yaxis\":{\"automargin\":true,\"gridcolor\":\"white\",\"linecolor\":\"white\",\"ticks\":\"\",\"title\":{\"standoff\":15},\"zerolinecolor\":\"white\",\"zerolinewidth\":2}}},\"title\":{\"font\":{\"color\":\"#4D5663\"}},\"xaxis\":{\"gridcolor\":\"#E1E5ED\",\"showgrid\":true,\"tickfont\":{\"color\":\"#4D5663\"},\"title\":{\"font\":{\"color\":\"#4D5663\"},\"text\":\"\"},\"zerolinecolor\":\"#E1E5ED\"},\"yaxis\":{\"gridcolor\":\"#E1E5ED\",\"showgrid\":true,\"tickfont\":{\"color\":\"#4D5663\"},\"title\":{\"font\":{\"color\":\"#4D5663\"},\"text\":\"\"},\"zerolinecolor\":\"#E1E5ED\"}},                        {\"showLink\": true, \"linkText\": \"Export to plot.ly\", \"plotlyServerURL\": \"https://plot.ly\", \"responsive\": true}                    ).then(function(){\n",
       "                            \n",
       "var gd = document.getElementById('fd23b388-d6d4-4ded-9bdc-ff671b49b830');\n",
       "var x = new MutationObserver(function (mutations, observer) {{\n",
       "        var display = window.getComputedStyle(gd).display;\n",
       "        if (!display || display === 'none') {{\n",
       "            console.log([gd, 'removed!']);\n",
       "            Plotly.purge(gd);\n",
       "            observer.disconnect();\n",
       "        }}\n",
       "}});\n",
       "\n",
       "// Listen for the removal of the full notebook cells\n",
       "var notebookContainer = gd.closest('#notebook-container');\n",
       "if (notebookContainer) {{\n",
       "    x.observe(notebookContainer, {childList: true});\n",
       "}}\n",
       "\n",
       "// Listen for the clearing of the current output cell\n",
       "var outputEl = gd.closest('.output');\n",
       "if (outputEl) {{\n",
       "    x.observe(outputEl, {childList: true});\n",
       "}}\n",
       "\n",
       "                        })                };                });            </script>        </div>"
      ]
     },
     "metadata": {},
     "output_type": "display_data"
    }
   ],
   "source": [
    "# Migliori attaccanti per ROI-Fantamedia\n",
    "%matplotlib inline\n",
    "roi_serie_a[roi_serie_a['R']== 'A'].iplot(kind='scatter', x='Mf', y='ROI', mode='markers', text='Nome')"
   ]
  },
  {
   "cell_type": "markdown",
   "id": "ac3516d6",
   "metadata": {},
   "source": [
    "In attacco Beto, Pinamonti, Caprari e Bonazzoli sono risultati giocatori estremamente utili in attacco"
   ]
  }
 ],
 "metadata": {
  "kernelspec": {
   "display_name": "Python 3 (ipykernel)",
   "language": "python",
   "name": "python3"
  },
  "language_info": {
   "codemirror_mode": {
    "name": "ipython",
    "version": 3
   },
   "file_extension": ".py",
   "mimetype": "text/x-python",
   "name": "python",
   "nbconvert_exporter": "python",
   "pygments_lexer": "ipython3",
   "version": "3.10.4"
  },
  "varInspector": {
   "cols": {
    "lenName": 16,
    "lenType": 16,
    "lenVar": 40
   },
   "kernels_config": {
    "python": {
     "delete_cmd_postfix": "",
     "delete_cmd_prefix": "del ",
     "library": "var_list.py",
     "varRefreshCmd": "print(var_dic_list())"
    },
    "r": {
     "delete_cmd_postfix": ") ",
     "delete_cmd_prefix": "rm(",
     "library": "var_list.r",
     "varRefreshCmd": "cat(var_dic_list()) "
    }
   },
   "types_to_exclude": [
    "module",
    "function",
    "builtin_function_or_method",
    "instance",
    "_Feature"
   ],
   "window_display": false
  }
 },
 "nbformat": 4,
 "nbformat_minor": 5
}
